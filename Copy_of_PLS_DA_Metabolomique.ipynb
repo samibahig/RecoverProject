{
 "nbformat": 4,
 "nbformat_minor": 0,
 "metadata": {
  "colab": {
   "name": "Copy of PLS-DA_Metabolomique",
   "provenance": [],
   "authorship_tag": "ABX9TyOlw8GAxPi8e2igjsf7gH4m",
   "include_colab_link": true
  },
  "kernelspec": {
   "name": "python3",
   "display_name": "Python 3"
  },
  "language_info": {
   "name": "python"
  },
  "pycharm": {
   "stem_cell": {
    "cell_type": "raw",
    "source": [
     "\n",
     "import numpy as np\n",
     "import pandas as pd\n",
     "import matplotlib.pyplot as plt\n",
     "import pickle as pkl\n",
     "%matplotlib inline\n",
     "import matplotlib.pyplot as plt\n",
     "import matplotlib.colors as mcolors\n",
     "import numpy as np\n",
     "import pandas as pd\n",
     "import sklearn\n",
     "import os\n",
     "plt.style.use('ggplot')\n",
     "#print('\\nMETADATA :')\n",
     "data_path = ''\n",
     "metadata_filename = data_path + '/content/metadata.csv'\n",
     "meta_df = pd.read_csv(metadata_filename)\n",
     "#print(meta_df.columns)\n",
     "meta_df.columns = ['#', 'plate', '-', 'symptoms'] + list(meta_df)[4:]\n",
     "#print(meta_df.columns)\n",
     "#print('available metadata :', list(meta_df))\n",
     "meta_idx = meta_df['ID'].to_list()\n",
     "meta_label = meta_df['symptoms'].to_list()\n",
     "#print('------------------')\n",
     "#print(list(zip(meta_idx, meta_label)))\n",
     "#print('------------------')\n",
     "meta_id_label_dict = {str(k): 1 if v=='S' else 0 for k, v in zip(meta_idx, meta_label)}\n",
     "\n",
     "\n",
     "data_path = ''\n",
     "print('\\nMETABOLOMICS DATA :')\n",
     "metabolomics_data_filename = data_path + '/content/metabolomics.csv'\n",
     "feat_df = pd.read_csv(metabolomics_data_filename, index_col=0, skiprows=[0], dtype=str, usecols=[0])\n",
     "features = list(feat_df.index.values)\n",
     "print('# of features : ', len(features))\n",
     "print('first feature :', features[0])\n",
     "print('last feature :', features[-1])\n",
     "col_list = [\"Group\"]\n",
     "column1 = pd.read_csv(metabolomics_data_filename, usecols=col_list)\n",
     "print('----------')\n",
     "column1 = column1['Group'].to_list()\n",
     "print(column1[1:])\n",
     "\n",
     "print('----------')\n",
     "idx_df = pd.read_csv(metabolomics_data_filename, header=1, nrows=1, encoding='unicode_escape')\n",
     "print(idx_df)\n",
     "idx = list(idx_df)[1:]\n",
     "idx = [l[17:22] for l in idx]\n",
     "labels_df = pd.read_csv(metabolomics_data_filename, nrows=1)\n",
     "labels = list(labels_df)[1:]\n",
     "print('# of labels : ', len(labels))\n",
     "\n",
     "cols_df = pd.read_csv(metabolomics_data_filename, header=1, nrows=1, encoding='unicode_escape')\n",
     "cols_list = list(cols_df)\n",
     "\n",
     "df3 = pd.read_csv(metabolomics_data_filename, header=1, na_values=['#DIV/0!'], usecols=cols_list[1:], encoding='unicode_escape')\n",
     "df3 = df3.T\n",
     "df3['idx'] = idx\n",
     "df3.set_index('idx', inplace=True)\n",
     "df3.columns = features\n",
     "df3 = df3.dropna(axis=1)\n",
     "\n",
     "#clean data of samples that are not in metadata :\n",
     "idx = df3.index.values\n",
     "y = []\n",
     "for k in range(len(idx)):\n",
     "    id = idx[k]\n",
     "    if id in meta_id_label_dict:\n",
     "        y.append(meta_id_label_dict[id])\n",
     "    else:\n",
     "        # we will not put this sample in the dataset\n",
     "        #print('sample to remove because of unknown label:', k, id)\n",
     "        y.append('to_remove')\n",
     "df3['label'] = y\n",
     "df3 = df3[df3.label != 'to_remove']\n",
     "\n",
     "#create X and y matrices for ML :\n",
     "y = list(df3['label'])\n",
     "print(y)\n",
     "del df3['label']\n",
     "X = df3.to_numpy()\n",
     "\n",
     "print('metabolomics data :')\n",
     "print('# of samples : ', df3.shape[0])\n",
     "print('# of features : ', df3.shape[1])\n",
     "print('labels:', list(dict.fromkeys(y)))\n",
     "\n",
     "## to concatenate the 2 proteomics dataframes and the metabolomics if you want :\n",
     "##df = pd.concat([df_1_2, df3], axis=1)\n",
     "##df = df.dropna(axis=0)\n",
     "##print('multi-omics df :')\n",
     "##print('# of samples : ', df.shape[0])\n",
     "##print('# of features : ', df.shape[1])\n"
    ],
    "metadata": {
     "collapsed": false
    }
   }
  }
 },
 "cells": [
  {
   "cell_type": "code",
   "metadata": {
    "id": "R7EdYeA5qzdq",
    "colab": {
     "base_uri": "https://localhost:8080/"
    },
    "outputId": "c5bd3a10-71ec-4f02-ab1d-6a442ff8f110"
   },
   "source": [
    "from sklearn.model_selection import GridSearchCV\n",
    "from sklearn.model_selection import train_test_split\n",
    "from sklearn.metrics import accuracy_score\n",
    "from sklearn.cross_decomposition import PLSRegression\n",
    "\n",
    "X_train, X_test, y_train, y_test = train_test_split(X, y, test_size=0.2, random_state=42)\n",
    "pls_param_grid = {\"n_components\" : [2,3,4,5,6]}\n",
    "pls = PLSRegression(scale=True)\n",
    "gc_pls = GridSearchCV(pls, pls_param_grid, cv=5, n_jobs=6)\n",
    "gc_pls.fit(X_train, y_train)\n",
    "\n",
    "pred = gc_pls.predict(X_train)\n",
    "pred = [1 if i >=0 else 0 for i in pred]\n",
    "print(\"Train accuracy score: {}\".format(accuracy_score(y_train, pred)))\n",
    "\n",
    "pred = gc_pls.predict(X_test)\n",
    "pred = [1 if i >=0 else 0 for i in pred]\n",
    "print(\"Test accuracy score: {}\".format(accuracy_score(y_test, pred)))"
   ],
   "execution_count": 2,
   "outputs": [
    {
     "output_type": "stream",
     "text": [
      "Train accuracy score: 0.675\n",
      "Test accuracy score: 0.8\n"
     ],
     "name": "stdout"
    }
   ]
  },
  {
   "cell_type": "code",
   "metadata": {
    "id": "0q4YRMOlYG6_",
    "colab": {
     "base_uri": "https://localhost:8080/"
    },
    "outputId": "d8a11d0b-8a21-4130-b1ae-83db77ff9c56"
   },
   "source": [
    "from sklearn.model_selection import GridSearchCV\n",
    "from sklearn.model_selection import train_test_split\n",
    "from sklearn.metrics import accuracy_score\n",
    "from sklearn.cross_decomposition import PLSRegression\n",
    "#### Bootstrapping ####\n",
    "########################################################\n",
    "# Creating empty list to hold accuracy values\n",
    "AccuracyValues=[]\n",
    "n_times=60\n",
    "## Performing bootstrapping\n",
    "from sklearn import metrics\n",
    "for i in range(n_times):\n",
    "    #Split the data into training and testing set\n",
    "    from sklearn.model_selection import train_test_split\n",
    "    # Changing the seed value for each iteration\n",
    "    X_train, X_test, y_train, y_test = train_test_split(X, y, test_size=0.2, random_state=42+i)\n",
    "    pls_param_grid = {\"n_components\" : [2,3,4,5,6]}\n",
    "    result = PLSRegression(scale=True)\n",
    "    result.fit(X_train, y_train)\n",
    "    ########################################################\n",
    "    predictions = result.predict(X_test)\n",
    "    pred = [1 if i >=0 else 0 for i in pred]\n",
    "    print(\"Test accuracy score: {}\".format(accuracy_score(y_test, pred)))\n",
    "    #Accuracy=metrics.accuracy_score(y_test, predictions)\n",
    "    print(Accuracy)\n",
    "    AccuracyValues.append((Accuracy))\n",
    "    #print(Accuracy)\n",
    "    print(AccuracyValues)\n",
    "\n",
    "###### Single Decision Tree Regression in Python #######\n",
    "    #choose from different tunable hyper parameters\n",
    "    #RegModel = tree.DecisionTreeRegressor(max_depth=3,criterion='mse')\n",
    " \n",
    "    #Creating the model on Training Data\n",
    "    #DTree=RegModel.fit(X_train,y_train)\n",
    "    #prediction=DTree.predict(X_test)\n",
    " \n",
    "    #Measuring accuracy on Testing Data\n",
    "#Accuracy=100- (np.mean(np.abs((y_test - prediction) / y_test)) * 100)\n",
    "    \n",
    "    # Storing accuracy values\n",
    "#AccuracyValues.append(np.round(Accuracy))\n",
    "    \n",
    "################################################\n",
    "# Result of all bootstrapping trials\n",
    "print(AccuracyValues)\n",
    " \n",
    "# Final accuracy\n",
    "print('Final average accuracy', np.mean(AccuracyValues), 'std', np.std(AccuracyValues))\n",
    "#print(\"Test Accuracy:\", metrics.accuracy_score(y_test, y_final ))"
   ],
   "execution_count": null,
   "outputs": [
    {
     "output_type": "stream",
     "text": [
      "Test accuracy score: 0.6\n",
      "0.75\n",
      "[0.75]\n",
      "Test accuracy score: 0.55\n",
      "0.75\n",
      "[0.75, 0.75]\n",
      "Test accuracy score: 0.5\n",
      "0.75\n",
      "[0.75, 0.75, 0.75]\n",
      "Test accuracy score: 0.5\n",
      "0.75\n",
      "[0.75, 0.75, 0.75, 0.75]\n",
      "Test accuracy score: 0.6\n",
      "0.75\n",
      "[0.75, 0.75, 0.75, 0.75, 0.75]\n",
      "Test accuracy score: 0.45\n",
      "0.75\n",
      "[0.75, 0.75, 0.75, 0.75, 0.75, 0.75]\n",
      "Test accuracy score: 0.35\n",
      "0.75\n",
      "[0.75, 0.75, 0.75, 0.75, 0.75, 0.75, 0.75]\n",
      "Test accuracy score: 0.55\n",
      "0.75\n",
      "[0.75, 0.75, 0.75, 0.75, 0.75, 0.75, 0.75, 0.75]\n",
      "Test accuracy score: 0.6\n",
      "0.75\n",
      "[0.75, 0.75, 0.75, 0.75, 0.75, 0.75, 0.75, 0.75, 0.75]\n",
      "Test accuracy score: 0.45\n",
      "0.75\n",
      "[0.75, 0.75, 0.75, 0.75, 0.75, 0.75, 0.75, 0.75, 0.75, 0.75]\n",
      "Test accuracy score: 0.45\n",
      "0.75\n",
      "[0.75, 0.75, 0.75, 0.75, 0.75, 0.75, 0.75, 0.75, 0.75, 0.75, 0.75]\n",
      "Test accuracy score: 0.4\n",
      "0.75\n",
      "[0.75, 0.75, 0.75, 0.75, 0.75, 0.75, 0.75, 0.75, 0.75, 0.75, 0.75, 0.75]\n",
      "Test accuracy score: 0.55\n",
      "0.75\n",
      "[0.75, 0.75, 0.75, 0.75, 0.75, 0.75, 0.75, 0.75, 0.75, 0.75, 0.75, 0.75, 0.75]\n",
      "Test accuracy score: 0.5\n",
      "0.75\n",
      "[0.75, 0.75, 0.75, 0.75, 0.75, 0.75, 0.75, 0.75, 0.75, 0.75, 0.75, 0.75, 0.75, 0.75]\n",
      "Test accuracy score: 0.5\n",
      "0.75\n",
      "[0.75, 0.75, 0.75, 0.75, 0.75, 0.75, 0.75, 0.75, 0.75, 0.75, 0.75, 0.75, 0.75, 0.75, 0.75]\n",
      "Test accuracy score: 0.45\n",
      "0.75\n",
      "[0.75, 0.75, 0.75, 0.75, 0.75, 0.75, 0.75, 0.75, 0.75, 0.75, 0.75, 0.75, 0.75, 0.75, 0.75, 0.75]\n",
      "Test accuracy score: 0.45\n",
      "0.75\n",
      "[0.75, 0.75, 0.75, 0.75, 0.75, 0.75, 0.75, 0.75, 0.75, 0.75, 0.75, 0.75, 0.75, 0.75, 0.75, 0.75, 0.75]\n",
      "Test accuracy score: 0.6\n",
      "0.75\n",
      "[0.75, 0.75, 0.75, 0.75, 0.75, 0.75, 0.75, 0.75, 0.75, 0.75, 0.75, 0.75, 0.75, 0.75, 0.75, 0.75, 0.75, 0.75]\n",
      "Test accuracy score: 0.55\n",
      "0.75\n",
      "[0.75, 0.75, 0.75, 0.75, 0.75, 0.75, 0.75, 0.75, 0.75, 0.75, 0.75, 0.75, 0.75, 0.75, 0.75, 0.75, 0.75, 0.75, 0.75]\n",
      "Test accuracy score: 0.5\n",
      "0.75\n",
      "[0.75, 0.75, 0.75, 0.75, 0.75, 0.75, 0.75, 0.75, 0.75, 0.75, 0.75, 0.75, 0.75, 0.75, 0.75, 0.75, 0.75, 0.75, 0.75, 0.75]\n",
      "Test accuracy score: 0.35\n",
      "0.75\n",
      "[0.75, 0.75, 0.75, 0.75, 0.75, 0.75, 0.75, 0.75, 0.75, 0.75, 0.75, 0.75, 0.75, 0.75, 0.75, 0.75, 0.75, 0.75, 0.75, 0.75, 0.75]\n",
      "Test accuracy score: 0.35\n",
      "0.75\n",
      "[0.75, 0.75, 0.75, 0.75, 0.75, 0.75, 0.75, 0.75, 0.75, 0.75, 0.75, 0.75, 0.75, 0.75, 0.75, 0.75, 0.75, 0.75, 0.75, 0.75, 0.75, 0.75]\n",
      "Test accuracy score: 0.6\n",
      "0.75\n",
      "[0.75, 0.75, 0.75, 0.75, 0.75, 0.75, 0.75, 0.75, 0.75, 0.75, 0.75, 0.75, 0.75, 0.75, 0.75, 0.75, 0.75, 0.75, 0.75, 0.75, 0.75, 0.75, 0.75]\n",
      "Test accuracy score: 0.45\n",
      "0.75\n",
      "[0.75, 0.75, 0.75, 0.75, 0.75, 0.75, 0.75, 0.75, 0.75, 0.75, 0.75, 0.75, 0.75, 0.75, 0.75, 0.75, 0.75, 0.75, 0.75, 0.75, 0.75, 0.75, 0.75, 0.75]\n",
      "Test accuracy score: 0.55\n",
      "0.75\n",
      "[0.75, 0.75, 0.75, 0.75, 0.75, 0.75, 0.75, 0.75, 0.75, 0.75, 0.75, 0.75, 0.75, 0.75, 0.75, 0.75, 0.75, 0.75, 0.75, 0.75, 0.75, 0.75, 0.75, 0.75, 0.75]\n",
      "Test accuracy score: 0.55\n",
      "0.75\n",
      "[0.75, 0.75, 0.75, 0.75, 0.75, 0.75, 0.75, 0.75, 0.75, 0.75, 0.75, 0.75, 0.75, 0.75, 0.75, 0.75, 0.75, 0.75, 0.75, 0.75, 0.75, 0.75, 0.75, 0.75, 0.75, 0.75]\n",
      "Test accuracy score: 0.5\n",
      "0.75\n",
      "[0.75, 0.75, 0.75, 0.75, 0.75, 0.75, 0.75, 0.75, 0.75, 0.75, 0.75, 0.75, 0.75, 0.75, 0.75, 0.75, 0.75, 0.75, 0.75, 0.75, 0.75, 0.75, 0.75, 0.75, 0.75, 0.75, 0.75]\n",
      "Test accuracy score: 0.4\n",
      "0.75\n",
      "[0.75, 0.75, 0.75, 0.75, 0.75, 0.75, 0.75, 0.75, 0.75, 0.75, 0.75, 0.75, 0.75, 0.75, 0.75, 0.75, 0.75, 0.75, 0.75, 0.75, 0.75, 0.75, 0.75, 0.75, 0.75, 0.75, 0.75, 0.75]\n",
      "Test accuracy score: 0.4\n",
      "0.75\n",
      "[0.75, 0.75, 0.75, 0.75, 0.75, 0.75, 0.75, 0.75, 0.75, 0.75, 0.75, 0.75, 0.75, 0.75, 0.75, 0.75, 0.75, 0.75, 0.75, 0.75, 0.75, 0.75, 0.75, 0.75, 0.75, 0.75, 0.75, 0.75, 0.75]\n",
      "Test accuracy score: 0.4\n",
      "0.75\n",
      "[0.75, 0.75, 0.75, 0.75, 0.75, 0.75, 0.75, 0.75, 0.75, 0.75, 0.75, 0.75, 0.75, 0.75, 0.75, 0.75, 0.75, 0.75, 0.75, 0.75, 0.75, 0.75, 0.75, 0.75, 0.75, 0.75, 0.75, 0.75, 0.75, 0.75]\n",
      "Test accuracy score: 0.5\n",
      "0.75\n",
      "[0.75, 0.75, 0.75, 0.75, 0.75, 0.75, 0.75, 0.75, 0.75, 0.75, 0.75, 0.75, 0.75, 0.75, 0.75, 0.75, 0.75, 0.75, 0.75, 0.75, 0.75, 0.75, 0.75, 0.75, 0.75, 0.75, 0.75, 0.75, 0.75, 0.75, 0.75]\n",
      "Test accuracy score: 0.5\n",
      "0.75\n",
      "[0.75, 0.75, 0.75, 0.75, 0.75, 0.75, 0.75, 0.75, 0.75, 0.75, 0.75, 0.75, 0.75, 0.75, 0.75, 0.75, 0.75, 0.75, 0.75, 0.75, 0.75, 0.75, 0.75, 0.75, 0.75, 0.75, 0.75, 0.75, 0.75, 0.75, 0.75, 0.75]\n",
      "Test accuracy score: 0.65\n",
      "0.75\n",
      "[0.75, 0.75, 0.75, 0.75, 0.75, 0.75, 0.75, 0.75, 0.75, 0.75, 0.75, 0.75, 0.75, 0.75, 0.75, 0.75, 0.75, 0.75, 0.75, 0.75, 0.75, 0.75, 0.75, 0.75, 0.75, 0.75, 0.75, 0.75, 0.75, 0.75, 0.75, 0.75, 0.75]\n",
      "Test accuracy score: 0.5\n",
      "0.75\n",
      "[0.75, 0.75, 0.75, 0.75, 0.75, 0.75, 0.75, 0.75, 0.75, 0.75, 0.75, 0.75, 0.75, 0.75, 0.75, 0.75, 0.75, 0.75, 0.75, 0.75, 0.75, 0.75, 0.75, 0.75, 0.75, 0.75, 0.75, 0.75, 0.75, 0.75, 0.75, 0.75, 0.75, 0.75]\n",
      "Test accuracy score: 0.65\n",
      "0.75\n",
      "[0.75, 0.75, 0.75, 0.75, 0.75, 0.75, 0.75, 0.75, 0.75, 0.75, 0.75, 0.75, 0.75, 0.75, 0.75, 0.75, 0.75, 0.75, 0.75, 0.75, 0.75, 0.75, 0.75, 0.75, 0.75, 0.75, 0.75, 0.75, 0.75, 0.75, 0.75, 0.75, 0.75, 0.75, 0.75]\n",
      "Test accuracy score: 0.45\n",
      "0.75\n",
      "[0.75, 0.75, 0.75, 0.75, 0.75, 0.75, 0.75, 0.75, 0.75, 0.75, 0.75, 0.75, 0.75, 0.75, 0.75, 0.75, 0.75, 0.75, 0.75, 0.75, 0.75, 0.75, 0.75, 0.75, 0.75, 0.75, 0.75, 0.75, 0.75, 0.75, 0.75, 0.75, 0.75, 0.75, 0.75, 0.75]\n",
      "Test accuracy score: 0.7\n",
      "0.75\n",
      "[0.75, 0.75, 0.75, 0.75, 0.75, 0.75, 0.75, 0.75, 0.75, 0.75, 0.75, 0.75, 0.75, 0.75, 0.75, 0.75, 0.75, 0.75, 0.75, 0.75, 0.75, 0.75, 0.75, 0.75, 0.75, 0.75, 0.75, 0.75, 0.75, 0.75, 0.75, 0.75, 0.75, 0.75, 0.75, 0.75, 0.75]\n",
      "Test accuracy score: 0.65\n",
      "0.75\n",
      "[0.75, 0.75, 0.75, 0.75, 0.75, 0.75, 0.75, 0.75, 0.75, 0.75, 0.75, 0.75, 0.75, 0.75, 0.75, 0.75, 0.75, 0.75, 0.75, 0.75, 0.75, 0.75, 0.75, 0.75, 0.75, 0.75, 0.75, 0.75, 0.75, 0.75, 0.75, 0.75, 0.75, 0.75, 0.75, 0.75, 0.75, 0.75]\n",
      "Test accuracy score: 0.45\n",
      "0.75\n",
      "[0.75, 0.75, 0.75, 0.75, 0.75, 0.75, 0.75, 0.75, 0.75, 0.75, 0.75, 0.75, 0.75, 0.75, 0.75, 0.75, 0.75, 0.75, 0.75, 0.75, 0.75, 0.75, 0.75, 0.75, 0.75, 0.75, 0.75, 0.75, 0.75, 0.75, 0.75, 0.75, 0.75, 0.75, 0.75, 0.75, 0.75, 0.75, 0.75]\n",
      "Test accuracy score: 0.5\n",
      "0.75\n",
      "[0.75, 0.75, 0.75, 0.75, 0.75, 0.75, 0.75, 0.75, 0.75, 0.75, 0.75, 0.75, 0.75, 0.75, 0.75, 0.75, 0.75, 0.75, 0.75, 0.75, 0.75, 0.75, 0.75, 0.75, 0.75, 0.75, 0.75, 0.75, 0.75, 0.75, 0.75, 0.75, 0.75, 0.75, 0.75, 0.75, 0.75, 0.75, 0.75, 0.75]\n",
      "Test accuracy score: 0.65\n",
      "0.75\n",
      "[0.75, 0.75, 0.75, 0.75, 0.75, 0.75, 0.75, 0.75, 0.75, 0.75, 0.75, 0.75, 0.75, 0.75, 0.75, 0.75, 0.75, 0.75, 0.75, 0.75, 0.75, 0.75, 0.75, 0.75, 0.75, 0.75, 0.75, 0.75, 0.75, 0.75, 0.75, 0.75, 0.75, 0.75, 0.75, 0.75, 0.75, 0.75, 0.75, 0.75, 0.75]\n",
      "Test accuracy score: 0.35\n",
      "0.75\n",
      "[0.75, 0.75, 0.75, 0.75, 0.75, 0.75, 0.75, 0.75, 0.75, 0.75, 0.75, 0.75, 0.75, 0.75, 0.75, 0.75, 0.75, 0.75, 0.75, 0.75, 0.75, 0.75, 0.75, 0.75, 0.75, 0.75, 0.75, 0.75, 0.75, 0.75, 0.75, 0.75, 0.75, 0.75, 0.75, 0.75, 0.75, 0.75, 0.75, 0.75, 0.75, 0.75]\n",
      "Test accuracy score: 0.5\n",
      "0.75\n",
      "[0.75, 0.75, 0.75, 0.75, 0.75, 0.75, 0.75, 0.75, 0.75, 0.75, 0.75, 0.75, 0.75, 0.75, 0.75, 0.75, 0.75, 0.75, 0.75, 0.75, 0.75, 0.75, 0.75, 0.75, 0.75, 0.75, 0.75, 0.75, 0.75, 0.75, 0.75, 0.75, 0.75, 0.75, 0.75, 0.75, 0.75, 0.75, 0.75, 0.75, 0.75, 0.75, 0.75]\n",
      "Test accuracy score: 0.45\n",
      "0.75\n",
      "[0.75, 0.75, 0.75, 0.75, 0.75, 0.75, 0.75, 0.75, 0.75, 0.75, 0.75, 0.75, 0.75, 0.75, 0.75, 0.75, 0.75, 0.75, 0.75, 0.75, 0.75, 0.75, 0.75, 0.75, 0.75, 0.75, 0.75, 0.75, 0.75, 0.75, 0.75, 0.75, 0.75, 0.75, 0.75, 0.75, 0.75, 0.75, 0.75, 0.75, 0.75, 0.75, 0.75, 0.75]\n",
      "Test accuracy score: 0.4\n",
      "0.75\n",
      "[0.75, 0.75, 0.75, 0.75, 0.75, 0.75, 0.75, 0.75, 0.75, 0.75, 0.75, 0.75, 0.75, 0.75, 0.75, 0.75, 0.75, 0.75, 0.75, 0.75, 0.75, 0.75, 0.75, 0.75, 0.75, 0.75, 0.75, 0.75, 0.75, 0.75, 0.75, 0.75, 0.75, 0.75, 0.75, 0.75, 0.75, 0.75, 0.75, 0.75, 0.75, 0.75, 0.75, 0.75, 0.75]\n",
      "Test accuracy score: 0.55\n",
      "0.75\n",
      "[0.75, 0.75, 0.75, 0.75, 0.75, 0.75, 0.75, 0.75, 0.75, 0.75, 0.75, 0.75, 0.75, 0.75, 0.75, 0.75, 0.75, 0.75, 0.75, 0.75, 0.75, 0.75, 0.75, 0.75, 0.75, 0.75, 0.75, 0.75, 0.75, 0.75, 0.75, 0.75, 0.75, 0.75, 0.75, 0.75, 0.75, 0.75, 0.75, 0.75, 0.75, 0.75, 0.75, 0.75, 0.75, 0.75]\n",
      "Test accuracy score: 0.25\n",
      "0.75\n",
      "[0.75, 0.75, 0.75, 0.75, 0.75, 0.75, 0.75, 0.75, 0.75, 0.75, 0.75, 0.75, 0.75, 0.75, 0.75, 0.75, 0.75, 0.75, 0.75, 0.75, 0.75, 0.75, 0.75, 0.75, 0.75, 0.75, 0.75, 0.75, 0.75, 0.75, 0.75, 0.75, 0.75, 0.75, 0.75, 0.75, 0.75, 0.75, 0.75, 0.75, 0.75, 0.75, 0.75, 0.75, 0.75, 0.75, 0.75]\n",
      "Test accuracy score: 0.55\n",
      "0.75\n",
      "[0.75, 0.75, 0.75, 0.75, 0.75, 0.75, 0.75, 0.75, 0.75, 0.75, 0.75, 0.75, 0.75, 0.75, 0.75, 0.75, 0.75, 0.75, 0.75, 0.75, 0.75, 0.75, 0.75, 0.75, 0.75, 0.75, 0.75, 0.75, 0.75, 0.75, 0.75, 0.75, 0.75, 0.75, 0.75, 0.75, 0.75, 0.75, 0.75, 0.75, 0.75, 0.75, 0.75, 0.75, 0.75, 0.75, 0.75, 0.75]\n",
      "Test accuracy score: 0.4\n",
      "0.75\n",
      "[0.75, 0.75, 0.75, 0.75, 0.75, 0.75, 0.75, 0.75, 0.75, 0.75, 0.75, 0.75, 0.75, 0.75, 0.75, 0.75, 0.75, 0.75, 0.75, 0.75, 0.75, 0.75, 0.75, 0.75, 0.75, 0.75, 0.75, 0.75, 0.75, 0.75, 0.75, 0.75, 0.75, 0.75, 0.75, 0.75, 0.75, 0.75, 0.75, 0.75, 0.75, 0.75, 0.75, 0.75, 0.75, 0.75, 0.75, 0.75, 0.75]\n",
      "Test accuracy score: 0.55\n",
      "0.75\n",
      "[0.75, 0.75, 0.75, 0.75, 0.75, 0.75, 0.75, 0.75, 0.75, 0.75, 0.75, 0.75, 0.75, 0.75, 0.75, 0.75, 0.75, 0.75, 0.75, 0.75, 0.75, 0.75, 0.75, 0.75, 0.75, 0.75, 0.75, 0.75, 0.75, 0.75, 0.75, 0.75, 0.75, 0.75, 0.75, 0.75, 0.75, 0.75, 0.75, 0.75, 0.75, 0.75, 0.75, 0.75, 0.75, 0.75, 0.75, 0.75, 0.75, 0.75]\n",
      "Test accuracy score: 0.5\n",
      "0.75\n",
      "[0.75, 0.75, 0.75, 0.75, 0.75, 0.75, 0.75, 0.75, 0.75, 0.75, 0.75, 0.75, 0.75, 0.75, 0.75, 0.75, 0.75, 0.75, 0.75, 0.75, 0.75, 0.75, 0.75, 0.75, 0.75, 0.75, 0.75, 0.75, 0.75, 0.75, 0.75, 0.75, 0.75, 0.75, 0.75, 0.75, 0.75, 0.75, 0.75, 0.75, 0.75, 0.75, 0.75, 0.75, 0.75, 0.75, 0.75, 0.75, 0.75, 0.75, 0.75]\n",
      "Test accuracy score: 0.4\n",
      "0.75\n",
      "[0.75, 0.75, 0.75, 0.75, 0.75, 0.75, 0.75, 0.75, 0.75, 0.75, 0.75, 0.75, 0.75, 0.75, 0.75, 0.75, 0.75, 0.75, 0.75, 0.75, 0.75, 0.75, 0.75, 0.75, 0.75, 0.75, 0.75, 0.75, 0.75, 0.75, 0.75, 0.75, 0.75, 0.75, 0.75, 0.75, 0.75, 0.75, 0.75, 0.75, 0.75, 0.75, 0.75, 0.75, 0.75, 0.75, 0.75, 0.75, 0.75, 0.75, 0.75, 0.75]\n",
      "Test accuracy score: 0.7\n",
      "0.75\n",
      "[0.75, 0.75, 0.75, 0.75, 0.75, 0.75, 0.75, 0.75, 0.75, 0.75, 0.75, 0.75, 0.75, 0.75, 0.75, 0.75, 0.75, 0.75, 0.75, 0.75, 0.75, 0.75, 0.75, 0.75, 0.75, 0.75, 0.75, 0.75, 0.75, 0.75, 0.75, 0.75, 0.75, 0.75, 0.75, 0.75, 0.75, 0.75, 0.75, 0.75, 0.75, 0.75, 0.75, 0.75, 0.75, 0.75, 0.75, 0.75, 0.75, 0.75, 0.75, 0.75, 0.75]\n",
      "Test accuracy score: 0.55\n",
      "0.75\n",
      "[0.75, 0.75, 0.75, 0.75, 0.75, 0.75, 0.75, 0.75, 0.75, 0.75, 0.75, 0.75, 0.75, 0.75, 0.75, 0.75, 0.75, 0.75, 0.75, 0.75, 0.75, 0.75, 0.75, 0.75, 0.75, 0.75, 0.75, 0.75, 0.75, 0.75, 0.75, 0.75, 0.75, 0.75, 0.75, 0.75, 0.75, 0.75, 0.75, 0.75, 0.75, 0.75, 0.75, 0.75, 0.75, 0.75, 0.75, 0.75, 0.75, 0.75, 0.75, 0.75, 0.75, 0.75]\n",
      "Test accuracy score: 0.65\n",
      "0.75\n",
      "[0.75, 0.75, 0.75, 0.75, 0.75, 0.75, 0.75, 0.75, 0.75, 0.75, 0.75, 0.75, 0.75, 0.75, 0.75, 0.75, 0.75, 0.75, 0.75, 0.75, 0.75, 0.75, 0.75, 0.75, 0.75, 0.75, 0.75, 0.75, 0.75, 0.75, 0.75, 0.75, 0.75, 0.75, 0.75, 0.75, 0.75, 0.75, 0.75, 0.75, 0.75, 0.75, 0.75, 0.75, 0.75, 0.75, 0.75, 0.75, 0.75, 0.75, 0.75, 0.75, 0.75, 0.75, 0.75]\n",
      "Test accuracy score: 0.5\n",
      "0.75\n",
      "[0.75, 0.75, 0.75, 0.75, 0.75, 0.75, 0.75, 0.75, 0.75, 0.75, 0.75, 0.75, 0.75, 0.75, 0.75, 0.75, 0.75, 0.75, 0.75, 0.75, 0.75, 0.75, 0.75, 0.75, 0.75, 0.75, 0.75, 0.75, 0.75, 0.75, 0.75, 0.75, 0.75, 0.75, 0.75, 0.75, 0.75, 0.75, 0.75, 0.75, 0.75, 0.75, 0.75, 0.75, 0.75, 0.75, 0.75, 0.75, 0.75, 0.75, 0.75, 0.75, 0.75, 0.75, 0.75, 0.75]\n",
      "Test accuracy score: 0.65\n",
      "0.75\n",
      "[0.75, 0.75, 0.75, 0.75, 0.75, 0.75, 0.75, 0.75, 0.75, 0.75, 0.75, 0.75, 0.75, 0.75, 0.75, 0.75, 0.75, 0.75, 0.75, 0.75, 0.75, 0.75, 0.75, 0.75, 0.75, 0.75, 0.75, 0.75, 0.75, 0.75, 0.75, 0.75, 0.75, 0.75, 0.75, 0.75, 0.75, 0.75, 0.75, 0.75, 0.75, 0.75, 0.75, 0.75, 0.75, 0.75, 0.75, 0.75, 0.75, 0.75, 0.75, 0.75, 0.75, 0.75, 0.75, 0.75, 0.75]\n",
      "Test accuracy score: 0.6\n",
      "0.75\n",
      "[0.75, 0.75, 0.75, 0.75, 0.75, 0.75, 0.75, 0.75, 0.75, 0.75, 0.75, 0.75, 0.75, 0.75, 0.75, 0.75, 0.75, 0.75, 0.75, 0.75, 0.75, 0.75, 0.75, 0.75, 0.75, 0.75, 0.75, 0.75, 0.75, 0.75, 0.75, 0.75, 0.75, 0.75, 0.75, 0.75, 0.75, 0.75, 0.75, 0.75, 0.75, 0.75, 0.75, 0.75, 0.75, 0.75, 0.75, 0.75, 0.75, 0.75, 0.75, 0.75, 0.75, 0.75, 0.75, 0.75, 0.75, 0.75]\n",
      "Test accuracy score: 0.55\n",
      "0.75\n",
      "[0.75, 0.75, 0.75, 0.75, 0.75, 0.75, 0.75, 0.75, 0.75, 0.75, 0.75, 0.75, 0.75, 0.75, 0.75, 0.75, 0.75, 0.75, 0.75, 0.75, 0.75, 0.75, 0.75, 0.75, 0.75, 0.75, 0.75, 0.75, 0.75, 0.75, 0.75, 0.75, 0.75, 0.75, 0.75, 0.75, 0.75, 0.75, 0.75, 0.75, 0.75, 0.75, 0.75, 0.75, 0.75, 0.75, 0.75, 0.75, 0.75, 0.75, 0.75, 0.75, 0.75, 0.75, 0.75, 0.75, 0.75, 0.75, 0.75]\n",
      "Test accuracy score: 0.65\n",
      "0.75\n",
      "[0.75, 0.75, 0.75, 0.75, 0.75, 0.75, 0.75, 0.75, 0.75, 0.75, 0.75, 0.75, 0.75, 0.75, 0.75, 0.75, 0.75, 0.75, 0.75, 0.75, 0.75, 0.75, 0.75, 0.75, 0.75, 0.75, 0.75, 0.75, 0.75, 0.75, 0.75, 0.75, 0.75, 0.75, 0.75, 0.75, 0.75, 0.75, 0.75, 0.75, 0.75, 0.75, 0.75, 0.75, 0.75, 0.75, 0.75, 0.75, 0.75, 0.75, 0.75, 0.75, 0.75, 0.75, 0.75, 0.75, 0.75, 0.75, 0.75, 0.75]\n",
      "[0.75, 0.75, 0.75, 0.75, 0.75, 0.75, 0.75, 0.75, 0.75, 0.75, 0.75, 0.75, 0.75, 0.75, 0.75, 0.75, 0.75, 0.75, 0.75, 0.75, 0.75, 0.75, 0.75, 0.75, 0.75, 0.75, 0.75, 0.75, 0.75, 0.75, 0.75, 0.75, 0.75, 0.75, 0.75, 0.75, 0.75, 0.75, 0.75, 0.75, 0.75, 0.75, 0.75, 0.75, 0.75, 0.75, 0.75, 0.75, 0.75, 0.75, 0.75, 0.75, 0.75, 0.75, 0.75, 0.75, 0.75, 0.75, 0.75, 0.75]\n",
      "Final average accuracy 0.75 std 0.0\n"
     ],
     "name": "stdout"
    }
   ]
  },
  {
   "cell_type": "code",
   "metadata": {
    "id": "dbtU1TRxZ5UG",
    "colab": {
     "base_uri": "https://localhost:8080/"
    },
    "outputId": "359ee097-a0a1-4e47-dc01-bb6394220b91"
   },
   "source": [
    "from pprint import pprint\n",
    "# Look at parameters used by our current forest\n",
    "print('Parameters currently in use:\\n')\n",
    "pprint(result.get_params())"
   ],
   "execution_count": null,
   "outputs": [
    {
     "output_type": "stream",
     "text": [
      "Parameters currently in use:\n",
      "\n",
      "{'copy': True, 'max_iter': 500, 'n_components': 2, 'scale': True, 'tol': 1e-06}\n"
     ],
     "name": "stdout"
    }
   ]
  },
  {
   "cell_type": "code",
   "metadata": {
    "id": "bgRuVUdsaWcl",
    "colab": {
     "base_uri": "https://localhost:8080/"
    },
    "outputId": "0c278af2-5b7d-4069-dbfe-28525616cbc7"
   },
   "source": [
    "from sklearn.model_selection import RandomizedSearchCV\n",
    "from pprint import pprint\n",
    "###\n",
    "copy = ['True', 'False']\n",
    "max_iter = [100, 500, 1000]\n",
    "# Maximum number of levels in tree\n",
    "n_components = [2, 10, 20] #[int(x) for x in np.linspace(10, 110, num = 11)]\n",
    "#max_depth.append(None)\n",
    "# Minimum number of samples required to split a node\n",
    "scale = ['True', 'False']\n",
    "# Minimum number of samples required at each leaf node\n",
    "# Method of selecting samples for training each tree\n",
    "# Create the random grid\n",
    "random_grid = {'copy': copy,\n",
    "               'max_iter': max_iter,\n",
    "               'n_components': n_components,\n",
    "               'scale': scale}\n",
    "pprint(random_grid)"
   ],
   "execution_count": 6,
   "outputs": [
    {
     "output_type": "stream",
     "text": [
      "{'copy': ['True', 'False'],\n",
      " 'max_iter': [100, 500, 1000],\n",
      " 'n_components': [2, 10, 20],\n",
      " 'scale': ['True', 'False']}\n"
     ],
     "name": "stdout"
    }
   ]
  },
  {
   "cell_type": "code",
   "metadata": {
    "colab": {
     "base_uri": "https://localhost:8080/"
    },
    "id": "uFQd4F99aUke",
    "outputId": "9d77001c-f86a-48e6-c092-e834d1b2416d"
   },
   "source": [
    "from sklearn.model_selection import train_test_split \n",
    "from sklearn.model_selection import RandomizedSearchCV\n",
    "from sklearn.linear_model import RidgeCV\n",
    "X_train, X_test, y_train, y_test = train_test_split(X, y, test_size=0.2)\n",
    "# Use the random grid to search for best hyperparameters\n",
    "# First create the base model to tune\n",
    "#rf = RandomForestClassifier()\n",
    "result = PLSRegression()\n",
    "#result.score(X_test)\n",
    "# Random search of parameters, using 3 fold cross validation, \n",
    "# search across 100 different combinations, and use all available cores\n",
    "result = RandomizedSearchCV(estimator = result, param_distributions = random_grid, n_iter = 200, cv = 5, verbose=2, random_state=42, n_jobs = -1)\n",
    "# Fit the random search model\n",
    "result.fit(X_train, y_train)"
   ],
   "execution_count": 7,
   "outputs": [
    {
     "output_type": "stream",
     "text": [
      "/usr/local/lib/python3.7/dist-packages/sklearn/model_selection/_search.py:281: UserWarning: The total space of parameters 36 is smaller than n_iter=200. Running 36 iterations. For exhaustive searches, use GridSearchCV.\n",
      "  % (grid_size, self.n_iter, grid_size), UserWarning)\n",
      "[Parallel(n_jobs=-1)]: Using backend LokyBackend with 2 concurrent workers.\n"
     ],
     "name": "stderr"
    },
    {
     "output_type": "stream",
     "text": [
      "Fitting 5 folds for each of 36 candidates, totalling 180 fits\n"
     ],
     "name": "stdout"
    },
    {
     "output_type": "stream",
     "text": [
      "[Parallel(n_jobs=-1)]: Done 144 tasks      | elapsed:    2.4s\n",
      "[Parallel(n_jobs=-1)]: Done 180 out of 180 | elapsed:    2.8s finished\n"
     ],
     "name": "stderr"
    },
    {
     "output_type": "execute_result",
     "data": {
      "text/plain": [
       "RandomizedSearchCV(cv=5, error_score=nan,\n",
       "                   estimator=PLSRegression(copy=True, max_iter=500,\n",
       "                                           n_components=2, scale=True,\n",
       "                                           tol=1e-06),\n",
       "                   iid='deprecated', n_iter=200, n_jobs=-1,\n",
       "                   param_distributions={'copy': ['True', 'False'],\n",
       "                                        'max_iter': [100, 500, 1000],\n",
       "                                        'n_components': [2, 10, 20],\n",
       "                                        'scale': ['True', 'False']},\n",
       "                   pre_dispatch='2*n_jobs', random_state=42, refit=True,\n",
       "                   return_train_score=False, scoring=None, verbose=2)"
      ]
     },
     "metadata": {
      "tags": []
     },
     "execution_count": 7
    }
   ]
  },
  {
   "cell_type": "code",
   "metadata": {
    "colab": {
     "base_uri": "https://localhost:8080/"
    },
    "id": "oJbThyKPvJO7",
    "outputId": "522fbcf9-6f4c-4afb-8a8f-7ec86ffe441e"
   },
   "source": [
    "result.best_params_"
   ],
   "execution_count": 8,
   "outputs": [
    {
     "output_type": "execute_result",
     "data": {
      "text/plain": [
       "{'copy': 'True', 'max_iter': 100, 'n_components': 20, 'scale': 'True'}"
      ]
     },
     "metadata": {
      "tags": []
     },
     "execution_count": 8
    }
   ]
  },
  {
   "cell_type": "code",
   "metadata": {
    "colab": {
     "base_uri": "https://localhost:8080/"
    },
    "id": "t6zAOpL8dYpt",
    "outputId": "a7294e3b-8d05-4e3d-ddc8-544cb98dc4c2"
   },
   "source": [
    "from sklearn.cross_decomposition import PLSRegression\n",
    "X_train, X_test, y_train, y_test = train_test_split(X, y, test_size=0.2, random_state=42)\n",
    "plsr = PLSRegression(copy= True, max_iter = 100, n_components = 20, scale = True)\n",
    "plsr.fit(X_train, y_train)"
   ],
   "execution_count": 10,
   "outputs": [
    {
     "output_type": "execute_result",
     "data": {
      "text/plain": [
       "PLSRegression(copy=True, max_iter=100, n_components=20, scale=True, tol=1e-06)"
      ]
     },
     "metadata": {
      "tags": []
     },
     "execution_count": 10
    }
   ]
  },
  {
   "cell_type": "code",
   "metadata": {
    "colab": {
     "base_uri": "https://localhost:8080/"
    },
    "id": "apVzKQ_PwfKh",
    "outputId": "4cabe3be-0141-4b8f-eab8-4c75d335c729"
   },
   "source": [
    "pred = plsr.predict(X_train)\n",
    "pred = [1 if i >=0 else 0 for i in pred]\n",
    "print(\"Train accuracy score: {}\".format(accuracy_score(y_train, pred)))\n",
    "\n",
    "pred = plsr.predict(X_test)\n",
    "pred = [1 if i >=0 else 0 for i in pred]\n",
    "print(\"Test accuracy score: {}\".format(accuracy_score(y_test, pred)))"
   ],
   "execution_count": 12,
   "outputs": [
    {
     "output_type": "stream",
     "text": [
      "Train accuracy score: 0.75\n",
      "Test accuracy score: 0.8\n"
     ],
     "name": "stdout"
    }
   ]
  },
  {
   "cell_type": "code",
   "metadata": {
    "colab": {
     "base_uri": "https://localhost:8080/",
     "height": 340
    },
    "id": "EtPQHrgov3Yu",
    "outputId": "d91b6b14-148b-4e4a-c111-947f24cb9bab"
   },
   "source": [
    "from sklearn.metrics import accuracy_score\n",
    "from sklearn import metrics\n",
    "predictions = plsr.predict(X_test)\n",
    "print(\"Test Accuracy:\", metrics.accuracy_score(y_test, predictions))"
   ],
   "execution_count": 11,
   "outputs": [
    {
     "output_type": "error",
     "ename": "ValueError",
     "evalue": "ignored",
     "traceback": [
      "\u001B[0;31m---------------------------------------------------------------------------\u001B[0m",
      "\u001B[0;31mValueError\u001B[0m                                Traceback (most recent call last)",
      "\u001B[0;32m<ipython-input-11-f9be86e18852>\u001B[0m in \u001B[0;36m<module>\u001B[0;34m()\u001B[0m\n\u001B[1;32m      2\u001B[0m \u001B[0;32mfrom\u001B[0m \u001B[0msklearn\u001B[0m \u001B[0;32mimport\u001B[0m \u001B[0mmetrics\u001B[0m\u001B[0;34m\u001B[0m\u001B[0;34m\u001B[0m\u001B[0m\n\u001B[1;32m      3\u001B[0m \u001B[0mpredictions\u001B[0m \u001B[0;34m=\u001B[0m \u001B[0mplsr\u001B[0m\u001B[0;34m.\u001B[0m\u001B[0mpredict\u001B[0m\u001B[0;34m(\u001B[0m\u001B[0mX_test\u001B[0m\u001B[0;34m)\u001B[0m\u001B[0;34m\u001B[0m\u001B[0;34m\u001B[0m\u001B[0m\n\u001B[0;32m----> 4\u001B[0;31m \u001B[0mprint\u001B[0m\u001B[0;34m(\u001B[0m\u001B[0;34m\"Test Accuracy:\"\u001B[0m\u001B[0;34m,\u001B[0m \u001B[0mmetrics\u001B[0m\u001B[0;34m.\u001B[0m\u001B[0maccuracy_score\u001B[0m\u001B[0;34m(\u001B[0m\u001B[0my_test\u001B[0m\u001B[0;34m,\u001B[0m \u001B[0mpredictions\u001B[0m\u001B[0;34m)\u001B[0m\u001B[0;34m)\u001B[0m\u001B[0;34m\u001B[0m\u001B[0;34m\u001B[0m\u001B[0m\n\u001B[0m",
      "\u001B[0;32m/usr/local/lib/python3.7/dist-packages/sklearn/metrics/_classification.py\u001B[0m in \u001B[0;36maccuracy_score\u001B[0;34m(y_true, y_pred, normalize, sample_weight)\u001B[0m\n\u001B[1;32m    183\u001B[0m \u001B[0;34m\u001B[0m\u001B[0m\n\u001B[1;32m    184\u001B[0m     \u001B[0;31m# Compute accuracy for each possible representation\u001B[0m\u001B[0;34m\u001B[0m\u001B[0;34m\u001B[0m\u001B[0;34m\u001B[0m\u001B[0m\n\u001B[0;32m--> 185\u001B[0;31m     \u001B[0my_type\u001B[0m\u001B[0;34m,\u001B[0m \u001B[0my_true\u001B[0m\u001B[0;34m,\u001B[0m \u001B[0my_pred\u001B[0m \u001B[0;34m=\u001B[0m \u001B[0m_check_targets\u001B[0m\u001B[0;34m(\u001B[0m\u001B[0my_true\u001B[0m\u001B[0;34m,\u001B[0m \u001B[0my_pred\u001B[0m\u001B[0;34m)\u001B[0m\u001B[0;34m\u001B[0m\u001B[0;34m\u001B[0m\u001B[0m\n\u001B[0m\u001B[1;32m    186\u001B[0m     \u001B[0mcheck_consistent_length\u001B[0m\u001B[0;34m(\u001B[0m\u001B[0my_true\u001B[0m\u001B[0;34m,\u001B[0m \u001B[0my_pred\u001B[0m\u001B[0;34m,\u001B[0m \u001B[0msample_weight\u001B[0m\u001B[0;34m)\u001B[0m\u001B[0;34m\u001B[0m\u001B[0;34m\u001B[0m\u001B[0m\n\u001B[1;32m    187\u001B[0m     \u001B[0;32mif\u001B[0m \u001B[0my_type\u001B[0m\u001B[0;34m.\u001B[0m\u001B[0mstartswith\u001B[0m\u001B[0;34m(\u001B[0m\u001B[0;34m'multilabel'\u001B[0m\u001B[0;34m)\u001B[0m\u001B[0;34m:\u001B[0m\u001B[0;34m\u001B[0m\u001B[0;34m\u001B[0m\u001B[0m\n",
      "\u001B[0;32m/usr/local/lib/python3.7/dist-packages/sklearn/metrics/_classification.py\u001B[0m in \u001B[0;36m_check_targets\u001B[0;34m(y_true, y_pred)\u001B[0m\n\u001B[1;32m     88\u001B[0m     \u001B[0;32mif\u001B[0m \u001B[0mlen\u001B[0m\u001B[0;34m(\u001B[0m\u001B[0my_type\u001B[0m\u001B[0;34m)\u001B[0m \u001B[0;34m>\u001B[0m \u001B[0;36m1\u001B[0m\u001B[0;34m:\u001B[0m\u001B[0;34m\u001B[0m\u001B[0;34m\u001B[0m\u001B[0m\n\u001B[1;32m     89\u001B[0m         raise ValueError(\"Classification metrics can't handle a mix of {0} \"\n\u001B[0;32m---> 90\u001B[0;31m                          \"and {1} targets\".format(type_true, type_pred))\n\u001B[0m\u001B[1;32m     91\u001B[0m \u001B[0;34m\u001B[0m\u001B[0m\n\u001B[1;32m     92\u001B[0m     \u001B[0;31m# We can't have more than one value on y_type => The set is no more needed\u001B[0m\u001B[0;34m\u001B[0m\u001B[0;34m\u001B[0m\u001B[0;34m\u001B[0m\u001B[0m\n",
      "\u001B[0;31mValueError\u001B[0m: Classification metrics can't handle a mix of binary and continuous targets"
     ]
    }
   ]
  },
  {
   "cell_type": "code",
   "metadata": {
    "colab": {
     "base_uri": "https://localhost:8080/"
    },
    "id": "Iby9dm1feVPw",
    "outputId": "bf329535-3376-434a-9f18-952b97d7d28a"
   },
   "source": [
    "plsr.x_scores_"
   ],
   "execution_count": null,
   "outputs": [
    {
     "output_type": "execute_result",
     "data": {
      "text/plain": [
       "array([[-1.44205186e+06,  8.53070862e+05],\n",
       "       [-2.34201557e+06,  2.58815791e+06],\n",
       "       [-1.47320804e+06,  8.89805141e+05],\n",
       "       [-1.34792241e+06,  6.03410862e+05],\n",
       "       [-7.60710292e+06,  1.21947781e+07],\n",
       "       [-1.03944132e+06, -5.51588312e+04],\n",
       "       [-1.28519105e+06,  2.43652456e+05],\n",
       "       [-4.48694398e+07,  4.07466889e+07],\n",
       "       [-1.12452049e+07,  1.79930430e+07],\n",
       "       [-1.51794037e+06,  1.19495341e+06],\n",
       "       [-5.65003027e+05, -6.66329028e+05],\n",
       "       [-1.48333998e+06,  1.06850539e+06],\n",
       "       [-5.40600114e+05, -7.90431027e+05],\n",
       "       [-6.72335758e+05, -5.47785602e+05],\n",
       "       [-6.78770728e+05, -5.58738663e+05],\n",
       "       [-9.37470030e+05, -4.06169250e+04],\n",
       "       [-7.00745899e+05, -5.38681694e+05],\n",
       "       [-7.92988553e+05, -3.60505962e+05],\n",
       "       [-5.86658278e+05, -7.76511329e+05],\n",
       "       [-2.11264413e+06,  2.27307298e+06],\n",
       "       [-1.08107038e+06,  1.98562472e+05],\n",
       "       [-9.75645073e+05, -1.50255770e+04],\n",
       "       [-9.93410791e+05,  1.04698378e+04],\n",
       "       [-1.42006227e+06,  8.43814510e+05],\n",
       "       [-1.46130395e+06,  9.26912472e+05],\n",
       "       [-9.22126401e+05, -1.74658113e+05],\n",
       "       [-9.80003620e+05, -7.56993966e+04],\n",
       "       [-1.02194096e+06,  2.71168750e+04],\n",
       "       [-1.09315329e+06,  1.21221789e+05],\n",
       "       [-1.21048797e+06,  3.73203474e+05],\n",
       "       [-1.78994213e+06,  1.48519763e+06],\n",
       "       [-3.43222602e+05, -1.37250078e+06],\n",
       "       [-8.28863331e+05, -4.27604331e+05],\n",
       "       [-1.17045205e+06,  9.19969678e+04],\n",
       "       [-1.11690343e+06,  1.08740139e+05],\n",
       "       [-1.20112937e+06,  2.07315089e+05],\n",
       "       [-1.29990237e+06,  3.28953309e+05],\n",
       "       [-1.41499215e+06,  4.94475241e+05],\n",
       "       [-1.58068117e+06,  7.42051229e+05],\n",
       "       [-1.86892736e+06,  1.11534283e+06],\n",
       "       [-3.03444387e+06,  2.70542322e+06],\n",
       "       [-3.59525684e+07,  4.48758648e+07],\n",
       "       [ 7.83182210e+05, -2.07071990e+06],\n",
       "       [-7.49027433e+05,  7.49913667e+04],\n",
       "       [-1.45151438e+06,  1.23417034e+06],\n",
       "       [-3.31902676e+06,  4.49472540e+06],\n",
       "       [ 1.73382591e+06, -3.96332428e+06],\n",
       "       [ 2.58261816e+06, -6.57021079e+06],\n",
       "       [ 8.26511890e+05, -3.22570023e+06],\n",
       "       [-1.43518743e+06,  1.21646868e+06],\n",
       "       [ 1.88560330e+05, -2.11105111e+06],\n",
       "       [-4.97832971e+04, -1.65906017e+06],\n",
       "       [-8.02854994e+04, -1.62652035e+06],\n",
       "       [-2.17668840e+05, -1.38201593e+06],\n",
       "       [-3.67903572e+05, -1.14216762e+06],\n",
       "       [-4.71969741e+05, -1.00366690e+06],\n",
       "       [-6.40229368e+05, -7.06848651e+05],\n",
       "       [-8.85655716e+05, -2.10055181e+05],\n",
       "       [-1.20128229e+06,  2.92278410e+05],\n",
       "       [ 1.33181625e+07, -2.45967087e+07],\n",
       "       [ 4.85956455e+06, -1.11799597e+07],\n",
       "       [ 1.19282369e+06, -4.20313668e+06],\n",
       "       [ 3.71848878e+05, -2.64315224e+06],\n",
       "       [ 2.71760730e+05, -2.51401689e+06],\n",
       "       [-5.32045463e+04, -1.99255656e+06],\n",
       "       [-2.32349098e+05, -1.80175533e+06],\n",
       "       [-1.90453739e+05, -2.03885181e+06],\n",
       "       [-6.04547151e+05, -1.76562399e+06],\n",
       "       [ 1.02473097e+08,  4.61309353e+07],\n",
       "       [ 3.52755303e+05, -1.37040088e+06],\n",
       "       [ 9.19034513e+04, -1.41060916e+06],\n",
       "       [ 7.03878537e+04, -1.51991221e+06],\n",
       "       [ 2.10642643e+04, -1.43903397e+06],\n",
       "       [ 5.36946228e+04, -1.54547614e+06],\n",
       "       [ 2.84357928e+06, -6.96584769e+06],\n",
       "       [-4.61572187e+05, -6.08368564e+05],\n",
       "       [-1.76774841e+05, -1.17475539e+06],\n",
       "       [-1.95320693e+05, -1.04771898e+06],\n",
       "       [-1.64350849e+04, -1.55758912e+06],\n",
       "       [ 9.07630525e+06, -1.78413667e+07],\n",
       "       [-1.09778435e+06,  3.66136103e+05],\n",
       "       [-9.36296503e+05,  1.26429606e+05],\n",
       "       [ 2.04150384e+06, -5.89059982e+06],\n",
       "       [-4.12013633e+05, -9.82047485e+05],\n",
       "       [-4.91796099e+05, -8.44969902e+05],\n",
       "       [-6.61344425e+05, -5.19157172e+05],\n",
       "       [-2.56736881e+05, -1.35341355e+06],\n",
       "       [-2.83683030e+05, -1.38194988e+06],\n",
       "       [-1.34262274e+05, -1.83768662e+06],\n",
       "       [ 1.02097769e+07, -1.94077508e+07],\n",
       "       [ 7.60954217e+06, -1.54023093e+07],\n",
       "       [-7.38437551e+05, -2.99270388e+05],\n",
       "       [-8.79987623e+05,  5.42329752e+04],\n",
       "       [-1.86904899e+05, -1.45267203e+06],\n",
       "       [ 8.42852553e+05, -3.50329682e+06],\n",
       "       [ 2.03741678e+06, -5.85949439e+06],\n",
       "       [ 4.80600341e+05, -2.76137639e+06],\n",
       "       [ 6.37224086e+05, -3.10111899e+06],\n",
       "       [ 3.76832103e+04, -1.87435428e+06],\n",
       "       [-1.27499363e+05, -1.53627225e+06]])"
      ]
     },
     "metadata": {
      "tags": []
     },
     "execution_count": 22
    }
   ]
  },
  {
   "cell_type": "code",
   "metadata": {
    "colab": {
     "base_uri": "https://localhost:8080/"
    },
    "id": "GVG0_c-oeid1",
    "outputId": "d251fbdb-43ec-47aa-a572-c1b590e55292"
   },
   "source": [
    "plsr.x_weights_.shape"
   ],
   "execution_count": null,
   "outputs": [
    {
     "output_type": "execute_result",
     "data": {
      "text/plain": [
       "(3989, 2)"
      ]
     },
     "metadata": {
      "tags": []
     },
     "execution_count": 23
    }
   ]
  },
  {
   "cell_type": "code",
   "metadata": {
    "id": "d0iBBNozemGM"
   },
   "source": [
    "scores = pd.DataFrame(plsr.x_scores_)"
   ],
   "execution_count": null,
   "outputs": []
  },
  {
   "cell_type": "code",
   "metadata": {
    "colab": {
     "base_uri": "https://localhost:8080/",
     "height": 163
    },
    "id": "9WI4ZiTAe_JR",
    "outputId": "ffb085c0-6e20-47d8-8bf8-bd5833f69cc0"
   },
   "source": [
    "#scores.index=df.columns"
   ],
   "execution_count": null,
   "outputs": [
    {
     "output_type": "error",
     "ename": "NameError",
     "evalue": "ignored",
     "traceback": [
      "\u001B[0;31m---------------------------------------------------------------------------\u001B[0m",
      "\u001B[0;31mNameError\u001B[0m                                 Traceback (most recent call last)",
      "\u001B[0;32m<ipython-input-25-a21e6b8c1dda>\u001B[0m in \u001B[0;36m<module>\u001B[0;34m()\u001B[0m\n\u001B[0;32m----> 1\u001B[0;31m \u001B[0mscores\u001B[0m\u001B[0;34m.\u001B[0m\u001B[0mindex\u001B[0m\u001B[0;34m=\u001B[0m\u001B[0mdf\u001B[0m\u001B[0;34m.\u001B[0m\u001B[0mcolumns\u001B[0m\u001B[0;34m\u001B[0m\u001B[0;34m\u001B[0m\u001B[0m\n\u001B[0m",
      "\u001B[0;31mNameError\u001B[0m: name 'df' is not defined"
     ]
    }
   ]
  },
  {
   "cell_type": "code",
   "metadata": {
    "colab": {
     "base_uri": "https://localhost:8080/",
     "height": 419
    },
    "id": "ugEnwkLgfUc1",
    "outputId": "4bf5ea63-4f49-48f4-d9b4-89bc32cce2c1"
   },
   "source": [
    "scores = pd.DataFrame(plsr.x_scores_)\n",
    "ax = scores.plot(x=0, y=1, color='orange', alpha=0.7, figsize=(6,6))\n",
    "ax.set_xlabel('Scores on LV 1')\n",
    "ax.set_ylabel('Scores on LV 2')                                                                  "
   ],
   "execution_count": null,
   "outputs": [
    {
     "output_type": "execute_result",
     "data": {
      "text/plain": [
       "Text(0, 0.5, 'Scores on LV 2')"
      ]
     },
     "metadata": {
      "tags": []
     },
     "execution_count": 56
    },
    {
     "output_type": "display_data",
     "data": {
      "image/png": "[encoded data removed]",
      "text/plain": [
       "<Figure size 432x432 with 1 Axes>"
      ]
     },
     "metadata": {
      "tags": []
     }
    }
   ]
  },
  {
   "cell_type": "code",
   "metadata": {
    "colab": {
     "base_uri": "https://localhost:8080/",
     "height": 419
    },
    "id": "etG-abVAkuSp",
    "outputId": "29ae62e5-99ec-4bb0-dc3e-b5a108184439"
   },
   "source": [
    "scores = pd.DataFrame(plsr.x_scores_)\n",
    "ax = scores.plot(x=0, y=1, kind='scatter', s=50, color='orange',  alpha=0.7, figsize=(6,6))\n",
    "ax.set_xlabel('Scores on LV 1')\n",
    "ax.set_ylabel('Scores on LV 2')     "
   ],
   "execution_count": null,
   "outputs": [
    {
     "output_type": "execute_result",
     "data": {
      "text/plain": [
       "Text(0, 0.5, 'Scores on LV 2')"
      ]
     },
     "metadata": {
      "tags": []
     },
     "execution_count": 62
    },
    {
     "output_type": "display_data",
     "data": {
      "image/png": "[encoded data removed]",
      "text/plain": [
       "<Figure size 432x432 with 1 Axes>"
      ]
     },
     "metadata": {
      "tags": []
     }
    }
   ]
  }
 ]
}