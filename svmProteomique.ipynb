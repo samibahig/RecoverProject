{
  "nbformat": 4,
  "nbformat_minor": 0,
  "metadata": {
    "colab": {
      "name": "svmProteomique",
      "provenance": [],
      "authorship_tag": "ABX9TyPWXYc7dD/ARiKPOBY+N0R8",
      "include_colab_link": true
    },
    "kernelspec": {
      "name": "python3",
      "display_name": "Python 3"
    },
    "language_info": {
      "name": "python"
    }
  },
  "cells": [
    {
      "cell_type": "markdown",
      "metadata": {
        "id": "view-in-github",
        "colab_type": "text"
      },
      "source": [
        "<a href=\"https://colab.research.google.com/github/samibahig/RecoverProject/blob/main/svmProteomique.ipynb\" target=\"_parent\"><img src=\"https://colab.research.google.com/assets/colab-badge.svg\" alt=\"Open In Colab\"/></a>"
      ]
    },
    {
      "cell_type": "code",
      "metadata": {
        "colab": {
          "base_uri": "https://localhost:8080/"
        },
        "id": "Wii64H9RLaI6",
        "outputId": "69d8abd0-3835-4e32-fa41-5a6cabf8b77f"
      },
      "source": [
        "import numpy as np\n",
        "import pandas as pd\n",
        "import matplotlib.pyplot as plt\n",
        "import pickle as pkl\n",
        "%matplotlib inline\n",
        "import matplotlib.pyplot as plt\n",
        "import matplotlib.colors as mcolors\n",
        "import numpy as np\n",
        "import pandas as pd\n",
        "import sklearn\n",
        "import os\n",
        "plt.style.use('ggplot')\n",
        "#print('\\nMETADATA :')\n",
        "data_path = ''\n",
        "metadata_filename = data_path + '/content/metadata.csv'\n",
        "meta_df = pd.read_csv(metadata_filename)\n",
        "#print(meta_df.columns)\n",
        "meta_df.columns = ['#', 'plate', '-', 'symptoms'] + list(meta_df)[4:]\n",
        "#print(meta_df.columns)\n",
        "#print('available metadata :', list(meta_df))\n",
        "meta_idx = meta_df['ID'].to_list()\n",
        "meta_label = meta_df['symptoms'].to_list()\n",
        "#print('------------------')\n",
        "#print(list(zip(meta_idx, meta_label)))\n",
        "#print('------------------')\n",
        "meta_id_label_dict = {str(k): 1 if v=='S' else 0 for k, v in zip(meta_idx, meta_label)}\n",
        "data_path = ''\n",
        "\n",
        "#DF1 : proteomics\n",
        "#print('\\nPROEOMICS DATA :')\n",
        "proteomics_data_filename = '/content/proteomics.csv'\n",
        "\n",
        "dim_df = pd.read_csv(proteomics_data_filename, nrows=1)\n",
        "#print('--------')\n",
        "#print(dim_df)\n",
        "#print('--------')\n",
        "dim = len(list(dim_df))\n",
        "#print(dim)\n",
        "#print('------------')\n",
        "print('# of columns in source csv file :', dim)\n",
        "all_cols = [i for i in range(dim)]\n",
        "\n",
        "print('--------')\n",
        "feat_cols = all_cols[1:-4]\n",
        "print(feat_cols)\n",
        "print('--------')\n",
        "samplesidx_col = [0]\n",
        "\n",
        "feat_df = pd.read_csv(proteomics_data_filename, skiprows=4, nrows=1, dtype=str, usecols=feat_cols)\n",
        "features = list(feat_df)\n",
        "print('# of features : ', len(features))\n",
        "print('first feature :', features[0])\n",
        "print('last feature :', features[-1])\n",
        "\n",
        "idx_df = pd.read_csv(proteomics_data_filename, skiprows=6, index_col=0, skipfooter=4, usecols=[0], engine='python')\n",
        "idx = list(idx_df.index.values)\n",
        "print('# of idx : ', len(idx))\n",
        "print('first id :', idx[0])\n",
        "print('last id :', idx[-1])\n",
        "\n",
        "df1 = pd.read_csv(proteomics_data_filename, skiprows=6, dtype=np.float32, skipfooter=4, usecols=feat_cols, engine='python')\n",
        "assert df1.shape[0] == len(idx)\n",
        "assert df1.shape[1] == len(features)\n",
        "\n",
        "df1['idx'] = idx\n",
        "df1.set_index('idx', inplace=True)\n",
        "df1.columns = features\n",
        "print('# of Nan values :', df1.isna().sum().sum())\n",
        "\n",
        "#clean data of samples that are not in metadata :\n",
        "idx = df1.index.values\n",
        "y = []\n",
        "for k in range(len(idx)):\n",
        "    id = idx[k]\n",
        "    if id in meta_id_label_dict:\n",
        "        y.append(meta_id_label_dict[id])\n",
        "    else:\n",
        "        # we will not put this sample in the dataset\n",
        "        #print('sample to remove because of unknown label:', k, id)\n",
        "        y.append('to_remove')\n",
        "df1['label'] = y\n",
        "df1 = df1[df1.label != 'to_remove']\n",
        "\n",
        "#create X and y matrices for ML :\n",
        "y = list(df1['label'])\n",
        "del df1['label']\n",
        "print('---------')\n",
        "print(df1)\n",
        "print('---------')\n",
        "X = df1.to_numpy()\n",
        "print('proteomics data :')\n",
        "print('# of samples : ', df1.shape[0])\n",
        "print('# of features : ', df1.shape[1])\n",
        "print('labels:', list(dict.fromkeys(y)))\n",
        "\n",
        "\n",
        "## save X and y in pickles if you want :\n",
        "##data_name = 'recover_multiomics_'\n",
        "##feat_dict = {k: str(v) for k, v in zip(range(len(list(df))), list(df))}\n",
        "##with open(data_path + data_name + 'feat_dict', 'wb') as fo:\n",
        "##    pkl.dump(feat_dict, fo)\n",
        "##with open(data_path + data_name + 'X', 'wb') as fo:df\n",
        "##            pkl.dump(X, fo)\n",
        "##with open(data_path + data_name + 'y', 'wb') as fo:\n",
        "##            pkl.dump(y, fo)"
      ],
      "execution_count": 84,
      "outputs": [
        {
          "output_type": "stream",
          "text": [
            "# of columns in source csv file : 189\n",
            "--------\n",
            "[1, 2, 3, 4, 5, 6, 7, 8, 9, 10, 11, 12, 13, 14, 15, 16, 17, 18, 19, 20, 21, 22, 23, 24, 25, 26, 27, 28, 29, 30, 31, 32, 33, 34, 35, 36, 37, 38, 39, 40, 41, 42, 43, 44, 45, 46, 47, 48, 49, 50, 51, 52, 53, 54, 55, 56, 57, 58, 59, 60, 61, 62, 63, 64, 65, 66, 67, 68, 69, 70, 71, 72, 73, 74, 75, 76, 77, 78, 79, 80, 81, 82, 83, 84, 85, 86, 87, 88, 89, 90, 91, 92, 93, 94, 95, 96, 97, 98, 99, 100, 101, 102, 103, 104, 105, 106, 107, 108, 109, 110, 111, 112, 113, 114, 115, 116, 117, 118, 119, 120, 121, 122, 123, 124, 125, 126, 127, 128, 129, 130, 131, 132, 133, 134, 135, 136, 137, 138, 139, 140, 141, 142, 143, 144, 145, 146, 147, 148, 149, 150, 151, 152, 153, 154, 155, 156, 157, 158, 159, 160, 161, 162, 163, 164, 165, 166, 167, 168, 169, 170, 171, 172, 173, 174, 175, 176, 177, 178, 179, 180, 181, 182, 183, 184]\n",
            "--------\n",
            "# of features :  184\n",
            "first feature : Q96SB3\n",
            "last feature : P09603\n",
            "# of idx :  104\n",
            "first id : 5-139\n",
            "last id : 3-043\n",
            "# of Nan values : 0\n",
            "---------\n",
            "        Q96SB3   P16278   O75475   Q05516  ...  P05113.1   P00813   P01374    P09603\n",
            "idx                                        ...                                      \n",
            "5-139  1.61741  1.31276  3.20077  1.28369  ...   0.12752  5.46542  5.97368  10.40443\n",
            "1-039  2.79530  2.12398  2.90156  1.55239  ...   0.88631  5.24029  5.07646  10.14180\n",
            "1-062  1.69202  2.07015  2.07562  0.85847  ...   0.18121  5.34243  4.89149  10.02279\n",
            "1-040  1.62496  1.67346  2.30191  1.09831  ...   2.11383  5.54121  5.57492  10.13417\n",
            "2-044  1.69246  1.94635  1.87725  0.84233  ...   0.60991  4.98001  4.80933  10.04586\n",
            "...        ...      ...      ...      ...  ...       ...      ...      ...       ...\n",
            "1-073  1.40763  2.32194  2.53494  0.55014  ...   0.31641  5.31388  4.78352  10.50358\n",
            "2-108  1.73766  1.44918  2.23165  0.44999  ...   0.37494  5.44716  5.22955  10.13842\n",
            "5-114  2.94638  1.45486  3.31485  0.93572  ...   2.98474  5.34230  5.30634  10.16184\n",
            "5-075  2.09489  2.70359  2.17787  1.16964  ...   0.76538  5.14975  5.37112  10.40146\n",
            "3-043  2.23329  2.41564  3.45536  0.91918  ...   0.87126  5.34694  5.08457  10.35240\n",
            "\n",
            "[100 rows x 184 columns]\n",
            "---------\n",
            "proteomics data :\n",
            "# of samples :  100\n",
            "# of features :  184\n",
            "labels: [1, 0]\n"
          ],
          "name": "stdout"
        }
      ]
    },
    {
      "cell_type": "code",
      "metadata": {
        "id": "3nch2nIP1mpE"
      },
      "source": [
        "from sklearn import svm\n",
        "from sklearn.model_selection import train_test_split \n",
        "X_train, X_test, y_train, y_test = train_test_split(X, y, test_size=0.2, random_state=42)\n",
        "import numpy as np"
      ],
      "execution_count": 85,
      "outputs": []
    },
    {
      "cell_type": "code",
      "metadata": {
        "id": "z3MzYofQ1n3n"
      },
      "source": [
        "clf = svm.SVC(kernel='linear')\n",
        "clf.fit(X_train, y_train)\n",
        "predictions = clf.predict(X_test)"
      ],
      "execution_count": 86,
      "outputs": []
    },
    {
      "cell_type": "code",
      "metadata": {
        "colab": {
          "base_uri": "https://localhost:8080/"
        },
        "id": "e4Yz9P0gz-N8",
        "outputId": "4e077021-0586-4df2-a81c-dca6830bdbb2"
      },
      "source": [
        "from sklearn import metrics\n",
        "print(\"Accuracy:\",metrics.accuracy_score(predictions, y_test))"
      ],
      "execution_count": 87,
      "outputs": [
        {
          "output_type": "stream",
          "text": [
            "Accuracy: 0.45\n"
          ],
          "name": "stdout"
        }
      ]
    },
    {
      "cell_type": "code",
      "metadata": {
        "colab": {
          "base_uri": "https://localhost:8080/"
        },
        "id": "VgOZHYvEFbSG",
        "outputId": "ce3bbb58-1fdd-4d8f-84a1-cc2dea2b9bcf"
      },
      "source": [
        "from pprint import pprint\n",
        "# Look at parameters used by our current forest\n",
        "print('Parameters currently in use:\\n')\n",
        "pprint(clf.get_params())"
      ],
      "execution_count": 89,
      "outputs": [
        {
          "output_type": "stream",
          "text": [
            "Parameters currently in use:\n",
            "\n",
            "{'C': 1.0,\n",
            " 'break_ties': False,\n",
            " 'cache_size': 200,\n",
            " 'class_weight': None,\n",
            " 'coef0': 0.0,\n",
            " 'decision_function_shape': 'ovr',\n",
            " 'degree': 3,\n",
            " 'gamma': 'scale',\n",
            " 'kernel': 'linear',\n",
            " 'max_iter': -1,\n",
            " 'probability': False,\n",
            " 'random_state': None,\n",
            " 'shrinking': True,\n",
            " 'tol': 0.001,\n",
            " 'verbose': False}\n"
          ],
          "name": "stdout"
        }
      ]
    },
    {
      "cell_type": "code",
      "metadata": {
        "colab": {
          "base_uri": "https://localhost:8080/"
        },
        "id": "DaHfreMU0LtV",
        "outputId": "723f2823-50b9-49c9-cdae-b22a633b32d0"
      },
      "source": [
        "#### Bootstrapping ####\n",
        "########################################################\n",
        "# Creating empty list to hold accuracy values\n",
        "AccuracyValues=[]\n",
        "n_times=60\n",
        "## Performing bootstrapping\n",
        "from sklearn import svm\n",
        "from sklearn import metrics\n",
        "for i in range(n_times):\n",
        "    #Split the data into training and testing set\n",
        "    from sklearn.model_selection import train_test_split\n",
        "    # Changing the seed value for each iteration\n",
        "    X_train, X_test, y_train, y_test = train_test_split(X, y, test_size=0.2, random_state=42+i)\n",
        "    result = svm.SVC(kernel='linear')\n",
        "    result.fit(X_train, y_train)\n",
        "    ########################################################\n",
        "    predictions = result.predict(X_test)\n",
        "    Accuracy=metrics.accuracy_score(y_test, predictions)\n",
        "    print(Accuracy)\n",
        "    AccuracyValues.append((Accuracy))\n",
        "    #print(Accuracy)\n",
        "    print(AccuracyValues)\n",
        "\n",
        "###### Single Decision Tree Regression in Python #######\n",
        "    #choose from different tunable hyper parameters\n",
        "    #RegModel = tree.DecisionTreeRegressor(max_depth=3,criterion='mse')\n",
        " \n",
        "    #Creating the model on Training Data\n",
        "    #DTree=RegModel.fit(X_train,y_train)\n",
        "    #prediction=DTree.predict(X_test)\n",
        " \n",
        "    #Measuring accuracy on Testing Data\n",
        "#Accuracy=100- (np.mean(np.abs((y_test - prediction) / y_test)) * 100)\n",
        "    \n",
        "    # Storing accuracy values\n",
        "#AccuracyValues.append(np.round(Accuracy))\n",
        "    \n",
        "################################################\n",
        "# Result of all bootstrapping trials\n",
        "print(AccuracyValues)\n",
        " \n",
        "# Final accuracy\n",
        "print('Final average accuracy', np.mean(AccuracyValues), 'std', np.std(AccuracyValues))\n",
        "#print(\"Test Accuracy:\", metrics.accuracy_score(y_test, y_final ))"
      ],
      "execution_count": 90,
      "outputs": [
        {
          "output_type": "stream",
          "text": [
            "0.45\n",
            "[0.45]\n",
            "0.5\n",
            "[0.45, 0.5]\n",
            "0.35\n",
            "[0.45, 0.5, 0.35]\n",
            "0.45\n",
            "[0.45, 0.5, 0.35, 0.45]\n",
            "0.35\n",
            "[0.45, 0.5, 0.35, 0.45, 0.35]\n",
            "0.7\n",
            "[0.45, 0.5, 0.35, 0.45, 0.35, 0.7]\n",
            "0.55\n",
            "[0.45, 0.5, 0.35, 0.45, 0.35, 0.7, 0.55]\n",
            "0.35\n",
            "[0.45, 0.5, 0.35, 0.45, 0.35, 0.7, 0.55, 0.35]\n",
            "0.5\n",
            "[0.45, 0.5, 0.35, 0.45, 0.35, 0.7, 0.55, 0.35, 0.5]\n",
            "0.6\n",
            "[0.45, 0.5, 0.35, 0.45, 0.35, 0.7, 0.55, 0.35, 0.5, 0.6]\n",
            "0.4\n",
            "[0.45, 0.5, 0.35, 0.45, 0.35, 0.7, 0.55, 0.35, 0.5, 0.6, 0.4]\n",
            "0.7\n",
            "[0.45, 0.5, 0.35, 0.45, 0.35, 0.7, 0.55, 0.35, 0.5, 0.6, 0.4, 0.7]\n",
            "0.55\n",
            "[0.45, 0.5, 0.35, 0.45, 0.35, 0.7, 0.55, 0.35, 0.5, 0.6, 0.4, 0.7, 0.55]\n",
            "0.55\n",
            "[0.45, 0.5, 0.35, 0.45, 0.35, 0.7, 0.55, 0.35, 0.5, 0.6, 0.4, 0.7, 0.55, 0.55]\n",
            "0.5\n",
            "[0.45, 0.5, 0.35, 0.45, 0.35, 0.7, 0.55, 0.35, 0.5, 0.6, 0.4, 0.7, 0.55, 0.55, 0.5]\n",
            "0.65\n",
            "[0.45, 0.5, 0.35, 0.45, 0.35, 0.7, 0.55, 0.35, 0.5, 0.6, 0.4, 0.7, 0.55, 0.55, 0.5, 0.65]\n",
            "0.3\n",
            "[0.45, 0.5, 0.35, 0.45, 0.35, 0.7, 0.55, 0.35, 0.5, 0.6, 0.4, 0.7, 0.55, 0.55, 0.5, 0.65, 0.3]\n",
            "0.6\n",
            "[0.45, 0.5, 0.35, 0.45, 0.35, 0.7, 0.55, 0.35, 0.5, 0.6, 0.4, 0.7, 0.55, 0.55, 0.5, 0.65, 0.3, 0.6]\n",
            "0.35\n",
            "[0.45, 0.5, 0.35, 0.45, 0.35, 0.7, 0.55, 0.35, 0.5, 0.6, 0.4, 0.7, 0.55, 0.55, 0.5, 0.65, 0.3, 0.6, 0.35]\n",
            "0.35\n",
            "[0.45, 0.5, 0.35, 0.45, 0.35, 0.7, 0.55, 0.35, 0.5, 0.6, 0.4, 0.7, 0.55, 0.55, 0.5, 0.65, 0.3, 0.6, 0.35, 0.35]\n",
            "0.5\n",
            "[0.45, 0.5, 0.35, 0.45, 0.35, 0.7, 0.55, 0.35, 0.5, 0.6, 0.4, 0.7, 0.55, 0.55, 0.5, 0.65, 0.3, 0.6, 0.35, 0.35, 0.5]\n",
            "0.4\n",
            "[0.45, 0.5, 0.35, 0.45, 0.35, 0.7, 0.55, 0.35, 0.5, 0.6, 0.4, 0.7, 0.55, 0.55, 0.5, 0.65, 0.3, 0.6, 0.35, 0.35, 0.5, 0.4]\n",
            "0.45\n",
            "[0.45, 0.5, 0.35, 0.45, 0.35, 0.7, 0.55, 0.35, 0.5, 0.6, 0.4, 0.7, 0.55, 0.55, 0.5, 0.65, 0.3, 0.6, 0.35, 0.35, 0.5, 0.4, 0.45]\n",
            "0.4\n",
            "[0.45, 0.5, 0.35, 0.45, 0.35, 0.7, 0.55, 0.35, 0.5, 0.6, 0.4, 0.7, 0.55, 0.55, 0.5, 0.65, 0.3, 0.6, 0.35, 0.35, 0.5, 0.4, 0.45, 0.4]\n",
            "0.45\n",
            "[0.45, 0.5, 0.35, 0.45, 0.35, 0.7, 0.55, 0.35, 0.5, 0.6, 0.4, 0.7, 0.55, 0.55, 0.5, 0.65, 0.3, 0.6, 0.35, 0.35, 0.5, 0.4, 0.45, 0.4, 0.45]\n",
            "0.55\n",
            "[0.45, 0.5, 0.35, 0.45, 0.35, 0.7, 0.55, 0.35, 0.5, 0.6, 0.4, 0.7, 0.55, 0.55, 0.5, 0.65, 0.3, 0.6, 0.35, 0.35, 0.5, 0.4, 0.45, 0.4, 0.45, 0.55]\n",
            "0.7\n",
            "[0.45, 0.5, 0.35, 0.45, 0.35, 0.7, 0.55, 0.35, 0.5, 0.6, 0.4, 0.7, 0.55, 0.55, 0.5, 0.65, 0.3, 0.6, 0.35, 0.35, 0.5, 0.4, 0.45, 0.4, 0.45, 0.55, 0.7]\n",
            "0.4\n",
            "[0.45, 0.5, 0.35, 0.45, 0.35, 0.7, 0.55, 0.35, 0.5, 0.6, 0.4, 0.7, 0.55, 0.55, 0.5, 0.65, 0.3, 0.6, 0.35, 0.35, 0.5, 0.4, 0.45, 0.4, 0.45, 0.55, 0.7, 0.4]\n",
            "0.4\n",
            "[0.45, 0.5, 0.35, 0.45, 0.35, 0.7, 0.55, 0.35, 0.5, 0.6, 0.4, 0.7, 0.55, 0.55, 0.5, 0.65, 0.3, 0.6, 0.35, 0.35, 0.5, 0.4, 0.45, 0.4, 0.45, 0.55, 0.7, 0.4, 0.4]\n",
            "0.45\n",
            "[0.45, 0.5, 0.35, 0.45, 0.35, 0.7, 0.55, 0.35, 0.5, 0.6, 0.4, 0.7, 0.55, 0.55, 0.5, 0.65, 0.3, 0.6, 0.35, 0.35, 0.5, 0.4, 0.45, 0.4, 0.45, 0.55, 0.7, 0.4, 0.4, 0.45]\n",
            "0.6\n",
            "[0.45, 0.5, 0.35, 0.45, 0.35, 0.7, 0.55, 0.35, 0.5, 0.6, 0.4, 0.7, 0.55, 0.55, 0.5, 0.65, 0.3, 0.6, 0.35, 0.35, 0.5, 0.4, 0.45, 0.4, 0.45, 0.55, 0.7, 0.4, 0.4, 0.45, 0.6]\n",
            "0.4\n",
            "[0.45, 0.5, 0.35, 0.45, 0.35, 0.7, 0.55, 0.35, 0.5, 0.6, 0.4, 0.7, 0.55, 0.55, 0.5, 0.65, 0.3, 0.6, 0.35, 0.35, 0.5, 0.4, 0.45, 0.4, 0.45, 0.55, 0.7, 0.4, 0.4, 0.45, 0.6, 0.4]\n",
            "0.4\n",
            "[0.45, 0.5, 0.35, 0.45, 0.35, 0.7, 0.55, 0.35, 0.5, 0.6, 0.4, 0.7, 0.55, 0.55, 0.5, 0.65, 0.3, 0.6, 0.35, 0.35, 0.5, 0.4, 0.45, 0.4, 0.45, 0.55, 0.7, 0.4, 0.4, 0.45, 0.6, 0.4, 0.4]\n",
            "0.45\n",
            "[0.45, 0.5, 0.35, 0.45, 0.35, 0.7, 0.55, 0.35, 0.5, 0.6, 0.4, 0.7, 0.55, 0.55, 0.5, 0.65, 0.3, 0.6, 0.35, 0.35, 0.5, 0.4, 0.45, 0.4, 0.45, 0.55, 0.7, 0.4, 0.4, 0.45, 0.6, 0.4, 0.4, 0.45]\n",
            "0.45\n",
            "[0.45, 0.5, 0.35, 0.45, 0.35, 0.7, 0.55, 0.35, 0.5, 0.6, 0.4, 0.7, 0.55, 0.55, 0.5, 0.65, 0.3, 0.6, 0.35, 0.35, 0.5, 0.4, 0.45, 0.4, 0.45, 0.55, 0.7, 0.4, 0.4, 0.45, 0.6, 0.4, 0.4, 0.45, 0.45]\n",
            "0.4\n",
            "[0.45, 0.5, 0.35, 0.45, 0.35, 0.7, 0.55, 0.35, 0.5, 0.6, 0.4, 0.7, 0.55, 0.55, 0.5, 0.65, 0.3, 0.6, 0.35, 0.35, 0.5, 0.4, 0.45, 0.4, 0.45, 0.55, 0.7, 0.4, 0.4, 0.45, 0.6, 0.4, 0.4, 0.45, 0.45, 0.4]\n",
            "0.4\n",
            "[0.45, 0.5, 0.35, 0.45, 0.35, 0.7, 0.55, 0.35, 0.5, 0.6, 0.4, 0.7, 0.55, 0.55, 0.5, 0.65, 0.3, 0.6, 0.35, 0.35, 0.5, 0.4, 0.45, 0.4, 0.45, 0.55, 0.7, 0.4, 0.4, 0.45, 0.6, 0.4, 0.4, 0.45, 0.45, 0.4, 0.4]\n",
            "0.55\n",
            "[0.45, 0.5, 0.35, 0.45, 0.35, 0.7, 0.55, 0.35, 0.5, 0.6, 0.4, 0.7, 0.55, 0.55, 0.5, 0.65, 0.3, 0.6, 0.35, 0.35, 0.5, 0.4, 0.45, 0.4, 0.45, 0.55, 0.7, 0.4, 0.4, 0.45, 0.6, 0.4, 0.4, 0.45, 0.45, 0.4, 0.4, 0.55]\n",
            "0.6\n",
            "[0.45, 0.5, 0.35, 0.45, 0.35, 0.7, 0.55, 0.35, 0.5, 0.6, 0.4, 0.7, 0.55, 0.55, 0.5, 0.65, 0.3, 0.6, 0.35, 0.35, 0.5, 0.4, 0.45, 0.4, 0.45, 0.55, 0.7, 0.4, 0.4, 0.45, 0.6, 0.4, 0.4, 0.45, 0.45, 0.4, 0.4, 0.55, 0.6]\n",
            "0.55\n",
            "[0.45, 0.5, 0.35, 0.45, 0.35, 0.7, 0.55, 0.35, 0.5, 0.6, 0.4, 0.7, 0.55, 0.55, 0.5, 0.65, 0.3, 0.6, 0.35, 0.35, 0.5, 0.4, 0.45, 0.4, 0.45, 0.55, 0.7, 0.4, 0.4, 0.45, 0.6, 0.4, 0.4, 0.45, 0.45, 0.4, 0.4, 0.55, 0.6, 0.55]\n",
            "0.4\n",
            "[0.45, 0.5, 0.35, 0.45, 0.35, 0.7, 0.55, 0.35, 0.5, 0.6, 0.4, 0.7, 0.55, 0.55, 0.5, 0.65, 0.3, 0.6, 0.35, 0.35, 0.5, 0.4, 0.45, 0.4, 0.45, 0.55, 0.7, 0.4, 0.4, 0.45, 0.6, 0.4, 0.4, 0.45, 0.45, 0.4, 0.4, 0.55, 0.6, 0.55, 0.4]\n",
            "0.65\n",
            "[0.45, 0.5, 0.35, 0.45, 0.35, 0.7, 0.55, 0.35, 0.5, 0.6, 0.4, 0.7, 0.55, 0.55, 0.5, 0.65, 0.3, 0.6, 0.35, 0.35, 0.5, 0.4, 0.45, 0.4, 0.45, 0.55, 0.7, 0.4, 0.4, 0.45, 0.6, 0.4, 0.4, 0.45, 0.45, 0.4, 0.4, 0.55, 0.6, 0.55, 0.4, 0.65]\n",
            "0.35\n",
            "[0.45, 0.5, 0.35, 0.45, 0.35, 0.7, 0.55, 0.35, 0.5, 0.6, 0.4, 0.7, 0.55, 0.55, 0.5, 0.65, 0.3, 0.6, 0.35, 0.35, 0.5, 0.4, 0.45, 0.4, 0.45, 0.55, 0.7, 0.4, 0.4, 0.45, 0.6, 0.4, 0.4, 0.45, 0.45, 0.4, 0.4, 0.55, 0.6, 0.55, 0.4, 0.65, 0.35]\n",
            "0.4\n",
            "[0.45, 0.5, 0.35, 0.45, 0.35, 0.7, 0.55, 0.35, 0.5, 0.6, 0.4, 0.7, 0.55, 0.55, 0.5, 0.65, 0.3, 0.6, 0.35, 0.35, 0.5, 0.4, 0.45, 0.4, 0.45, 0.55, 0.7, 0.4, 0.4, 0.45, 0.6, 0.4, 0.4, 0.45, 0.45, 0.4, 0.4, 0.55, 0.6, 0.55, 0.4, 0.65, 0.35, 0.4]\n",
            "0.45\n",
            "[0.45, 0.5, 0.35, 0.45, 0.35, 0.7, 0.55, 0.35, 0.5, 0.6, 0.4, 0.7, 0.55, 0.55, 0.5, 0.65, 0.3, 0.6, 0.35, 0.35, 0.5, 0.4, 0.45, 0.4, 0.45, 0.55, 0.7, 0.4, 0.4, 0.45, 0.6, 0.4, 0.4, 0.45, 0.45, 0.4, 0.4, 0.55, 0.6, 0.55, 0.4, 0.65, 0.35, 0.4, 0.45]\n",
            "0.35\n",
            "[0.45, 0.5, 0.35, 0.45, 0.35, 0.7, 0.55, 0.35, 0.5, 0.6, 0.4, 0.7, 0.55, 0.55, 0.5, 0.65, 0.3, 0.6, 0.35, 0.35, 0.5, 0.4, 0.45, 0.4, 0.45, 0.55, 0.7, 0.4, 0.4, 0.45, 0.6, 0.4, 0.4, 0.45, 0.45, 0.4, 0.4, 0.55, 0.6, 0.55, 0.4, 0.65, 0.35, 0.4, 0.45, 0.35]\n",
            "0.45\n",
            "[0.45, 0.5, 0.35, 0.45, 0.35, 0.7, 0.55, 0.35, 0.5, 0.6, 0.4, 0.7, 0.55, 0.55, 0.5, 0.65, 0.3, 0.6, 0.35, 0.35, 0.5, 0.4, 0.45, 0.4, 0.45, 0.55, 0.7, 0.4, 0.4, 0.45, 0.6, 0.4, 0.4, 0.45, 0.45, 0.4, 0.4, 0.55, 0.6, 0.55, 0.4, 0.65, 0.35, 0.4, 0.45, 0.35, 0.45]\n",
            "0.45\n",
            "[0.45, 0.5, 0.35, 0.45, 0.35, 0.7, 0.55, 0.35, 0.5, 0.6, 0.4, 0.7, 0.55, 0.55, 0.5, 0.65, 0.3, 0.6, 0.35, 0.35, 0.5, 0.4, 0.45, 0.4, 0.45, 0.55, 0.7, 0.4, 0.4, 0.45, 0.6, 0.4, 0.4, 0.45, 0.45, 0.4, 0.4, 0.55, 0.6, 0.55, 0.4, 0.65, 0.35, 0.4, 0.45, 0.35, 0.45, 0.45]\n",
            "0.55\n",
            "[0.45, 0.5, 0.35, 0.45, 0.35, 0.7, 0.55, 0.35, 0.5, 0.6, 0.4, 0.7, 0.55, 0.55, 0.5, 0.65, 0.3, 0.6, 0.35, 0.35, 0.5, 0.4, 0.45, 0.4, 0.45, 0.55, 0.7, 0.4, 0.4, 0.45, 0.6, 0.4, 0.4, 0.45, 0.45, 0.4, 0.4, 0.55, 0.6, 0.55, 0.4, 0.65, 0.35, 0.4, 0.45, 0.35, 0.45, 0.45, 0.55]\n",
            "0.65\n",
            "[0.45, 0.5, 0.35, 0.45, 0.35, 0.7, 0.55, 0.35, 0.5, 0.6, 0.4, 0.7, 0.55, 0.55, 0.5, 0.65, 0.3, 0.6, 0.35, 0.35, 0.5, 0.4, 0.45, 0.4, 0.45, 0.55, 0.7, 0.4, 0.4, 0.45, 0.6, 0.4, 0.4, 0.45, 0.45, 0.4, 0.4, 0.55, 0.6, 0.55, 0.4, 0.65, 0.35, 0.4, 0.45, 0.35, 0.45, 0.45, 0.55, 0.65]\n",
            "0.55\n",
            "[0.45, 0.5, 0.35, 0.45, 0.35, 0.7, 0.55, 0.35, 0.5, 0.6, 0.4, 0.7, 0.55, 0.55, 0.5, 0.65, 0.3, 0.6, 0.35, 0.35, 0.5, 0.4, 0.45, 0.4, 0.45, 0.55, 0.7, 0.4, 0.4, 0.45, 0.6, 0.4, 0.4, 0.45, 0.45, 0.4, 0.4, 0.55, 0.6, 0.55, 0.4, 0.65, 0.35, 0.4, 0.45, 0.35, 0.45, 0.45, 0.55, 0.65, 0.55]\n",
            "0.5\n",
            "[0.45, 0.5, 0.35, 0.45, 0.35, 0.7, 0.55, 0.35, 0.5, 0.6, 0.4, 0.7, 0.55, 0.55, 0.5, 0.65, 0.3, 0.6, 0.35, 0.35, 0.5, 0.4, 0.45, 0.4, 0.45, 0.55, 0.7, 0.4, 0.4, 0.45, 0.6, 0.4, 0.4, 0.45, 0.45, 0.4, 0.4, 0.55, 0.6, 0.55, 0.4, 0.65, 0.35, 0.4, 0.45, 0.35, 0.45, 0.45, 0.55, 0.65, 0.55, 0.5]\n",
            "0.45\n",
            "[0.45, 0.5, 0.35, 0.45, 0.35, 0.7, 0.55, 0.35, 0.5, 0.6, 0.4, 0.7, 0.55, 0.55, 0.5, 0.65, 0.3, 0.6, 0.35, 0.35, 0.5, 0.4, 0.45, 0.4, 0.45, 0.55, 0.7, 0.4, 0.4, 0.45, 0.6, 0.4, 0.4, 0.45, 0.45, 0.4, 0.4, 0.55, 0.6, 0.55, 0.4, 0.65, 0.35, 0.4, 0.45, 0.35, 0.45, 0.45, 0.55, 0.65, 0.55, 0.5, 0.45]\n",
            "0.6\n",
            "[0.45, 0.5, 0.35, 0.45, 0.35, 0.7, 0.55, 0.35, 0.5, 0.6, 0.4, 0.7, 0.55, 0.55, 0.5, 0.65, 0.3, 0.6, 0.35, 0.35, 0.5, 0.4, 0.45, 0.4, 0.45, 0.55, 0.7, 0.4, 0.4, 0.45, 0.6, 0.4, 0.4, 0.45, 0.45, 0.4, 0.4, 0.55, 0.6, 0.55, 0.4, 0.65, 0.35, 0.4, 0.45, 0.35, 0.45, 0.45, 0.55, 0.65, 0.55, 0.5, 0.45, 0.6]\n",
            "0.75\n",
            "[0.45, 0.5, 0.35, 0.45, 0.35, 0.7, 0.55, 0.35, 0.5, 0.6, 0.4, 0.7, 0.55, 0.55, 0.5, 0.65, 0.3, 0.6, 0.35, 0.35, 0.5, 0.4, 0.45, 0.4, 0.45, 0.55, 0.7, 0.4, 0.4, 0.45, 0.6, 0.4, 0.4, 0.45, 0.45, 0.4, 0.4, 0.55, 0.6, 0.55, 0.4, 0.65, 0.35, 0.4, 0.45, 0.35, 0.45, 0.45, 0.55, 0.65, 0.55, 0.5, 0.45, 0.6, 0.75]\n",
            "0.35\n",
            "[0.45, 0.5, 0.35, 0.45, 0.35, 0.7, 0.55, 0.35, 0.5, 0.6, 0.4, 0.7, 0.55, 0.55, 0.5, 0.65, 0.3, 0.6, 0.35, 0.35, 0.5, 0.4, 0.45, 0.4, 0.45, 0.55, 0.7, 0.4, 0.4, 0.45, 0.6, 0.4, 0.4, 0.45, 0.45, 0.4, 0.4, 0.55, 0.6, 0.55, 0.4, 0.65, 0.35, 0.4, 0.45, 0.35, 0.45, 0.45, 0.55, 0.65, 0.55, 0.5, 0.45, 0.6, 0.75, 0.35]\n",
            "0.5\n",
            "[0.45, 0.5, 0.35, 0.45, 0.35, 0.7, 0.55, 0.35, 0.5, 0.6, 0.4, 0.7, 0.55, 0.55, 0.5, 0.65, 0.3, 0.6, 0.35, 0.35, 0.5, 0.4, 0.45, 0.4, 0.45, 0.55, 0.7, 0.4, 0.4, 0.45, 0.6, 0.4, 0.4, 0.45, 0.45, 0.4, 0.4, 0.55, 0.6, 0.55, 0.4, 0.65, 0.35, 0.4, 0.45, 0.35, 0.45, 0.45, 0.55, 0.65, 0.55, 0.5, 0.45, 0.6, 0.75, 0.35, 0.5]\n",
            "0.55\n",
            "[0.45, 0.5, 0.35, 0.45, 0.35, 0.7, 0.55, 0.35, 0.5, 0.6, 0.4, 0.7, 0.55, 0.55, 0.5, 0.65, 0.3, 0.6, 0.35, 0.35, 0.5, 0.4, 0.45, 0.4, 0.45, 0.55, 0.7, 0.4, 0.4, 0.45, 0.6, 0.4, 0.4, 0.45, 0.45, 0.4, 0.4, 0.55, 0.6, 0.55, 0.4, 0.65, 0.35, 0.4, 0.45, 0.35, 0.45, 0.45, 0.55, 0.65, 0.55, 0.5, 0.45, 0.6, 0.75, 0.35, 0.5, 0.55]\n",
            "0.55\n",
            "[0.45, 0.5, 0.35, 0.45, 0.35, 0.7, 0.55, 0.35, 0.5, 0.6, 0.4, 0.7, 0.55, 0.55, 0.5, 0.65, 0.3, 0.6, 0.35, 0.35, 0.5, 0.4, 0.45, 0.4, 0.45, 0.55, 0.7, 0.4, 0.4, 0.45, 0.6, 0.4, 0.4, 0.45, 0.45, 0.4, 0.4, 0.55, 0.6, 0.55, 0.4, 0.65, 0.35, 0.4, 0.45, 0.35, 0.45, 0.45, 0.55, 0.65, 0.55, 0.5, 0.45, 0.6, 0.75, 0.35, 0.5, 0.55, 0.55]\n",
            "0.55\n",
            "[0.45, 0.5, 0.35, 0.45, 0.35, 0.7, 0.55, 0.35, 0.5, 0.6, 0.4, 0.7, 0.55, 0.55, 0.5, 0.65, 0.3, 0.6, 0.35, 0.35, 0.5, 0.4, 0.45, 0.4, 0.45, 0.55, 0.7, 0.4, 0.4, 0.45, 0.6, 0.4, 0.4, 0.45, 0.45, 0.4, 0.4, 0.55, 0.6, 0.55, 0.4, 0.65, 0.35, 0.4, 0.45, 0.35, 0.45, 0.45, 0.55, 0.65, 0.55, 0.5, 0.45, 0.6, 0.75, 0.35, 0.5, 0.55, 0.55, 0.55]\n",
            "[0.45, 0.5, 0.35, 0.45, 0.35, 0.7, 0.55, 0.35, 0.5, 0.6, 0.4, 0.7, 0.55, 0.55, 0.5, 0.65, 0.3, 0.6, 0.35, 0.35, 0.5, 0.4, 0.45, 0.4, 0.45, 0.55, 0.7, 0.4, 0.4, 0.45, 0.6, 0.4, 0.4, 0.45, 0.45, 0.4, 0.4, 0.55, 0.6, 0.55, 0.4, 0.65, 0.35, 0.4, 0.45, 0.35, 0.45, 0.45, 0.55, 0.65, 0.55, 0.5, 0.45, 0.6, 0.75, 0.35, 0.5, 0.55, 0.55, 0.55]\n",
            "Final average accuracy 0.48833333333333334 std 0.10620995977569879\n"
          ],
          "name": "stdout"
        }
      ]
    },
    {
      "cell_type": "code",
      "metadata": {
        "id": "xKdKCo-UWnd6"
      },
      "source": [
        "import pandas as pd\n",
        "import numpy as np\n",
        "from sklearn.metrics import accuracy_score, confusion_matrix\n",
        "from sklearn import svm"
      ],
      "execution_count": 91,
      "outputs": []
    },
    {
      "cell_type": "code",
      "metadata": {
        "id": "c6wMdXH4bV69"
      },
      "source": [
        "#from sklearn import svm\n",
        "#from sklearn.model_selection import cross_val_score\n",
        "from sklearn.model_selection import train_test_split \n",
        "X_train, X_test, y_train, y_test = train_test_split(X, y, test_size=0.2, random_state=42)\n",
        "model = svm.SVC()\n",
        "#accuracy = cross_val_score(model, X_train, y_train, scoring='accuracy', cv = 10)\n",
        "#print(accuracy)\n",
        "#print(\"Accuracy of Model with Cross Validation is:\",accuracy.mean() * 100)"
      ],
      "execution_count": 92,
      "outputs": []
    },
    {
      "cell_type": "code",
      "metadata": {
        "colab": {
          "base_uri": "https://localhost:8080/"
        },
        "id": "geiZxeeRDcVr",
        "outputId": "51ae281c-8854-4f69-956d-ba78aca08ca8"
      },
      "source": [
        "from pprint import pprint\n",
        "# Look at parameters used by our current forest\n",
        "print('Parameters currently in use:\\n')\n",
        "pprint(model.get_params())"
      ],
      "execution_count": 93,
      "outputs": [
        {
          "output_type": "stream",
          "text": [
            "Parameters currently in use:\n",
            "\n",
            "{'C': 1.0,\n",
            " 'break_ties': False,\n",
            " 'cache_size': 200,\n",
            " 'class_weight': None,\n",
            " 'coef0': 0.0,\n",
            " 'decision_function_shape': 'ovr',\n",
            " 'degree': 3,\n",
            " 'gamma': 'scale',\n",
            " 'kernel': 'rbf',\n",
            " 'max_iter': -1,\n",
            " 'probability': False,\n",
            " 'random_state': None,\n",
            " 'shrinking': True,\n",
            " 'tol': 0.001,\n",
            " 'verbose': False}\n"
          ],
          "name": "stdout"
        }
      ]
    },
    {
      "cell_type": "code",
      "metadata": {
        "colab": {
          "base_uri": "https://localhost:8080/"
        },
        "id": "3I_Ill0BFtHt",
        "outputId": "0adfe249-9f9a-4157-9538-be5fc92ac7b1"
      },
      "source": [
        "from pprint import pprint\n",
        "pprint(result.set_params())"
      ],
      "execution_count": 94,
      "outputs": [
        {
          "output_type": "stream",
          "text": [
            "SVC(C=1.0, break_ties=False, cache_size=200, class_weight=None, coef0=0.0,\n",
            "    decision_function_shape='ovr', degree=3, gamma='scale', kernel='linear',\n",
            "    max_iter=-1, probability=False, random_state=None, shrinking=True,\n",
            "    tol=0.001, verbose=False)\n"
          ],
          "name": "stdout"
        }
      ]
    },
    {
      "cell_type": "code",
      "metadata": {
        "colab": {
          "base_uri": "https://localhost:8080/"
        },
        "id": "YODhdjzfM49M",
        "outputId": "b147f478-2b09-43be-dee3-03255e963e70"
      },
      "source": [
        "from sklearn.model_selection import RandomizedSearchCV\n",
        "from pprint import pprint\n",
        "# Number of trees in random forest\n",
        "kernel = ['linear', 'poly', 'rbf', 'sigmoid'] #[int(x) for x in np.linspace(start = 200, stop = 2000, num = 10)]\n",
        "\n",
        "# Number of features to consider at every split\n",
        "C = [0.1, 1, 10, 100, 1000] #['auto', 'sqrt']\n",
        "# Maximum number of levels in tree\n",
        "gamma = [0.1, 1, 10, 100] #[int(x) for x in np.linspace(10, 110, num = 11)]\n",
        "#max_depth.append(None)\n",
        "# Minimum number of samples required to split a node\n",
        "degree = [0, 1, 2, 3, 4, 5, 6]\n",
        "# Minimum number of samples required at each leaf node\n",
        "# Method of selecting samples for training each tree\n",
        "# Create the random grid\n",
        "random_grid = {'kernel': kernel,\n",
        "               'C': C,\n",
        "               'gamma': gamma,\n",
        "               'degree': degree}\n",
        "pprint(random_grid)"
      ],
      "execution_count": 95,
      "outputs": [
        {
          "output_type": "stream",
          "text": [
            "{'C': [0.1, 1, 10, 100, 1000],\n",
            " 'degree': [0, 1, 2, 3, 4, 5, 6],\n",
            " 'gamma': [0.1, 1, 10, 100],\n",
            " 'kernel': ['linear', 'poly', 'rbf', 'sigmoid']}\n"
          ],
          "name": "stdout"
        }
      ]
    },
    {
      "cell_type": "code",
      "metadata": {
        "colab": {
          "base_uri": "https://localhost:8080/"
        },
        "id": "2w4_oHf0evUg",
        "outputId": "bf6eb2de-239c-4cd3-9097-18b0bff14294"
      },
      "source": [
        "from sklearn.model_selection import RandomizedSearchCV\n",
        "from scipy.stats import reciprocal, uniform\n",
        "X_train, X_test, y_train, y_test = train_test_split(X, y, test_size=0.2, random_state=42)\n",
        "# Use the random grid to search for best hyperparameters\n",
        "# First create the base model to tune\n",
        "tree_clf = svm.SVC()\n",
        "# Random search of parameters, using 3 fold cross validation, \n",
        "# search across 100 different combinations, and use all available cores\n",
        "clf = RandomizedSearchCV(estimator = model, param_distributions = random_grid, n_iter = 200, cv = 5, verbose=2, random_state=42, n_jobs = -1)\n",
        "# Fit the random search model\n",
        "clf.fit(X_train, y_train)\n",
        "#rnd_search_cv.best_estimator_\n",
        "#param_distributions = {\"gamma\": reciprocal(0.001, 0.1), \"C\": uniform(1, 10)}\n",
        "#rnd_search_cv.best_estimator_.fit(X_train_scaled, y_train)\n",
        "#y_pred = rnd_search_cv.best_estimator_.predict(X_train_scaled)\n",
        "#accuracy_score(y_train, y_pred)\n",
        "#y_pred = rnd_search_cv.best_estimator_.predict(X_test_scaled)\n",
        "#accuracy_score(y_test, y_pred)"
      ],
      "execution_count": 96,
      "outputs": [
        {
          "output_type": "stream",
          "text": [
            "Fitting 5 folds for each of 200 candidates, totalling 1000 fits\n"
          ],
          "name": "stdout"
        },
        {
          "output_type": "stream",
          "text": [
            "[Parallel(n_jobs=-1)]: Using backend LokyBackend with 2 concurrent workers.\n",
            "[Parallel(n_jobs=-1)]: Done 907 tasks      | elapsed:    2.1s\n",
            "[Parallel(n_jobs=-1)]: Done 997 out of 1000 | elapsed:    2.3s remaining:    0.0s\n",
            "[Parallel(n_jobs=-1)]: Done 1000 out of 1000 | elapsed:    2.3s finished\n"
          ],
          "name": "stderr"
        },
        {
          "output_type": "execute_result",
          "data": {
            "text/plain": [
              "RandomizedSearchCV(cv=5, error_score=nan,\n",
              "                   estimator=SVC(C=1.0, break_ties=False, cache_size=200,\n",
              "                                 class_weight=None, coef0=0.0,\n",
              "                                 decision_function_shape='ovr', degree=3,\n",
              "                                 gamma='scale', kernel='rbf', max_iter=-1,\n",
              "                                 probability=False, random_state=None,\n",
              "                                 shrinking=True, tol=0.001, verbose=False),\n",
              "                   iid='deprecated', n_iter=200, n_jobs=-1,\n",
              "                   param_distributions={'C': [0.1, 1, 10, 100, 1000],\n",
              "                                        'degree': [0, 1, 2, 3, 4, 5, 6],\n",
              "                                        'gamma': [0.1, 1, 10, 100],\n",
              "                                        'kernel': ['linear', 'poly', 'rbf',\n",
              "                                                   'sigmoid']},\n",
              "                   pre_dispatch='2*n_jobs', random_state=42, refit=True,\n",
              "                   return_train_score=False, scoring=None, verbose=2)"
            ]
          },
          "metadata": {
            "tags": []
          },
          "execution_count": 96
        }
      ]
    },
    {
      "cell_type": "code",
      "metadata": {
        "colab": {
          "base_uri": "https://localhost:8080/"
        },
        "id": "pOfwivRQFnL9",
        "outputId": "614e306a-927e-44fe-ad87-416f614320ae"
      },
      "source": [
        "clf.best_params_"
      ],
      "execution_count": 97,
      "outputs": [
        {
          "output_type": "execute_result",
          "data": {
            "text/plain": [
              "{'C': 10, 'degree': 6, 'gamma': 100, 'kernel': 'linear'}"
            ]
          },
          "metadata": {
            "tags": []
          },
          "execution_count": 97
        }
      ]
    },
    {
      "cell_type": "code",
      "metadata": {
        "id": "2MpUFlrdKLfd"
      },
      "source": [
        "### Nouvelle instantiation du svm.SVC avec les paramètres trouvés en Cross-Validation\n",
        "result = svm.SVC(C = 10, degree = 6, gamma = 100, kernel = 'linear')"
      ],
      "execution_count": 98,
      "outputs": []
    },
    {
      "cell_type": "code",
      "metadata": {
        "colab": {
          "base_uri": "https://localhost:8080/"
        },
        "id": "NvIlLrnLKPf2",
        "outputId": "0b68e4fc-0fda-4e2e-c084-604c206fa3c1"
      },
      "source": [
        "### entraînement du modèle avec les paramètres trouvés en Cross-Validation\n",
        "from sklearn.model_selection import train_test_split \n",
        "X_train, X_test, y_train, y_test = train_test_split(X, y, test_size=0.2, random_state=42)\n",
        "result.fit(X_train, y_train)"
      ],
      "execution_count": 99,
      "outputs": [
        {
          "output_type": "execute_result",
          "data": {
            "text/plain": [
              "SVC(C=10, break_ties=False, cache_size=200, class_weight=None, coef0=0.0,\n",
              "    decision_function_shape='ovr', degree=6, gamma=100, kernel='linear',\n",
              "    max_iter=-1, probability=False, random_state=None, shrinking=True,\n",
              "    tol=0.001, verbose=False)"
            ]
          },
          "metadata": {
            "tags": []
          },
          "execution_count": 99
        }
      ]
    },
    {
      "cell_type": "code",
      "metadata": {
        "colab": {
          "base_uri": "https://localhost:8080/"
        },
        "id": "hjDr2wfOKS_a",
        "outputId": "036a5456-ba95-4af1-b167-02a4381c22df"
      },
      "source": [
        "### Calcul de y_test et de l'accuracy \n",
        "from sklearn.metrics import accuracy_score\n",
        "from sklearn import metrics\n",
        "predictions = result.predict(X_test)\n",
        "print(\"Test Accuracy:\", metrics.accuracy_score(y_test, predictions))"
      ],
      "execution_count": 100,
      "outputs": [
        {
          "output_type": "stream",
          "text": [
            "Test Accuracy: 0.45\n"
          ],
          "name": "stdout"
        }
      ]
    },
    {
      "cell_type": "code",
      "metadata": {
        "colab": {
          "base_uri": "https://localhost:8080/"
        },
        "id": "K3SwXBsEKdKC",
        "outputId": "de820475-fbb8-4ecd-c2fd-09d170c33a1c"
      },
      "source": [
        "### Vérification avec f1_score\n",
        "from sklearn.metrics import f1_score\n",
        "f1_score(y_test, predictions)"
      ],
      "execution_count": 101,
      "outputs": [
        {
          "output_type": "execute_result",
          "data": {
            "text/plain": [
              "0.42105263157894735"
            ]
          },
          "metadata": {
            "tags": []
          },
          "execution_count": 101
        }
      ]
    },
    {
      "cell_type": "code",
      "metadata": {
        "colab": {
          "base_uri": "https://localhost:8080/"
        },
        "id": "iJO_EH1yKeCp",
        "outputId": "afeac166-72ea-4882-bb1c-b83a83717f18"
      },
      "source": [
        "### Boostraping 60 fois avec Paramètres obtenus en Cross-Validation\n",
        "from sklearn.model_selection import train_test_split \n",
        "from sklearn import metrics\n",
        "#### Bootstrapping ####\n",
        "########################################################\n",
        "# Creating empty list to hold accuracy values\n",
        "AccuracyValues=[]\n",
        "n_times=60\n",
        "## Performing bootstrapping\n",
        "from sklearn import metrics\n",
        "from sklearn.model_selection import train_test_split \n",
        "for i in range(n_times):\n",
        "    #Split the data into training and testing set\n",
        "    from sklearn.model_selection import train_test_split\n",
        "    # Changing the seed value for each iteration\n",
        "    X_train, X_test, y_train, y_test = train_test_split(X, y, test_size=0.2, random_state=42+i)\n",
        "    result = svm.SVC(C = 10, degree = 6, gamma = 100, kernel = 'linear')\n",
        "    result.fit(X_train, y_train)\n",
        "    ########################################################\n",
        "    prediction = result.predict(X_test)\n",
        "    Accuracy=metrics.accuracy_score(y_test, prediction)\n",
        "    print(Accuracy)\n",
        "    AccuracyValues.append((Accuracy))\n",
        "    #print(Accuracy)\n",
        "    print(AccuracyValues)\n",
        "    \n",
        "    #Creating the model on Training Data\n",
        "    #DTree=RegModel.fit(X_train,y_train)\n",
        "    #prediction=DTree.predict(X_test)\n",
        " \n",
        "    #Measuring accuracy on Testing Data\n",
        "#Accuracy=100- (np.mean(np.abs((y_test - prediction) / y_test)) * 100)\n",
        "    \n",
        "    # Storing accuracy values\n",
        "#AccuracyValues.append(np.round(Accuracy))\n",
        "    \n",
        "################################################\n",
        "# Result of all bootstrapping trials\n",
        "print(AccuracyValues)\n",
        " \n",
        "# Final accuracy\n",
        "print('Final average accuracy',np.mean(AccuracyValues), ' std ', np.std(AccuracyValues))\n",
        "#print(\"Test Accuracy:\", metrics.accuracy_score(y_test, y_final ))"
      ],
      "execution_count": 118,
      "outputs": [
        {
          "output_type": "stream",
          "text": [
            "0.45\n",
            "[0.45]\n",
            "0.5\n",
            "[0.45, 0.5]\n",
            "0.35\n",
            "[0.45, 0.5, 0.35]\n",
            "0.45\n",
            "[0.45, 0.5, 0.35, 0.45]\n",
            "0.35\n",
            "[0.45, 0.5, 0.35, 0.45, 0.35]\n",
            "0.7\n",
            "[0.45, 0.5, 0.35, 0.45, 0.35, 0.7]\n",
            "0.55\n",
            "[0.45, 0.5, 0.35, 0.45, 0.35, 0.7, 0.55]\n",
            "0.35\n",
            "[0.45, 0.5, 0.35, 0.45, 0.35, 0.7, 0.55, 0.35]\n",
            "0.5\n",
            "[0.45, 0.5, 0.35, 0.45, 0.35, 0.7, 0.55, 0.35, 0.5]\n",
            "0.6\n",
            "[0.45, 0.5, 0.35, 0.45, 0.35, 0.7, 0.55, 0.35, 0.5, 0.6]\n",
            "0.4\n",
            "[0.45, 0.5, 0.35, 0.45, 0.35, 0.7, 0.55, 0.35, 0.5, 0.6, 0.4]\n",
            "0.7\n",
            "[0.45, 0.5, 0.35, 0.45, 0.35, 0.7, 0.55, 0.35, 0.5, 0.6, 0.4, 0.7]\n",
            "0.55\n",
            "[0.45, 0.5, 0.35, 0.45, 0.35, 0.7, 0.55, 0.35, 0.5, 0.6, 0.4, 0.7, 0.55]\n",
            "0.55\n",
            "[0.45, 0.5, 0.35, 0.45, 0.35, 0.7, 0.55, 0.35, 0.5, 0.6, 0.4, 0.7, 0.55, 0.55]\n",
            "0.5\n",
            "[0.45, 0.5, 0.35, 0.45, 0.35, 0.7, 0.55, 0.35, 0.5, 0.6, 0.4, 0.7, 0.55, 0.55, 0.5]\n",
            "0.65\n",
            "[0.45, 0.5, 0.35, 0.45, 0.35, 0.7, 0.55, 0.35, 0.5, 0.6, 0.4, 0.7, 0.55, 0.55, 0.5, 0.65]\n",
            "0.3\n",
            "[0.45, 0.5, 0.35, 0.45, 0.35, 0.7, 0.55, 0.35, 0.5, 0.6, 0.4, 0.7, 0.55, 0.55, 0.5, 0.65, 0.3]\n",
            "0.6\n",
            "[0.45, 0.5, 0.35, 0.45, 0.35, 0.7, 0.55, 0.35, 0.5, 0.6, 0.4, 0.7, 0.55, 0.55, 0.5, 0.65, 0.3, 0.6]\n",
            "0.35\n",
            "[0.45, 0.5, 0.35, 0.45, 0.35, 0.7, 0.55, 0.35, 0.5, 0.6, 0.4, 0.7, 0.55, 0.55, 0.5, 0.65, 0.3, 0.6, 0.35]\n",
            "0.35\n",
            "[0.45, 0.5, 0.35, 0.45, 0.35, 0.7, 0.55, 0.35, 0.5, 0.6, 0.4, 0.7, 0.55, 0.55, 0.5, 0.65, 0.3, 0.6, 0.35, 0.35]\n",
            "0.5\n",
            "[0.45, 0.5, 0.35, 0.45, 0.35, 0.7, 0.55, 0.35, 0.5, 0.6, 0.4, 0.7, 0.55, 0.55, 0.5, 0.65, 0.3, 0.6, 0.35, 0.35, 0.5]\n",
            "0.4\n",
            "[0.45, 0.5, 0.35, 0.45, 0.35, 0.7, 0.55, 0.35, 0.5, 0.6, 0.4, 0.7, 0.55, 0.55, 0.5, 0.65, 0.3, 0.6, 0.35, 0.35, 0.5, 0.4]\n",
            "0.45\n",
            "[0.45, 0.5, 0.35, 0.45, 0.35, 0.7, 0.55, 0.35, 0.5, 0.6, 0.4, 0.7, 0.55, 0.55, 0.5, 0.65, 0.3, 0.6, 0.35, 0.35, 0.5, 0.4, 0.45]\n",
            "0.4\n",
            "[0.45, 0.5, 0.35, 0.45, 0.35, 0.7, 0.55, 0.35, 0.5, 0.6, 0.4, 0.7, 0.55, 0.55, 0.5, 0.65, 0.3, 0.6, 0.35, 0.35, 0.5, 0.4, 0.45, 0.4]\n",
            "0.45\n",
            "[0.45, 0.5, 0.35, 0.45, 0.35, 0.7, 0.55, 0.35, 0.5, 0.6, 0.4, 0.7, 0.55, 0.55, 0.5, 0.65, 0.3, 0.6, 0.35, 0.35, 0.5, 0.4, 0.45, 0.4, 0.45]\n",
            "0.55\n",
            "[0.45, 0.5, 0.35, 0.45, 0.35, 0.7, 0.55, 0.35, 0.5, 0.6, 0.4, 0.7, 0.55, 0.55, 0.5, 0.65, 0.3, 0.6, 0.35, 0.35, 0.5, 0.4, 0.45, 0.4, 0.45, 0.55]\n",
            "0.7\n",
            "[0.45, 0.5, 0.35, 0.45, 0.35, 0.7, 0.55, 0.35, 0.5, 0.6, 0.4, 0.7, 0.55, 0.55, 0.5, 0.65, 0.3, 0.6, 0.35, 0.35, 0.5, 0.4, 0.45, 0.4, 0.45, 0.55, 0.7]\n",
            "0.4\n",
            "[0.45, 0.5, 0.35, 0.45, 0.35, 0.7, 0.55, 0.35, 0.5, 0.6, 0.4, 0.7, 0.55, 0.55, 0.5, 0.65, 0.3, 0.6, 0.35, 0.35, 0.5, 0.4, 0.45, 0.4, 0.45, 0.55, 0.7, 0.4]\n",
            "0.4\n",
            "[0.45, 0.5, 0.35, 0.45, 0.35, 0.7, 0.55, 0.35, 0.5, 0.6, 0.4, 0.7, 0.55, 0.55, 0.5, 0.65, 0.3, 0.6, 0.35, 0.35, 0.5, 0.4, 0.45, 0.4, 0.45, 0.55, 0.7, 0.4, 0.4]\n",
            "0.45\n",
            "[0.45, 0.5, 0.35, 0.45, 0.35, 0.7, 0.55, 0.35, 0.5, 0.6, 0.4, 0.7, 0.55, 0.55, 0.5, 0.65, 0.3, 0.6, 0.35, 0.35, 0.5, 0.4, 0.45, 0.4, 0.45, 0.55, 0.7, 0.4, 0.4, 0.45]\n",
            "0.6\n",
            "[0.45, 0.5, 0.35, 0.45, 0.35, 0.7, 0.55, 0.35, 0.5, 0.6, 0.4, 0.7, 0.55, 0.55, 0.5, 0.65, 0.3, 0.6, 0.35, 0.35, 0.5, 0.4, 0.45, 0.4, 0.45, 0.55, 0.7, 0.4, 0.4, 0.45, 0.6]\n",
            "0.4\n",
            "[0.45, 0.5, 0.35, 0.45, 0.35, 0.7, 0.55, 0.35, 0.5, 0.6, 0.4, 0.7, 0.55, 0.55, 0.5, 0.65, 0.3, 0.6, 0.35, 0.35, 0.5, 0.4, 0.45, 0.4, 0.45, 0.55, 0.7, 0.4, 0.4, 0.45, 0.6, 0.4]\n",
            "0.4\n",
            "[0.45, 0.5, 0.35, 0.45, 0.35, 0.7, 0.55, 0.35, 0.5, 0.6, 0.4, 0.7, 0.55, 0.55, 0.5, 0.65, 0.3, 0.6, 0.35, 0.35, 0.5, 0.4, 0.45, 0.4, 0.45, 0.55, 0.7, 0.4, 0.4, 0.45, 0.6, 0.4, 0.4]\n",
            "0.45\n",
            "[0.45, 0.5, 0.35, 0.45, 0.35, 0.7, 0.55, 0.35, 0.5, 0.6, 0.4, 0.7, 0.55, 0.55, 0.5, 0.65, 0.3, 0.6, 0.35, 0.35, 0.5, 0.4, 0.45, 0.4, 0.45, 0.55, 0.7, 0.4, 0.4, 0.45, 0.6, 0.4, 0.4, 0.45]\n",
            "0.45\n",
            "[0.45, 0.5, 0.35, 0.45, 0.35, 0.7, 0.55, 0.35, 0.5, 0.6, 0.4, 0.7, 0.55, 0.55, 0.5, 0.65, 0.3, 0.6, 0.35, 0.35, 0.5, 0.4, 0.45, 0.4, 0.45, 0.55, 0.7, 0.4, 0.4, 0.45, 0.6, 0.4, 0.4, 0.45, 0.45]\n",
            "0.4\n",
            "[0.45, 0.5, 0.35, 0.45, 0.35, 0.7, 0.55, 0.35, 0.5, 0.6, 0.4, 0.7, 0.55, 0.55, 0.5, 0.65, 0.3, 0.6, 0.35, 0.35, 0.5, 0.4, 0.45, 0.4, 0.45, 0.55, 0.7, 0.4, 0.4, 0.45, 0.6, 0.4, 0.4, 0.45, 0.45, 0.4]\n",
            "0.4\n",
            "[0.45, 0.5, 0.35, 0.45, 0.35, 0.7, 0.55, 0.35, 0.5, 0.6, 0.4, 0.7, 0.55, 0.55, 0.5, 0.65, 0.3, 0.6, 0.35, 0.35, 0.5, 0.4, 0.45, 0.4, 0.45, 0.55, 0.7, 0.4, 0.4, 0.45, 0.6, 0.4, 0.4, 0.45, 0.45, 0.4, 0.4]\n",
            "0.55\n",
            "[0.45, 0.5, 0.35, 0.45, 0.35, 0.7, 0.55, 0.35, 0.5, 0.6, 0.4, 0.7, 0.55, 0.55, 0.5, 0.65, 0.3, 0.6, 0.35, 0.35, 0.5, 0.4, 0.45, 0.4, 0.45, 0.55, 0.7, 0.4, 0.4, 0.45, 0.6, 0.4, 0.4, 0.45, 0.45, 0.4, 0.4, 0.55]\n",
            "0.6\n",
            "[0.45, 0.5, 0.35, 0.45, 0.35, 0.7, 0.55, 0.35, 0.5, 0.6, 0.4, 0.7, 0.55, 0.55, 0.5, 0.65, 0.3, 0.6, 0.35, 0.35, 0.5, 0.4, 0.45, 0.4, 0.45, 0.55, 0.7, 0.4, 0.4, 0.45, 0.6, 0.4, 0.4, 0.45, 0.45, 0.4, 0.4, 0.55, 0.6]\n",
            "0.55\n",
            "[0.45, 0.5, 0.35, 0.45, 0.35, 0.7, 0.55, 0.35, 0.5, 0.6, 0.4, 0.7, 0.55, 0.55, 0.5, 0.65, 0.3, 0.6, 0.35, 0.35, 0.5, 0.4, 0.45, 0.4, 0.45, 0.55, 0.7, 0.4, 0.4, 0.45, 0.6, 0.4, 0.4, 0.45, 0.45, 0.4, 0.4, 0.55, 0.6, 0.55]\n",
            "0.4\n",
            "[0.45, 0.5, 0.35, 0.45, 0.35, 0.7, 0.55, 0.35, 0.5, 0.6, 0.4, 0.7, 0.55, 0.55, 0.5, 0.65, 0.3, 0.6, 0.35, 0.35, 0.5, 0.4, 0.45, 0.4, 0.45, 0.55, 0.7, 0.4, 0.4, 0.45, 0.6, 0.4, 0.4, 0.45, 0.45, 0.4, 0.4, 0.55, 0.6, 0.55, 0.4]\n",
            "0.65\n",
            "[0.45, 0.5, 0.35, 0.45, 0.35, 0.7, 0.55, 0.35, 0.5, 0.6, 0.4, 0.7, 0.55, 0.55, 0.5, 0.65, 0.3, 0.6, 0.35, 0.35, 0.5, 0.4, 0.45, 0.4, 0.45, 0.55, 0.7, 0.4, 0.4, 0.45, 0.6, 0.4, 0.4, 0.45, 0.45, 0.4, 0.4, 0.55, 0.6, 0.55, 0.4, 0.65]\n",
            "0.35\n",
            "[0.45, 0.5, 0.35, 0.45, 0.35, 0.7, 0.55, 0.35, 0.5, 0.6, 0.4, 0.7, 0.55, 0.55, 0.5, 0.65, 0.3, 0.6, 0.35, 0.35, 0.5, 0.4, 0.45, 0.4, 0.45, 0.55, 0.7, 0.4, 0.4, 0.45, 0.6, 0.4, 0.4, 0.45, 0.45, 0.4, 0.4, 0.55, 0.6, 0.55, 0.4, 0.65, 0.35]\n",
            "0.4\n",
            "[0.45, 0.5, 0.35, 0.45, 0.35, 0.7, 0.55, 0.35, 0.5, 0.6, 0.4, 0.7, 0.55, 0.55, 0.5, 0.65, 0.3, 0.6, 0.35, 0.35, 0.5, 0.4, 0.45, 0.4, 0.45, 0.55, 0.7, 0.4, 0.4, 0.45, 0.6, 0.4, 0.4, 0.45, 0.45, 0.4, 0.4, 0.55, 0.6, 0.55, 0.4, 0.65, 0.35, 0.4]\n",
            "0.45\n",
            "[0.45, 0.5, 0.35, 0.45, 0.35, 0.7, 0.55, 0.35, 0.5, 0.6, 0.4, 0.7, 0.55, 0.55, 0.5, 0.65, 0.3, 0.6, 0.35, 0.35, 0.5, 0.4, 0.45, 0.4, 0.45, 0.55, 0.7, 0.4, 0.4, 0.45, 0.6, 0.4, 0.4, 0.45, 0.45, 0.4, 0.4, 0.55, 0.6, 0.55, 0.4, 0.65, 0.35, 0.4, 0.45]\n",
            "0.35\n",
            "[0.45, 0.5, 0.35, 0.45, 0.35, 0.7, 0.55, 0.35, 0.5, 0.6, 0.4, 0.7, 0.55, 0.55, 0.5, 0.65, 0.3, 0.6, 0.35, 0.35, 0.5, 0.4, 0.45, 0.4, 0.45, 0.55, 0.7, 0.4, 0.4, 0.45, 0.6, 0.4, 0.4, 0.45, 0.45, 0.4, 0.4, 0.55, 0.6, 0.55, 0.4, 0.65, 0.35, 0.4, 0.45, 0.35]\n",
            "0.45\n",
            "[0.45, 0.5, 0.35, 0.45, 0.35, 0.7, 0.55, 0.35, 0.5, 0.6, 0.4, 0.7, 0.55, 0.55, 0.5, 0.65, 0.3, 0.6, 0.35, 0.35, 0.5, 0.4, 0.45, 0.4, 0.45, 0.55, 0.7, 0.4, 0.4, 0.45, 0.6, 0.4, 0.4, 0.45, 0.45, 0.4, 0.4, 0.55, 0.6, 0.55, 0.4, 0.65, 0.35, 0.4, 0.45, 0.35, 0.45]\n",
            "0.45\n",
            "[0.45, 0.5, 0.35, 0.45, 0.35, 0.7, 0.55, 0.35, 0.5, 0.6, 0.4, 0.7, 0.55, 0.55, 0.5, 0.65, 0.3, 0.6, 0.35, 0.35, 0.5, 0.4, 0.45, 0.4, 0.45, 0.55, 0.7, 0.4, 0.4, 0.45, 0.6, 0.4, 0.4, 0.45, 0.45, 0.4, 0.4, 0.55, 0.6, 0.55, 0.4, 0.65, 0.35, 0.4, 0.45, 0.35, 0.45, 0.45]\n",
            "0.55\n",
            "[0.45, 0.5, 0.35, 0.45, 0.35, 0.7, 0.55, 0.35, 0.5, 0.6, 0.4, 0.7, 0.55, 0.55, 0.5, 0.65, 0.3, 0.6, 0.35, 0.35, 0.5, 0.4, 0.45, 0.4, 0.45, 0.55, 0.7, 0.4, 0.4, 0.45, 0.6, 0.4, 0.4, 0.45, 0.45, 0.4, 0.4, 0.55, 0.6, 0.55, 0.4, 0.65, 0.35, 0.4, 0.45, 0.35, 0.45, 0.45, 0.55]\n",
            "0.65\n",
            "[0.45, 0.5, 0.35, 0.45, 0.35, 0.7, 0.55, 0.35, 0.5, 0.6, 0.4, 0.7, 0.55, 0.55, 0.5, 0.65, 0.3, 0.6, 0.35, 0.35, 0.5, 0.4, 0.45, 0.4, 0.45, 0.55, 0.7, 0.4, 0.4, 0.45, 0.6, 0.4, 0.4, 0.45, 0.45, 0.4, 0.4, 0.55, 0.6, 0.55, 0.4, 0.65, 0.35, 0.4, 0.45, 0.35, 0.45, 0.45, 0.55, 0.65]\n",
            "0.55\n",
            "[0.45, 0.5, 0.35, 0.45, 0.35, 0.7, 0.55, 0.35, 0.5, 0.6, 0.4, 0.7, 0.55, 0.55, 0.5, 0.65, 0.3, 0.6, 0.35, 0.35, 0.5, 0.4, 0.45, 0.4, 0.45, 0.55, 0.7, 0.4, 0.4, 0.45, 0.6, 0.4, 0.4, 0.45, 0.45, 0.4, 0.4, 0.55, 0.6, 0.55, 0.4, 0.65, 0.35, 0.4, 0.45, 0.35, 0.45, 0.45, 0.55, 0.65, 0.55]\n",
            "0.5\n",
            "[0.45, 0.5, 0.35, 0.45, 0.35, 0.7, 0.55, 0.35, 0.5, 0.6, 0.4, 0.7, 0.55, 0.55, 0.5, 0.65, 0.3, 0.6, 0.35, 0.35, 0.5, 0.4, 0.45, 0.4, 0.45, 0.55, 0.7, 0.4, 0.4, 0.45, 0.6, 0.4, 0.4, 0.45, 0.45, 0.4, 0.4, 0.55, 0.6, 0.55, 0.4, 0.65, 0.35, 0.4, 0.45, 0.35, 0.45, 0.45, 0.55, 0.65, 0.55, 0.5]\n",
            "0.45\n",
            "[0.45, 0.5, 0.35, 0.45, 0.35, 0.7, 0.55, 0.35, 0.5, 0.6, 0.4, 0.7, 0.55, 0.55, 0.5, 0.65, 0.3, 0.6, 0.35, 0.35, 0.5, 0.4, 0.45, 0.4, 0.45, 0.55, 0.7, 0.4, 0.4, 0.45, 0.6, 0.4, 0.4, 0.45, 0.45, 0.4, 0.4, 0.55, 0.6, 0.55, 0.4, 0.65, 0.35, 0.4, 0.45, 0.35, 0.45, 0.45, 0.55, 0.65, 0.55, 0.5, 0.45]\n",
            "0.6\n",
            "[0.45, 0.5, 0.35, 0.45, 0.35, 0.7, 0.55, 0.35, 0.5, 0.6, 0.4, 0.7, 0.55, 0.55, 0.5, 0.65, 0.3, 0.6, 0.35, 0.35, 0.5, 0.4, 0.45, 0.4, 0.45, 0.55, 0.7, 0.4, 0.4, 0.45, 0.6, 0.4, 0.4, 0.45, 0.45, 0.4, 0.4, 0.55, 0.6, 0.55, 0.4, 0.65, 0.35, 0.4, 0.45, 0.35, 0.45, 0.45, 0.55, 0.65, 0.55, 0.5, 0.45, 0.6]\n",
            "0.75\n",
            "[0.45, 0.5, 0.35, 0.45, 0.35, 0.7, 0.55, 0.35, 0.5, 0.6, 0.4, 0.7, 0.55, 0.55, 0.5, 0.65, 0.3, 0.6, 0.35, 0.35, 0.5, 0.4, 0.45, 0.4, 0.45, 0.55, 0.7, 0.4, 0.4, 0.45, 0.6, 0.4, 0.4, 0.45, 0.45, 0.4, 0.4, 0.55, 0.6, 0.55, 0.4, 0.65, 0.35, 0.4, 0.45, 0.35, 0.45, 0.45, 0.55, 0.65, 0.55, 0.5, 0.45, 0.6, 0.75]\n",
            "0.35\n",
            "[0.45, 0.5, 0.35, 0.45, 0.35, 0.7, 0.55, 0.35, 0.5, 0.6, 0.4, 0.7, 0.55, 0.55, 0.5, 0.65, 0.3, 0.6, 0.35, 0.35, 0.5, 0.4, 0.45, 0.4, 0.45, 0.55, 0.7, 0.4, 0.4, 0.45, 0.6, 0.4, 0.4, 0.45, 0.45, 0.4, 0.4, 0.55, 0.6, 0.55, 0.4, 0.65, 0.35, 0.4, 0.45, 0.35, 0.45, 0.45, 0.55, 0.65, 0.55, 0.5, 0.45, 0.6, 0.75, 0.35]\n",
            "0.5\n",
            "[0.45, 0.5, 0.35, 0.45, 0.35, 0.7, 0.55, 0.35, 0.5, 0.6, 0.4, 0.7, 0.55, 0.55, 0.5, 0.65, 0.3, 0.6, 0.35, 0.35, 0.5, 0.4, 0.45, 0.4, 0.45, 0.55, 0.7, 0.4, 0.4, 0.45, 0.6, 0.4, 0.4, 0.45, 0.45, 0.4, 0.4, 0.55, 0.6, 0.55, 0.4, 0.65, 0.35, 0.4, 0.45, 0.35, 0.45, 0.45, 0.55, 0.65, 0.55, 0.5, 0.45, 0.6, 0.75, 0.35, 0.5]\n",
            "0.55\n",
            "[0.45, 0.5, 0.35, 0.45, 0.35, 0.7, 0.55, 0.35, 0.5, 0.6, 0.4, 0.7, 0.55, 0.55, 0.5, 0.65, 0.3, 0.6, 0.35, 0.35, 0.5, 0.4, 0.45, 0.4, 0.45, 0.55, 0.7, 0.4, 0.4, 0.45, 0.6, 0.4, 0.4, 0.45, 0.45, 0.4, 0.4, 0.55, 0.6, 0.55, 0.4, 0.65, 0.35, 0.4, 0.45, 0.35, 0.45, 0.45, 0.55, 0.65, 0.55, 0.5, 0.45, 0.6, 0.75, 0.35, 0.5, 0.55]\n",
            "0.55\n",
            "[0.45, 0.5, 0.35, 0.45, 0.35, 0.7, 0.55, 0.35, 0.5, 0.6, 0.4, 0.7, 0.55, 0.55, 0.5, 0.65, 0.3, 0.6, 0.35, 0.35, 0.5, 0.4, 0.45, 0.4, 0.45, 0.55, 0.7, 0.4, 0.4, 0.45, 0.6, 0.4, 0.4, 0.45, 0.45, 0.4, 0.4, 0.55, 0.6, 0.55, 0.4, 0.65, 0.35, 0.4, 0.45, 0.35, 0.45, 0.45, 0.55, 0.65, 0.55, 0.5, 0.45, 0.6, 0.75, 0.35, 0.5, 0.55, 0.55]\n",
            "0.55\n",
            "[0.45, 0.5, 0.35, 0.45, 0.35, 0.7, 0.55, 0.35, 0.5, 0.6, 0.4, 0.7, 0.55, 0.55, 0.5, 0.65, 0.3, 0.6, 0.35, 0.35, 0.5, 0.4, 0.45, 0.4, 0.45, 0.55, 0.7, 0.4, 0.4, 0.45, 0.6, 0.4, 0.4, 0.45, 0.45, 0.4, 0.4, 0.55, 0.6, 0.55, 0.4, 0.65, 0.35, 0.4, 0.45, 0.35, 0.45, 0.45, 0.55, 0.65, 0.55, 0.5, 0.45, 0.6, 0.75, 0.35, 0.5, 0.55, 0.55, 0.55]\n",
            "[0.45, 0.5, 0.35, 0.45, 0.35, 0.7, 0.55, 0.35, 0.5, 0.6, 0.4, 0.7, 0.55, 0.55, 0.5, 0.65, 0.3, 0.6, 0.35, 0.35, 0.5, 0.4, 0.45, 0.4, 0.45, 0.55, 0.7, 0.4, 0.4, 0.45, 0.6, 0.4, 0.4, 0.45, 0.45, 0.4, 0.4, 0.55, 0.6, 0.55, 0.4, 0.65, 0.35, 0.4, 0.45, 0.35, 0.45, 0.45, 0.55, 0.65, 0.55, 0.5, 0.45, 0.6, 0.75, 0.35, 0.5, 0.55, 0.55, 0.55]\n",
            "Final average accuracy 0.48833333333333334  std  0.10620995977569879\n"
          ],
          "name": "stdout"
        }
      ]
    },
    {
      "cell_type": "code",
      "metadata": {
        "colab": {
          "base_uri": "https://localhost:8080/"
        },
        "id": "DcPuGRSFUPP-",
        "outputId": "8b52c6e0-e868-4f08-9186-455e5de11c6d"
      },
      "source": [
        "from sklearn.metrics import confusion_matrix\n",
        "confusion_matrix(y_test, prediction)"
      ],
      "execution_count": 119,
      "outputs": [
        {
          "output_type": "execute_result",
          "data": {
            "text/plain": [
              "array([[5, 5],\n",
              "       [4, 6]])"
            ]
          },
          "metadata": {
            "tags": []
          },
          "execution_count": 119
        }
      ]
    },
    {
      "cell_type": "code",
      "metadata": {
        "colab": {
          "base_uri": "https://localhost:8080/",
          "height": 333
        },
        "id": "0q9zjJWaP_ck",
        "outputId": "44c9f993-741a-4261-a3c1-774bfb90ec3c"
      },
      "source": [
        "import seaborn as sns\n",
        "import numpy as np\n",
        "from sklearn.model_selection import GridSearchCV\n",
        "import matplotlib.pyplot as plt\n",
        "from sklearn.model_selection import train_test_split\n",
        "from scipy.stats import randint, uniform\n",
        "X_train, X_test, y_train, y_test = train_test_split(X, y, test_size=0.2, random_state=42)\n",
        "C = randint(low=1,high=100)\n",
        "#param_grid = {'kernel':['rbf', 'poly'], 'C': np.random.randint(low=1,high=100), 'gamma': uniform(loc=0, scale=1)}\n",
        "param_grid = {'kernel': ['poly', 'rbf', 'linear'], 'degree':[2], 'C': [1, 10]}\n",
        "#result = svm.SVC(C = 1, degree = 2, gamma = 0.1, kernel = 'poly')\n",
        "print(param_grid)\n",
        "grid = GridSearchCV(svm.SVC(), param_grid, cv=10)\n",
        "grid.fit(X_train, y_train)\n",
        "print(\"Best cross-validation score: {:.2f}\".format(grid.best_score_))\n",
        "print(\"Best parameters: \", grid.best_params_)\n",
        "import pandas as pd\n",
        "pvt = pd.pivot_table(pd.DataFrame(grid.cv_results_),\n",
        "    values='mean_test_score', index='param_kernel', columns='param_C')\n",
        "ax = sns.heatmap(pvt)\n",
        "plt.show()\n",
        "#C = 1, degree = 2, gamma = 0.1, kernel = 'poly'"
      ],
      "execution_count": 115,
      "outputs": [
        {
          "output_type": "stream",
          "text": [
            "{'kernel': ['poly', 'rbf', 'linear'], 'degree': [2], 'C': [1, 10]}\n",
            "Best cross-validation score: 0.64\n",
            "Best parameters:  {'C': 10, 'degree': 2, 'kernel': 'rbf'}\n"
          ],
          "name": "stdout"
        },
        {
          "output_type": "display_data",
          "data": {
            "image/png": "[encoded data removed]",
            "text/plain": [
              "<Figure size 432x288 with 2 Axes>"
            ]
          },
          "metadata": {
            "tags": []
          }
        }
      ]
    },
    {
      "cell_type": "code",
      "metadata": {
        "id": "N9U8DRRl0Qhn"
      },
      "source": [
        "from scipy.stats import randint, uniform\n",
        "distributions = dict(C=uniform(loc=0, scale=4),penalty=['l2', 'l1'])"
      ],
      "execution_count": 44,
      "outputs": []
    }
  ]
}