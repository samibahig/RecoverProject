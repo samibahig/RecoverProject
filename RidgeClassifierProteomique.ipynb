{
  "nbformat": 4,
  "nbformat_minor": 0,
  "metadata": {
    "colab": {
      "name": "RidgeClassifierProteomique",
      "provenance": [],
      "authorship_tag": "ABX9TyNTIEvDpiGf6BpAToNzKdl3",
      "include_colab_link": true
    },
    "kernelspec": {
      "name": "python3",
      "display_name": "Python 3"
    },
    "language_info": {
      "name": "python"
    }
  },
  "cells": [
    {
      "cell_type": "markdown",
      "metadata": {
        "id": "view-in-github",
        "colab_type": "text"
      },
      "source": [
        "<a href=\"https://colab.research.google.com/github/samibahig/RecoverProject/blob/main/RidgeClassifierProteomique.ipynb\" target=\"_parent\"><img src=\"https://colab.research.google.com/assets/colab-badge.svg\" alt=\"Open In Colab\"/></a>"
      ]
    },
    {
      "cell_type": "code",
      "metadata": {
        "colab": {
          "base_uri": "https://localhost:8080/"
        },
        "id": "Xt0sPYB7LKpM",
        "outputId": "42403601-76b6-4398-ce06-307a9773cced"
      },
      "source": [
        "import numpy as np\n",
        "import pandas as pd\n",
        "import matplotlib.pyplot as plt\n",
        "import pickle as pkl\n",
        "%matplotlib inline\n",
        "import matplotlib.pyplot as plt\n",
        "import matplotlib.colors as mcolors\n",
        "import numpy as np\n",
        "import pandas as pd\n",
        "import sklearn\n",
        "import os\n",
        "plt.style.use('ggplot')\n",
        "#print('\\nMETADATA :')\n",
        "data_path = ''\n",
        "metadata_filename = data_path + '/content/metadata.csv'\n",
        "meta_df = pd.read_csv(metadata_filename)\n",
        "#print(meta_df.columns)\n",
        "meta_df.columns = ['#', 'plate', '-', 'symptoms'] + list(meta_df)[4:]\n",
        "#print(meta_df.columns)\n",
        "#print('available metadata :', list(meta_df))\n",
        "meta_idx = meta_df['ID'].to_list()\n",
        "meta_label = meta_df['symptoms'].to_list()\n",
        "#print('------------------')\n",
        "#print(list(zip(meta_idx, meta_label)))\n",
        "#print('------------------')\n",
        "meta_id_label_dict = {str(k): 1 if v=='S' else 0 for k, v in zip(meta_idx, meta_label)}\n",
        "data_path = ''\n",
        "\n",
        "#DF1 : proteomics\n",
        "#print('\\nPROEOMICS DATA :')\n",
        "proteomics_data_filename = '/content/proteomics.csv'\n",
        "\n",
        "dim_df = pd.read_csv(proteomics_data_filename, nrows=1)\n",
        "#print('--------')\n",
        "#print(dim_df)\n",
        "#print('--------')\n",
        "dim = len(list(dim_df))\n",
        "#print(dim)\n",
        "#print('------------')\n",
        "print('# of columns in source csv file :', dim)\n",
        "all_cols = [i for i in range(dim)]\n",
        "\n",
        "print('--------')\n",
        "feat_cols = all_cols[1:-4]\n",
        "print(feat_cols)\n",
        "print('--------')\n",
        "samplesidx_col = [0]\n",
        "\n",
        "feat_df = pd.read_csv(proteomics_data_filename, skiprows=4, nrows=1, dtype=str, usecols=feat_cols)\n",
        "features = list(feat_df)\n",
        "print('# of features : ', len(features))\n",
        "print('first feature :', features[0])\n",
        "print('last feature :', features[-1])\n",
        "\n",
        "idx_df = pd.read_csv(proteomics_data_filename, skiprows=6, index_col=0, skipfooter=4, usecols=[0], engine='python')\n",
        "idx = list(idx_df.index.values)\n",
        "print('# of idx : ', len(idx))\n",
        "print('first id :', idx[0])\n",
        "print('last id :', idx[-1])\n",
        "\n",
        "df1 = pd.read_csv(proteomics_data_filename, skiprows=6, dtype=np.float32, skipfooter=4, usecols=feat_cols, engine='python')\n",
        "assert df1.shape[0] == len(idx)\n",
        "assert df1.shape[1] == len(features)\n",
        "\n",
        "df1['idx'] = idx\n",
        "df1.set_index('idx', inplace=True)\n",
        "df1.columns = features\n",
        "print('# of Nan values :', df1.isna().sum().sum())\n",
        "\n",
        "#clean data of samples that are not in metadata :\n",
        "idx = df1.index.values\n",
        "y = []\n",
        "for k in range(len(idx)):\n",
        "    id = idx[k]\n",
        "    if id in meta_id_label_dict:\n",
        "        y.append(meta_id_label_dict[id])\n",
        "    else:\n",
        "        # we will not put this sample in the dataset\n",
        "        #print('sample to remove because of unknown label:', k, id)\n",
        "        y.append('to_remove')\n",
        "df1['label'] = y\n",
        "df1 = df1[df1.label != 'to_remove']\n",
        "\n",
        "#create X and y matrices for ML :\n",
        "y = list(df1['label'])\n",
        "del df1['label']\n",
        "print('---------')\n",
        "print(df1)\n",
        "print('---------')\n",
        "X = df1.to_numpy()\n",
        "print('proteomics data :')\n",
        "print('# of samples : ', df1.shape[0])\n",
        "print('# of features : ', df1.shape[1])\n",
        "print('labels:', list(dict.fromkeys(y)))\n",
        "\n",
        "\n",
        "## save X and y in pickles if you want :\n",
        "##data_name = 'recover_multiomics_'\n",
        "##feat_dict = {k: str(v) for k, v in zip(range(len(list(df))), list(df))}\n",
        "##with open(data_path + data_name + 'feat_dict', 'wb') as fo:\n",
        "##    pkl.dump(feat_dict, fo)\n",
        "##with open(data_path + data_name + 'X', 'wb') as fo:df\n",
        "##            pkl.dump(X, fo)\n",
        "##with open(data_path + data_name + 'y', 'wb') as fo:\n",
        "##            pkl.dump(y, fo)"
      ],
      "execution_count": 1,
      "outputs": [
        {
          "output_type": "stream",
          "text": [
            "# of columns in source csv file : 189\n",
            "--------\n",
            "[1, 2, 3, 4, 5, 6, 7, 8, 9, 10, 11, 12, 13, 14, 15, 16, 17, 18, 19, 20, 21, 22, 23, 24, 25, 26, 27, 28, 29, 30, 31, 32, 33, 34, 35, 36, 37, 38, 39, 40, 41, 42, 43, 44, 45, 46, 47, 48, 49, 50, 51, 52, 53, 54, 55, 56, 57, 58, 59, 60, 61, 62, 63, 64, 65, 66, 67, 68, 69, 70, 71, 72, 73, 74, 75, 76, 77, 78, 79, 80, 81, 82, 83, 84, 85, 86, 87, 88, 89, 90, 91, 92, 93, 94, 95, 96, 97, 98, 99, 100, 101, 102, 103, 104, 105, 106, 107, 108, 109, 110, 111, 112, 113, 114, 115, 116, 117, 118, 119, 120, 121, 122, 123, 124, 125, 126, 127, 128, 129, 130, 131, 132, 133, 134, 135, 136, 137, 138, 139, 140, 141, 142, 143, 144, 145, 146, 147, 148, 149, 150, 151, 152, 153, 154, 155, 156, 157, 158, 159, 160, 161, 162, 163, 164, 165, 166, 167, 168, 169, 170, 171, 172, 173, 174, 175, 176, 177, 178, 179, 180, 181, 182, 183, 184]\n",
            "--------\n",
            "# of features :  184\n",
            "first feature : Q96SB3\n",
            "last feature : P09603\n",
            "# of idx :  104\n",
            "first id : 5-139\n",
            "last id : 3-043\n",
            "# of Nan values : 0\n",
            "---------\n",
            "        Q96SB3   P16278   O75475   Q05516  ...  P05113.1   P00813   P01374    P09603\n",
            "idx                                        ...                                      \n",
            "5-139  1.61741  1.31276  3.20077  1.28369  ...   0.12752  5.46542  5.97368  10.40443\n",
            "1-039  2.79530  2.12398  2.90156  1.55239  ...   0.88631  5.24029  5.07646  10.14180\n",
            "1-062  1.69202  2.07015  2.07562  0.85847  ...   0.18121  5.34243  4.89149  10.02279\n",
            "1-040  1.62496  1.67346  2.30191  1.09831  ...   2.11383  5.54121  5.57492  10.13417\n",
            "2-044  1.69246  1.94635  1.87725  0.84233  ...   0.60991  4.98001  4.80933  10.04586\n",
            "...        ...      ...      ...      ...  ...       ...      ...      ...       ...\n",
            "1-073  1.40763  2.32194  2.53494  0.55014  ...   0.31641  5.31388  4.78352  10.50358\n",
            "2-108  1.73766  1.44918  2.23165  0.44999  ...   0.37494  5.44716  5.22955  10.13842\n",
            "5-114  2.94638  1.45486  3.31485  0.93572  ...   2.98474  5.34230  5.30634  10.16184\n",
            "5-075  2.09489  2.70359  2.17787  1.16964  ...   0.76538  5.14975  5.37112  10.40146\n",
            "3-043  2.23329  2.41564  3.45536  0.91918  ...   0.87126  5.34694  5.08457  10.35240\n",
            "\n",
            "[100 rows x 184 columns]\n",
            "---------\n",
            "proteomics data :\n",
            "# of samples :  100\n",
            "# of features :  184\n",
            "labels: [1, 0]\n"
          ],
          "name": "stdout"
        }
      ]
    },
    {
      "cell_type": "code",
      "metadata": {
        "colab": {
          "base_uri": "https://localhost:8080/"
        },
        "id": "haLQfldgUXKQ",
        "outputId": "4fb68343-01bb-4a6d-d1ff-2ad733835373"
      },
      "source": [
        "### Ici entrainement du modèle Ridge avec alpha=1.0\n",
        "from sklearn.datasets import make_regression\n",
        "from sklearn.linear_model import RidgeClassifier\n",
        "from sklearn.model_selection import train_test_split \n",
        "X_train, X_test, y_train, y_test = train_test_split(X, y, test_size=0.2, random_state=42)\n",
        "import numpy as np\n",
        "clf = RidgeClassifier(alpha=1.0)\n",
        "clf.fit(X_train, y_train)"
      ],
      "execution_count": 2,
      "outputs": [
        {
          "output_type": "execute_result",
          "data": {
            "text/plain": [
              "RidgeClassifier(alpha=1.0, class_weight=None, copy_X=True, fit_intercept=True,\n",
              "                max_iter=None, normalize=False, random_state=None,\n",
              "                solver='auto', tol=0.001)"
            ]
          },
          "metadata": {
            "tags": []
          },
          "execution_count": 2
        }
      ]
    },
    {
      "cell_type": "code",
      "metadata": {
        "colab": {
          "base_uri": "https://localhost:8080/"
        },
        "id": "PiFwHkCs4KY8",
        "outputId": "eb56f048-fbf1-4dce-f29b-db14f75db98c"
      },
      "source": [
        "### Ici les prédictions sont calculées  sauf que je n'arrive pas à calculer l'accuracy?  As tu des hints? Merci \n",
        "from sklearn.metrics import accuracy_score\n",
        "from sklearn import metrics\n",
        "predictions = clf.predict(X_test)\n",
        "predictions\n",
        "print(\"Test Accuracy:\", metrics.accuracy_score(y_test, predictions))"
      ],
      "execution_count": 3,
      "outputs": [
        {
          "output_type": "stream",
          "text": [
            "Test Accuracy: 0.45\n"
          ],
          "name": "stdout"
        }
      ]
    },
    {
      "cell_type": "code",
      "metadata": {
        "colab": {
          "base_uri": "https://localhost:8080/"
        },
        "id": "T6tcrMO7j8Ky",
        "outputId": "21ab812d-1b77-464c-8153-1a870d6026d6"
      },
      "source": [
        "clf.get_params(deep=True)"
      ],
      "execution_count": 4,
      "outputs": [
        {
          "output_type": "execute_result",
          "data": {
            "text/plain": [
              "{'alpha': 1.0,\n",
              " 'class_weight': None,\n",
              " 'copy_X': True,\n",
              " 'fit_intercept': True,\n",
              " 'max_iter': None,\n",
              " 'normalize': False,\n",
              " 'random_state': None,\n",
              " 'solver': 'auto',\n",
              " 'tol': 0.001}"
            ]
          },
          "metadata": {
            "tags": []
          },
          "execution_count": 4
        }
      ]
    },
    {
      "cell_type": "code",
      "metadata": {
        "colab": {
          "base_uri": "https://localhost:8080/"
        },
        "id": "vdvVQ645nOix",
        "outputId": "5f174514-e1c0-490a-f7e7-066a8a2ef616"
      },
      "source": [
        "###  Boostraping , Pour Thibault, tu peux essayer ici, j'obtiens toujours 1.0, c'est trop parfait, non ?\n",
        "# Creating empty list to hold accuracy values\n",
        "AccuracyValues=[]\n",
        "n_times=60\n",
        "\n",
        "## bootstrapping\n",
        "from sklearn import metrics\n",
        "for i in range(n_times):\n",
        "    #Split the data into training and testing set\n",
        "    from sklearn.model_selection import train_test_split\n",
        "    # Changing the seed value for each iteration\n",
        "    X_train, X_test, y_train, y_test = train_test_split(X, y, test_size=0.2, random_state=42+i)\n",
        "    clf = RidgeClassifier(alpha=1.0)\n",
        "    clf.fit(X_train, y_train)\n",
        "    ########################################################\n",
        "    predictions = clf.predict(X_test)\n",
        "    Accuracy=metrics.accuracy_score(y_test, predictions)\n",
        "    AccuracyValues.append(np.round(Accuracy))\n",
        "\n",
        "# Result of all bootstrapping trials\n",
        "print(y_test, predictions)\n",
        "print(AccuracyValues)\n",
        " \n",
        "# Final accuracy\n",
        "print('Final average accuracy',np.mean(AccuracyValues))"
      ],
      "execution_count": 5,
      "outputs": [
        {
          "output_type": "stream",
          "text": [
            "[1, 0, 0, 0, 0, 1, 1, 0, 0, 1, 1, 1, 1, 0, 1, 1, 0, 0, 1, 0] [0 1 0 0 1 1 0 0 0 0 1 1 1 0 0 0 1 1 1 1]\n",
            "[0.0, 1.0, 0.0, 0.0, 0.0, 1.0, 1.0, 0.0, 0.0, 1.0, 0.0, 1.0, 1.0, 1.0, 0.0, 1.0, 0.0, 1.0, 0.0, 0.0, 1.0, 0.0, 1.0, 0.0, 0.0, 1.0, 1.0, 1.0, 1.0, 1.0, 1.0, 0.0, 0.0, 0.0, 0.0, 1.0, 0.0, 1.0, 1.0, 0.0, 0.0, 1.0, 0.0, 0.0, 0.0, 0.0, 1.0, 0.0, 1.0, 1.0, 1.0, 0.0, 0.0, 1.0, 1.0, 0.0, 0.0, 0.0, 1.0, 0.0]\n",
            "Final average accuracy 0.4666666666666667\n"
          ],
          "name": "stdout"
        }
      ]
    },
    {
      "cell_type": "code",
      "metadata": {
        "colab": {
          "base_uri": "https://localhost:8080/"
        },
        "id": "BiTjIoZ6MaQo",
        "outputId": "f0f2dc94-a053-478f-8637-02a4a594113e"
      },
      "source": [
        "from sklearn.model_selection import RandomizedSearchCV\n",
        "from pprint import pprint\n",
        "params_Ridge = {'alpha': [0.1,1.0,10.0]}\n",
        "alpha = (0.1, 1.0, 10.0)\n",
        "random_grid = {'alpha': alpha}\n",
        "pprint(random_grid)"
      ],
      "execution_count": 6,
      "outputs": [
        {
          "output_type": "stream",
          "text": [
            "{'alpha': (0.1, 1.0, 10.0)}\n"
          ],
          "name": "stdout"
        }
      ]
    },
    {
      "cell_type": "code",
      "metadata": {
        "colab": {
          "base_uri": "https://localhost:8080/"
        },
        "id": "Nj9iLf1VQMs2",
        "outputId": "de927d0e-30aa-4d04-b685-69f452604dec"
      },
      "source": [
        "clf.get_params().keys()"
      ],
      "execution_count": 7,
      "outputs": [
        {
          "output_type": "execute_result",
          "data": {
            "text/plain": [
              "dict_keys(['alpha', 'class_weight', 'copy_X', 'fit_intercept', 'max_iter', 'normalize', 'random_state', 'solver', 'tol'])"
            ]
          },
          "metadata": {
            "tags": []
          },
          "execution_count": 7
        }
      ]
    },
    {
      "cell_type": "code",
      "metadata": {
        "colab": {
          "base_uri": "https://localhost:8080/"
        },
        "id": "Km7yt0nVOmoU",
        "outputId": "c3a46e34-ef27-47a0-daa4-78914555936d"
      },
      "source": [
        "from sklearn.model_selection import train_test_split \n",
        "from sklearn.model_selection import RandomizedSearchCV\n",
        "from sklearn.linear_model import RidgeCV\n",
        "X_train, X_test, y_train, y_test = train_test_split(X, y, test_size=0.2)\n",
        "# Use the random grid to search for best hyperparameters\n",
        "# First create the base model to tune\n",
        "#rf = RandomForestClassifier()\n",
        "result = RidgeClassifier()\n",
        "#result.score(X_test)\n",
        "# Random search of parameters, using 3 fold cross validation, \n",
        "# search across 100 different combinations, and use all available cores\n",
        "result = RandomizedSearchCV(estimator = result, param_distributions = random_grid, n_iter = 200, cv = 5, verbose=2, random_state=42, n_jobs = -1)\n",
        "# Fit the random search model\n",
        "result.fit(X_train, y_train)"
      ],
      "execution_count": 8,
      "outputs": [
        {
          "output_type": "stream",
          "text": [
            "Fitting 5 folds for each of 3 candidates, totalling 15 fits\n"
          ],
          "name": "stdout"
        },
        {
          "output_type": "stream",
          "text": [
            "/usr/local/lib/python3.7/dist-packages/sklearn/model_selection/_search.py:281: UserWarning: The total space of parameters 3 is smaller than n_iter=200. Running 3 iterations. For exhaustive searches, use GridSearchCV.\n",
            "  % (grid_size, self.n_iter, grid_size), UserWarning)\n",
            "[Parallel(n_jobs=-1)]: Using backend LokyBackend with 2 concurrent workers.\n",
            "[Parallel(n_jobs=-1)]: Done  15 out of  15 | elapsed:    1.0s finished\n"
          ],
          "name": "stderr"
        },
        {
          "output_type": "execute_result",
          "data": {
            "text/plain": [
              "RandomizedSearchCV(cv=5, error_score=nan,\n",
              "                   estimator=RidgeClassifier(alpha=1.0, class_weight=None,\n",
              "                                             copy_X=True, fit_intercept=True,\n",
              "                                             max_iter=None, normalize=False,\n",
              "                                             random_state=None, solver='auto',\n",
              "                                             tol=0.001),\n",
              "                   iid='deprecated', n_iter=200, n_jobs=-1,\n",
              "                   param_distributions={'alpha': (0.1, 1.0, 10.0)},\n",
              "                   pre_dispatch='2*n_jobs', random_state=42, refit=True,\n",
              "                   return_train_score=False, scoring=None, verbose=2)"
            ]
          },
          "metadata": {
            "tags": []
          },
          "execution_count": 8
        }
      ]
    },
    {
      "cell_type": "code",
      "metadata": {
        "colab": {
          "base_uri": "https://localhost:8080/"
        },
        "id": "dBSZTygstasx",
        "outputId": "72a89e0c-2703-436d-8805-b8660dc06d61"
      },
      "source": [
        "result.best_params_"
      ],
      "execution_count": 9,
      "outputs": [
        {
          "output_type": "execute_result",
          "data": {
            "text/plain": [
              "{'alpha': 10.0}"
            ]
          },
          "metadata": {
            "tags": []
          },
          "execution_count": 9
        }
      ]
    },
    {
      "cell_type": "code",
      "metadata": {
        "id": "HRlIjLbZeedR"
      },
      "source": [
        "### Nouvelle instantiation avec les paramètres trouvés en Cross-Validation\n",
        "result = RidgeClassifier(alpha = 10.0)"
      ],
      "execution_count": 10,
      "outputs": []
    },
    {
      "cell_type": "code",
      "metadata": {
        "colab": {
          "base_uri": "https://localhost:8080/"
        },
        "id": "HbD_4G59e2mo",
        "outputId": "a9a0621d-2e65-44f7-99e3-f3bf1ed5b90e"
      },
      "source": [
        "### entraînement du modèle avec les paramètres trouvés en Cross-Validation\n",
        "from sklearn.model_selection import train_test_split \n",
        "X_train, X_test, y_train, y_test = train_test_split(X, y, test_size=0.2, random_state=42)\n",
        "result.fit(X_train, y_train)"
      ],
      "execution_count": 11,
      "outputs": [
        {
          "output_type": "execute_result",
          "data": {
            "text/plain": [
              "RidgeClassifier(alpha=10.0, class_weight=None, copy_X=True, fit_intercept=True,\n",
              "                max_iter=None, normalize=False, random_state=None,\n",
              "                solver='auto', tol=0.001)"
            ]
          },
          "metadata": {
            "tags": []
          },
          "execution_count": 11
        }
      ]
    },
    {
      "cell_type": "code",
      "metadata": {
        "colab": {
          "base_uri": "https://localhost:8080/"
        },
        "id": "6ugy8YIVfBr0",
        "outputId": "4fe91feb-edfd-4dcf-8630-b375c0711b00"
      },
      "source": [
        "### Calcul de y_test et de l'accuracy \n",
        "from sklearn.metrics import accuracy_score\n",
        "from sklearn import metrics\n",
        "predictions = result.predict(X_test)\n",
        "print(\"Test Accuracy:\", metrics.accuracy_score(y_test, predictions))"
      ],
      "execution_count": 12,
      "outputs": [
        {
          "output_type": "stream",
          "text": [
            "Test Accuracy: 0.45\n"
          ],
          "name": "stdout"
        }
      ]
    },
    {
      "cell_type": "code",
      "metadata": {
        "colab": {
          "base_uri": "https://localhost:8080/"
        },
        "id": "KU2XrIA5fPkX",
        "outputId": "602f1cc6-a21a-4271-cd4b-c9118c43bc96"
      },
      "source": [
        "### Vérification avec f1_score\n",
        "from sklearn.metrics import f1_score\n",
        "f1_score(y_test, predictions)"
      ],
      "execution_count": 13,
      "outputs": [
        {
          "output_type": "execute_result",
          "data": {
            "text/plain": [
              "0.42105263157894735"
            ]
          },
          "metadata": {
            "tags": []
          },
          "execution_count": 13
        }
      ]
    },
    {
      "cell_type": "code",
      "metadata": {
        "colab": {
          "base_uri": "https://localhost:8080/"
        },
        "id": "i9cO3LoxfUbs",
        "outputId": "8935711f-d86e-4cae-8ebe-555e383178cb"
      },
      "source": [
        "### Boostraping 60 fois avec Paramètres obtenus en Cross-Validation\n",
        "from sklearn.model_selection import train_test_split \n",
        "from sklearn import metrics\n",
        "#### Bootstrapping ####\n",
        "########################################################\n",
        "# Creating empty list to hold accuracy values\n",
        "AccuracyValues=[]\n",
        "n_times=60\n",
        "## Performing bootstrapping\n",
        "from sklearn import metrics\n",
        "from sklearn.model_selection import train_test_split \n",
        "for i in range(n_times):\n",
        "    #Split the data into training and testing set\n",
        "    from sklearn.model_selection import train_test_split\n",
        "    # Changing the seed value for each iteration\n",
        "    X_train, X_test, y_train, y_test = train_test_split(X, y, test_size=0.2, random_state=42+i)\n",
        "    result = RidgeClassifier(alpha = 10.0)\n",
        "    result.fit(X_train, y_train)\n",
        "    ########################################################\n",
        "    prediction = result.predict(X_test)\n",
        "    Accuracy=metrics.accuracy_score(y_test, prediction)\n",
        "    print(Accuracy)\n",
        "    AccuracyValues.append((Accuracy))\n",
        "    #print(Accuracy)\n",
        "    print(AccuracyValues)\n",
        "    \n",
        "    #Creating the model on Training Data\n",
        "    #DTree=RegModel.fit(X_train,y_train)\n",
        "    #prediction=DTree.predict(X_test)\n",
        " \n",
        "    #Measuring accuracy on Testing Data\n",
        "#Accuracy=100- (np.mean(np.abs((y_test - prediction) / y_test)) * 100)\n",
        "    \n",
        "    # Storing accuracy values\n",
        "#AccuracyValues.append(np.round(Accuracy))\n",
        "    \n",
        "################################################\n",
        "# Result of all bootstrapping trials\n",
        "print(AccuracyValues)\n",
        " \n",
        "# Final accuracy\n",
        "print('Final average accuracy',np.mean(AccuracyValues), ' std ', np.std(AccuracyValues))\n",
        "#print(\"Test Accuracy:\", metrics.accuracy_score(y_test, y_final ))"
      ],
      "execution_count": 14,
      "outputs": [
        {
          "output_type": "stream",
          "text": [
            "0.45\n",
            "[0.45]\n",
            "0.5\n",
            "[0.45, 0.5]\n",
            "0.4\n",
            "[0.45, 0.5, 0.4]\n",
            "0.4\n",
            "[0.45, 0.5, 0.4, 0.4]\n",
            "0.5\n",
            "[0.45, 0.5, 0.4, 0.4, 0.5]\n",
            "0.75\n",
            "[0.45, 0.5, 0.4, 0.4, 0.5, 0.75]\n",
            "0.6\n",
            "[0.45, 0.5, 0.4, 0.4, 0.5, 0.75, 0.6]\n",
            "0.4\n",
            "[0.45, 0.5, 0.4, 0.4, 0.5, 0.75, 0.6, 0.4]\n",
            "0.5\n",
            "[0.45, 0.5, 0.4, 0.4, 0.5, 0.75, 0.6, 0.4, 0.5]\n",
            "0.6\n",
            "[0.45, 0.5, 0.4, 0.4, 0.5, 0.75, 0.6, 0.4, 0.5, 0.6]\n",
            "0.45\n",
            "[0.45, 0.5, 0.4, 0.4, 0.5, 0.75, 0.6, 0.4, 0.5, 0.6, 0.45]\n",
            "0.6\n",
            "[0.45, 0.5, 0.4, 0.4, 0.5, 0.75, 0.6, 0.4, 0.5, 0.6, 0.45, 0.6]\n",
            "0.65\n",
            "[0.45, 0.5, 0.4, 0.4, 0.5, 0.75, 0.6, 0.4, 0.5, 0.6, 0.45, 0.6, 0.65]\n",
            "0.65\n",
            "[0.45, 0.5, 0.4, 0.4, 0.5, 0.75, 0.6, 0.4, 0.5, 0.6, 0.45, 0.6, 0.65, 0.65]\n",
            "0.45\n",
            "[0.45, 0.5, 0.4, 0.4, 0.5, 0.75, 0.6, 0.4, 0.5, 0.6, 0.45, 0.6, 0.65, 0.65, 0.45]\n",
            "0.75\n",
            "[0.45, 0.5, 0.4, 0.4, 0.5, 0.75, 0.6, 0.4, 0.5, 0.6, 0.45, 0.6, 0.65, 0.65, 0.45, 0.75]\n",
            "0.35\n",
            "[0.45, 0.5, 0.4, 0.4, 0.5, 0.75, 0.6, 0.4, 0.5, 0.6, 0.45, 0.6, 0.65, 0.65, 0.45, 0.75, 0.35]\n",
            "0.65\n",
            "[0.45, 0.5, 0.4, 0.4, 0.5, 0.75, 0.6, 0.4, 0.5, 0.6, 0.45, 0.6, 0.65, 0.65, 0.45, 0.75, 0.35, 0.65]\n",
            "0.35\n",
            "[0.45, 0.5, 0.4, 0.4, 0.5, 0.75, 0.6, 0.4, 0.5, 0.6, 0.45, 0.6, 0.65, 0.65, 0.45, 0.75, 0.35, 0.65, 0.35]\n",
            "0.4\n",
            "[0.45, 0.5, 0.4, 0.4, 0.5, 0.75, 0.6, 0.4, 0.5, 0.6, 0.45, 0.6, 0.65, 0.65, 0.45, 0.75, 0.35, 0.65, 0.35, 0.4]\n",
            "0.6\n",
            "[0.45, 0.5, 0.4, 0.4, 0.5, 0.75, 0.6, 0.4, 0.5, 0.6, 0.45, 0.6, 0.65, 0.65, 0.45, 0.75, 0.35, 0.65, 0.35, 0.4, 0.6]\n",
            "0.45\n",
            "[0.45, 0.5, 0.4, 0.4, 0.5, 0.75, 0.6, 0.4, 0.5, 0.6, 0.45, 0.6, 0.65, 0.65, 0.45, 0.75, 0.35, 0.65, 0.35, 0.4, 0.6, 0.45]\n",
            "0.6\n",
            "[0.45, 0.5, 0.4, 0.4, 0.5, 0.75, 0.6, 0.4, 0.5, 0.6, 0.45, 0.6, 0.65, 0.65, 0.45, 0.75, 0.35, 0.65, 0.35, 0.4, 0.6, 0.45, 0.6]\n",
            "0.3\n",
            "[0.45, 0.5, 0.4, 0.4, 0.5, 0.75, 0.6, 0.4, 0.5, 0.6, 0.45, 0.6, 0.65, 0.65, 0.45, 0.75, 0.35, 0.65, 0.35, 0.4, 0.6, 0.45, 0.6, 0.3]\n",
            "0.55\n",
            "[0.45, 0.5, 0.4, 0.4, 0.5, 0.75, 0.6, 0.4, 0.5, 0.6, 0.45, 0.6, 0.65, 0.65, 0.45, 0.75, 0.35, 0.65, 0.35, 0.4, 0.6, 0.45, 0.6, 0.3, 0.55]\n",
            "0.55\n",
            "[0.45, 0.5, 0.4, 0.4, 0.5, 0.75, 0.6, 0.4, 0.5, 0.6, 0.45, 0.6, 0.65, 0.65, 0.45, 0.75, 0.35, 0.65, 0.35, 0.4, 0.6, 0.45, 0.6, 0.3, 0.55, 0.55]\n",
            "0.6\n",
            "[0.45, 0.5, 0.4, 0.4, 0.5, 0.75, 0.6, 0.4, 0.5, 0.6, 0.45, 0.6, 0.65, 0.65, 0.45, 0.75, 0.35, 0.65, 0.35, 0.4, 0.6, 0.45, 0.6, 0.3, 0.55, 0.55, 0.6]\n",
            "0.4\n",
            "[0.45, 0.5, 0.4, 0.4, 0.5, 0.75, 0.6, 0.4, 0.5, 0.6, 0.45, 0.6, 0.65, 0.65, 0.45, 0.75, 0.35, 0.65, 0.35, 0.4, 0.6, 0.45, 0.6, 0.3, 0.55, 0.55, 0.6, 0.4]\n",
            "0.5\n",
            "[0.45, 0.5, 0.4, 0.4, 0.5, 0.75, 0.6, 0.4, 0.5, 0.6, 0.45, 0.6, 0.65, 0.65, 0.45, 0.75, 0.35, 0.65, 0.35, 0.4, 0.6, 0.45, 0.6, 0.3, 0.55, 0.55, 0.6, 0.4, 0.5]\n",
            "0.6\n",
            "[0.45, 0.5, 0.4, 0.4, 0.5, 0.75, 0.6, 0.4, 0.5, 0.6, 0.45, 0.6, 0.65, 0.65, 0.45, 0.75, 0.35, 0.65, 0.35, 0.4, 0.6, 0.45, 0.6, 0.3, 0.55, 0.55, 0.6, 0.4, 0.5, 0.6]\n",
            "0.55\n",
            "[0.45, 0.5, 0.4, 0.4, 0.5, 0.75, 0.6, 0.4, 0.5, 0.6, 0.45, 0.6, 0.65, 0.65, 0.45, 0.75, 0.35, 0.65, 0.35, 0.4, 0.6, 0.45, 0.6, 0.3, 0.55, 0.55, 0.6, 0.4, 0.5, 0.6, 0.55]\n",
            "0.45\n",
            "[0.45, 0.5, 0.4, 0.4, 0.5, 0.75, 0.6, 0.4, 0.5, 0.6, 0.45, 0.6, 0.65, 0.65, 0.45, 0.75, 0.35, 0.65, 0.35, 0.4, 0.6, 0.45, 0.6, 0.3, 0.55, 0.55, 0.6, 0.4, 0.5, 0.6, 0.55, 0.45]\n",
            "0.4\n",
            "[0.45, 0.5, 0.4, 0.4, 0.5, 0.75, 0.6, 0.4, 0.5, 0.6, 0.45, 0.6, 0.65, 0.65, 0.45, 0.75, 0.35, 0.65, 0.35, 0.4, 0.6, 0.45, 0.6, 0.3, 0.55, 0.55, 0.6, 0.4, 0.5, 0.6, 0.55, 0.45, 0.4]\n",
            "0.65\n",
            "[0.45, 0.5, 0.4, 0.4, 0.5, 0.75, 0.6, 0.4, 0.5, 0.6, 0.45, 0.6, 0.65, 0.65, 0.45, 0.75, 0.35, 0.65, 0.35, 0.4, 0.6, 0.45, 0.6, 0.3, 0.55, 0.55, 0.6, 0.4, 0.5, 0.6, 0.55, 0.45, 0.4, 0.65]\n",
            "0.45\n",
            "[0.45, 0.5, 0.4, 0.4, 0.5, 0.75, 0.6, 0.4, 0.5, 0.6, 0.45, 0.6, 0.65, 0.65, 0.45, 0.75, 0.35, 0.65, 0.35, 0.4, 0.6, 0.45, 0.6, 0.3, 0.55, 0.55, 0.6, 0.4, 0.5, 0.6, 0.55, 0.45, 0.4, 0.65, 0.45]\n",
            "0.45\n",
            "[0.45, 0.5, 0.4, 0.4, 0.5, 0.75, 0.6, 0.4, 0.5, 0.6, 0.45, 0.6, 0.65, 0.65, 0.45, 0.75, 0.35, 0.65, 0.35, 0.4, 0.6, 0.45, 0.6, 0.3, 0.55, 0.55, 0.6, 0.4, 0.5, 0.6, 0.55, 0.45, 0.4, 0.65, 0.45, 0.45]\n",
            "0.45\n",
            "[0.45, 0.5, 0.4, 0.4, 0.5, 0.75, 0.6, 0.4, 0.5, 0.6, 0.45, 0.6, 0.65, 0.65, 0.45, 0.75, 0.35, 0.65, 0.35, 0.4, 0.6, 0.45, 0.6, 0.3, 0.55, 0.55, 0.6, 0.4, 0.5, 0.6, 0.55, 0.45, 0.4, 0.65, 0.45, 0.45, 0.45]\n",
            "0.65\n",
            "[0.45, 0.5, 0.4, 0.4, 0.5, 0.75, 0.6, 0.4, 0.5, 0.6, 0.45, 0.6, 0.65, 0.65, 0.45, 0.75, 0.35, 0.65, 0.35, 0.4, 0.6, 0.45, 0.6, 0.3, 0.55, 0.55, 0.6, 0.4, 0.5, 0.6, 0.55, 0.45, 0.4, 0.65, 0.45, 0.45, 0.45, 0.65]\n",
            "0.7\n",
            "[0.45, 0.5, 0.4, 0.4, 0.5, 0.75, 0.6, 0.4, 0.5, 0.6, 0.45, 0.6, 0.65, 0.65, 0.45, 0.75, 0.35, 0.65, 0.35, 0.4, 0.6, 0.45, 0.6, 0.3, 0.55, 0.55, 0.6, 0.4, 0.5, 0.6, 0.55, 0.45, 0.4, 0.65, 0.45, 0.45, 0.45, 0.65, 0.7]\n",
            "0.5\n",
            "[0.45, 0.5, 0.4, 0.4, 0.5, 0.75, 0.6, 0.4, 0.5, 0.6, 0.45, 0.6, 0.65, 0.65, 0.45, 0.75, 0.35, 0.65, 0.35, 0.4, 0.6, 0.45, 0.6, 0.3, 0.55, 0.55, 0.6, 0.4, 0.5, 0.6, 0.55, 0.45, 0.4, 0.65, 0.45, 0.45, 0.45, 0.65, 0.7, 0.5]\n",
            "0.4\n",
            "[0.45, 0.5, 0.4, 0.4, 0.5, 0.75, 0.6, 0.4, 0.5, 0.6, 0.45, 0.6, 0.65, 0.65, 0.45, 0.75, 0.35, 0.65, 0.35, 0.4, 0.6, 0.45, 0.6, 0.3, 0.55, 0.55, 0.6, 0.4, 0.5, 0.6, 0.55, 0.45, 0.4, 0.65, 0.45, 0.45, 0.45, 0.65, 0.7, 0.5, 0.4]\n",
            "0.65\n",
            "[0.45, 0.5, 0.4, 0.4, 0.5, 0.75, 0.6, 0.4, 0.5, 0.6, 0.45, 0.6, 0.65, 0.65, 0.45, 0.75, 0.35, 0.65, 0.35, 0.4, 0.6, 0.45, 0.6, 0.3, 0.55, 0.55, 0.6, 0.4, 0.5, 0.6, 0.55, 0.45, 0.4, 0.65, 0.45, 0.45, 0.45, 0.65, 0.7, 0.5, 0.4, 0.65]\n",
            "0.55\n",
            "[0.45, 0.5, 0.4, 0.4, 0.5, 0.75, 0.6, 0.4, 0.5, 0.6, 0.45, 0.6, 0.65, 0.65, 0.45, 0.75, 0.35, 0.65, 0.35, 0.4, 0.6, 0.45, 0.6, 0.3, 0.55, 0.55, 0.6, 0.4, 0.5, 0.6, 0.55, 0.45, 0.4, 0.65, 0.45, 0.45, 0.45, 0.65, 0.7, 0.5, 0.4, 0.65, 0.55]\n",
            "0.55\n",
            "[0.45, 0.5, 0.4, 0.4, 0.5, 0.75, 0.6, 0.4, 0.5, 0.6, 0.45, 0.6, 0.65, 0.65, 0.45, 0.75, 0.35, 0.65, 0.35, 0.4, 0.6, 0.45, 0.6, 0.3, 0.55, 0.55, 0.6, 0.4, 0.5, 0.6, 0.55, 0.45, 0.4, 0.65, 0.45, 0.45, 0.45, 0.65, 0.7, 0.5, 0.4, 0.65, 0.55, 0.55]\n",
            "0.5\n",
            "[0.45, 0.5, 0.4, 0.4, 0.5, 0.75, 0.6, 0.4, 0.5, 0.6, 0.45, 0.6, 0.65, 0.65, 0.45, 0.75, 0.35, 0.65, 0.35, 0.4, 0.6, 0.45, 0.6, 0.3, 0.55, 0.55, 0.6, 0.4, 0.5, 0.6, 0.55, 0.45, 0.4, 0.65, 0.45, 0.45, 0.45, 0.65, 0.7, 0.5, 0.4, 0.65, 0.55, 0.55, 0.5]\n",
            "0.45\n",
            "[0.45, 0.5, 0.4, 0.4, 0.5, 0.75, 0.6, 0.4, 0.5, 0.6, 0.45, 0.6, 0.65, 0.65, 0.45, 0.75, 0.35, 0.65, 0.35, 0.4, 0.6, 0.45, 0.6, 0.3, 0.55, 0.55, 0.6, 0.4, 0.5, 0.6, 0.55, 0.45, 0.4, 0.65, 0.45, 0.45, 0.45, 0.65, 0.7, 0.5, 0.4, 0.65, 0.55, 0.55, 0.5, 0.45]\n",
            "0.4\n",
            "[0.45, 0.5, 0.4, 0.4, 0.5, 0.75, 0.6, 0.4, 0.5, 0.6, 0.45, 0.6, 0.65, 0.65, 0.45, 0.75, 0.35, 0.65, 0.35, 0.4, 0.6, 0.45, 0.6, 0.3, 0.55, 0.55, 0.6, 0.4, 0.5, 0.6, 0.55, 0.45, 0.4, 0.65, 0.45, 0.45, 0.45, 0.65, 0.7, 0.5, 0.4, 0.65, 0.55, 0.55, 0.5, 0.45, 0.4]\n",
            "0.4\n",
            "[0.45, 0.5, 0.4, 0.4, 0.5, 0.75, 0.6, 0.4, 0.5, 0.6, 0.45, 0.6, 0.65, 0.65, 0.45, 0.75, 0.35, 0.65, 0.35, 0.4, 0.6, 0.45, 0.6, 0.3, 0.55, 0.55, 0.6, 0.4, 0.5, 0.6, 0.55, 0.45, 0.4, 0.65, 0.45, 0.45, 0.45, 0.65, 0.7, 0.5, 0.4, 0.65, 0.55, 0.55, 0.5, 0.45, 0.4, 0.4]\n",
            "0.7\n",
            "[0.45, 0.5, 0.4, 0.4, 0.5, 0.75, 0.6, 0.4, 0.5, 0.6, 0.45, 0.6, 0.65, 0.65, 0.45, 0.75, 0.35, 0.65, 0.35, 0.4, 0.6, 0.45, 0.6, 0.3, 0.55, 0.55, 0.6, 0.4, 0.5, 0.6, 0.55, 0.45, 0.4, 0.65, 0.45, 0.45, 0.45, 0.65, 0.7, 0.5, 0.4, 0.65, 0.55, 0.55, 0.5, 0.45, 0.4, 0.4, 0.7]\n",
            "0.5\n",
            "[0.45, 0.5, 0.4, 0.4, 0.5, 0.75, 0.6, 0.4, 0.5, 0.6, 0.45, 0.6, 0.65, 0.65, 0.45, 0.75, 0.35, 0.65, 0.35, 0.4, 0.6, 0.45, 0.6, 0.3, 0.55, 0.55, 0.6, 0.4, 0.5, 0.6, 0.55, 0.45, 0.4, 0.65, 0.45, 0.45, 0.45, 0.65, 0.7, 0.5, 0.4, 0.65, 0.55, 0.55, 0.5, 0.45, 0.4, 0.4, 0.7, 0.5]\n",
            "0.5\n",
            "[0.45, 0.5, 0.4, 0.4, 0.5, 0.75, 0.6, 0.4, 0.5, 0.6, 0.45, 0.6, 0.65, 0.65, 0.45, 0.75, 0.35, 0.65, 0.35, 0.4, 0.6, 0.45, 0.6, 0.3, 0.55, 0.55, 0.6, 0.4, 0.5, 0.6, 0.55, 0.45, 0.4, 0.65, 0.45, 0.45, 0.45, 0.65, 0.7, 0.5, 0.4, 0.65, 0.55, 0.55, 0.5, 0.45, 0.4, 0.4, 0.7, 0.5, 0.5]\n",
            "0.55\n",
            "[0.45, 0.5, 0.4, 0.4, 0.5, 0.75, 0.6, 0.4, 0.5, 0.6, 0.45, 0.6, 0.65, 0.65, 0.45, 0.75, 0.35, 0.65, 0.35, 0.4, 0.6, 0.45, 0.6, 0.3, 0.55, 0.55, 0.6, 0.4, 0.5, 0.6, 0.55, 0.45, 0.4, 0.65, 0.45, 0.45, 0.45, 0.65, 0.7, 0.5, 0.4, 0.65, 0.55, 0.55, 0.5, 0.45, 0.4, 0.4, 0.7, 0.5, 0.5, 0.55]\n",
            "0.45\n",
            "[0.45, 0.5, 0.4, 0.4, 0.5, 0.75, 0.6, 0.4, 0.5, 0.6, 0.45, 0.6, 0.65, 0.65, 0.45, 0.75, 0.35, 0.65, 0.35, 0.4, 0.6, 0.45, 0.6, 0.3, 0.55, 0.55, 0.6, 0.4, 0.5, 0.6, 0.55, 0.45, 0.4, 0.65, 0.45, 0.45, 0.45, 0.65, 0.7, 0.5, 0.4, 0.65, 0.55, 0.55, 0.5, 0.45, 0.4, 0.4, 0.7, 0.5, 0.5, 0.55, 0.45]\n",
            "0.65\n",
            "[0.45, 0.5, 0.4, 0.4, 0.5, 0.75, 0.6, 0.4, 0.5, 0.6, 0.45, 0.6, 0.65, 0.65, 0.45, 0.75, 0.35, 0.65, 0.35, 0.4, 0.6, 0.45, 0.6, 0.3, 0.55, 0.55, 0.6, 0.4, 0.5, 0.6, 0.55, 0.45, 0.4, 0.65, 0.45, 0.45, 0.45, 0.65, 0.7, 0.5, 0.4, 0.65, 0.55, 0.55, 0.5, 0.45, 0.4, 0.4, 0.7, 0.5, 0.5, 0.55, 0.45, 0.65]\n",
            "0.75\n",
            "[0.45, 0.5, 0.4, 0.4, 0.5, 0.75, 0.6, 0.4, 0.5, 0.6, 0.45, 0.6, 0.65, 0.65, 0.45, 0.75, 0.35, 0.65, 0.35, 0.4, 0.6, 0.45, 0.6, 0.3, 0.55, 0.55, 0.6, 0.4, 0.5, 0.6, 0.55, 0.45, 0.4, 0.65, 0.45, 0.45, 0.45, 0.65, 0.7, 0.5, 0.4, 0.65, 0.55, 0.55, 0.5, 0.45, 0.4, 0.4, 0.7, 0.5, 0.5, 0.55, 0.45, 0.65, 0.75]\n",
            "0.45\n",
            "[0.45, 0.5, 0.4, 0.4, 0.5, 0.75, 0.6, 0.4, 0.5, 0.6, 0.45, 0.6, 0.65, 0.65, 0.45, 0.75, 0.35, 0.65, 0.35, 0.4, 0.6, 0.45, 0.6, 0.3, 0.55, 0.55, 0.6, 0.4, 0.5, 0.6, 0.55, 0.45, 0.4, 0.65, 0.45, 0.45, 0.45, 0.65, 0.7, 0.5, 0.4, 0.65, 0.55, 0.55, 0.5, 0.45, 0.4, 0.4, 0.7, 0.5, 0.5, 0.55, 0.45, 0.65, 0.75, 0.45]\n",
            "0.5\n",
            "[0.45, 0.5, 0.4, 0.4, 0.5, 0.75, 0.6, 0.4, 0.5, 0.6, 0.45, 0.6, 0.65, 0.65, 0.45, 0.75, 0.35, 0.65, 0.35, 0.4, 0.6, 0.45, 0.6, 0.3, 0.55, 0.55, 0.6, 0.4, 0.5, 0.6, 0.55, 0.45, 0.4, 0.65, 0.45, 0.45, 0.45, 0.65, 0.7, 0.5, 0.4, 0.65, 0.55, 0.55, 0.5, 0.45, 0.4, 0.4, 0.7, 0.5, 0.5, 0.55, 0.45, 0.65, 0.75, 0.45, 0.5]\n",
            "0.6\n",
            "[0.45, 0.5, 0.4, 0.4, 0.5, 0.75, 0.6, 0.4, 0.5, 0.6, 0.45, 0.6, 0.65, 0.65, 0.45, 0.75, 0.35, 0.65, 0.35, 0.4, 0.6, 0.45, 0.6, 0.3, 0.55, 0.55, 0.6, 0.4, 0.5, 0.6, 0.55, 0.45, 0.4, 0.65, 0.45, 0.45, 0.45, 0.65, 0.7, 0.5, 0.4, 0.65, 0.55, 0.55, 0.5, 0.45, 0.4, 0.4, 0.7, 0.5, 0.5, 0.55, 0.45, 0.65, 0.75, 0.45, 0.5, 0.6]\n",
            "0.65\n",
            "[0.45, 0.5, 0.4, 0.4, 0.5, 0.75, 0.6, 0.4, 0.5, 0.6, 0.45, 0.6, 0.65, 0.65, 0.45, 0.75, 0.35, 0.65, 0.35, 0.4, 0.6, 0.45, 0.6, 0.3, 0.55, 0.55, 0.6, 0.4, 0.5, 0.6, 0.55, 0.45, 0.4, 0.65, 0.45, 0.45, 0.45, 0.65, 0.7, 0.5, 0.4, 0.65, 0.55, 0.55, 0.5, 0.45, 0.4, 0.4, 0.7, 0.5, 0.5, 0.55, 0.45, 0.65, 0.75, 0.45, 0.5, 0.6, 0.65]\n",
            "0.5\n",
            "[0.45, 0.5, 0.4, 0.4, 0.5, 0.75, 0.6, 0.4, 0.5, 0.6, 0.45, 0.6, 0.65, 0.65, 0.45, 0.75, 0.35, 0.65, 0.35, 0.4, 0.6, 0.45, 0.6, 0.3, 0.55, 0.55, 0.6, 0.4, 0.5, 0.6, 0.55, 0.45, 0.4, 0.65, 0.45, 0.45, 0.45, 0.65, 0.7, 0.5, 0.4, 0.65, 0.55, 0.55, 0.5, 0.45, 0.4, 0.4, 0.7, 0.5, 0.5, 0.55, 0.45, 0.65, 0.75, 0.45, 0.5, 0.6, 0.65, 0.5]\n",
            "[0.45, 0.5, 0.4, 0.4, 0.5, 0.75, 0.6, 0.4, 0.5, 0.6, 0.45, 0.6, 0.65, 0.65, 0.45, 0.75, 0.35, 0.65, 0.35, 0.4, 0.6, 0.45, 0.6, 0.3, 0.55, 0.55, 0.6, 0.4, 0.5, 0.6, 0.55, 0.45, 0.4, 0.65, 0.45, 0.45, 0.45, 0.65, 0.7, 0.5, 0.4, 0.65, 0.55, 0.55, 0.5, 0.45, 0.4, 0.4, 0.7, 0.5, 0.5, 0.55, 0.45, 0.65, 0.75, 0.45, 0.5, 0.6, 0.65, 0.5]\n",
            "Final average accuracy 0.525  std  0.10858944086174617\n"
          ],
          "name": "stdout"
        }
      ]
    },
    {
      "cell_type": "code",
      "metadata": {
        "colab": {
          "base_uri": "https://localhost:8080/",
          "height": 442
        },
        "id": "rJ9jBesJ8wCt",
        "outputId": "7f5e501c-9d0b-4ffe-e758-23a016d237fa"
      },
      "source": [
        "import seaborn as sns\n",
        "import numpy as np\n",
        "from sklearn.model_selection import GridSearchCV\n",
        "import matplotlib.pyplot as plt\n",
        "from sklearn.model_selection import train_test_split\n",
        "from scipy.stats import randint, uniform\n",
        "X_train, X_test, y_train, y_test = train_test_split(X, y, test_size=0.2, random_state=42)\n",
        "alpha = [0.1,1.0,10.0]\n",
        "#param_grid = {'kernel':['rbf', 'poly'], 'C': np.random.randint(low=1,high=100), 'gamma': uniform(loc=0, scale=1)}\n",
        "param_grid = {'alpha': alpha }\n",
        "#result = svm.SVC(C = 1, degree = 2, gamma = 0.1, kernel = 'poly')\n",
        "print(param_grid)\n",
        "grid = GridSearchCV(RidgeClassifier(), param_grid, cv=10)\n",
        "grid.fit(X_train, y_train)\n",
        "print(\"Best cross-validation score: {:.2f}\".format(grid.best_score_))\n",
        "print(\"Best parameters: \", grid.best_params_)\n",
        "import pandas as pd\n",
        "pvt = pd.pivot_table(pd.DataFrame(grid.cv_results_),\n",
        "    values='mean_test_score', index= alpha, columns=' ')\n",
        "ax = sns.heatmap(pvt)\n",
        "plt.show()\n",
        "#C = 1, degree = 2, gamma = 0.1, kernel = 'poly'"
      ],
      "execution_count": 43,
      "outputs": [
        {
          "output_type": "stream",
          "text": [
            "{'alpha': [0.1, 1.0, 10.0]}\n",
            "Best cross-validation score: 0.51\n",
            "Best parameters:  {'alpha': 0.1}\n"
          ],
          "name": "stdout"
        },
        {
          "output_type": "error",
          "ename": "KeyError",
          "evalue": "ignored",
          "traceback": [
            "\u001b[0;31m---------------------------------------------------------------------------\u001b[0m",
            "\u001b[0;31mKeyError\u001b[0m                                  Traceback (most recent call last)",
            "\u001b[0;32m<ipython-input-43-7fabebf6f725>\u001b[0m in \u001b[0;36m<module>\u001b[0;34m()\u001b[0m\n\u001b[1;32m     17\u001b[0m \u001b[0;32mimport\u001b[0m \u001b[0mpandas\u001b[0m \u001b[0;32mas\u001b[0m \u001b[0mpd\u001b[0m\u001b[0;34m\u001b[0m\u001b[0;34m\u001b[0m\u001b[0m\n\u001b[1;32m     18\u001b[0m pvt = pd.pivot_table(pd.DataFrame(grid.cv_results_),\n\u001b[0;32m---> 19\u001b[0;31m     values='mean_test_score', index= alpha, columns=' ')\n\u001b[0m\u001b[1;32m     20\u001b[0m \u001b[0max\u001b[0m \u001b[0;34m=\u001b[0m \u001b[0msns\u001b[0m\u001b[0;34m.\u001b[0m\u001b[0mheatmap\u001b[0m\u001b[0;34m(\u001b[0m\u001b[0mpvt\u001b[0m\u001b[0;34m)\u001b[0m\u001b[0;34m\u001b[0m\u001b[0;34m\u001b[0m\u001b[0m\n\u001b[1;32m     21\u001b[0m \u001b[0mplt\u001b[0m\u001b[0;34m.\u001b[0m\u001b[0mshow\u001b[0m\u001b[0;34m(\u001b[0m\u001b[0;34m)\u001b[0m\u001b[0;34m\u001b[0m\u001b[0;34m\u001b[0m\u001b[0m\n",
            "\u001b[0;32m/usr/local/lib/python3.7/dist-packages/pandas/core/reshape/pivot.py\u001b[0m in \u001b[0;36mpivot_table\u001b[0;34m(data, values, index, columns, aggfunc, fill_value, margins, dropna, margins_name, observed)\u001b[0m\n\u001b[1;32m    109\u001b[0m         \u001b[0mvalues\u001b[0m \u001b[0;34m=\u001b[0m \u001b[0mlist\u001b[0m\u001b[0;34m(\u001b[0m\u001b[0mvalues\u001b[0m\u001b[0;34m)\u001b[0m\u001b[0;34m\u001b[0m\u001b[0;34m\u001b[0m\u001b[0m\n\u001b[1;32m    110\u001b[0m \u001b[0;34m\u001b[0m\u001b[0m\n\u001b[0;32m--> 111\u001b[0;31m     \u001b[0mgrouped\u001b[0m \u001b[0;34m=\u001b[0m \u001b[0mdata\u001b[0m\u001b[0;34m.\u001b[0m\u001b[0mgroupby\u001b[0m\u001b[0;34m(\u001b[0m\u001b[0mkeys\u001b[0m\u001b[0;34m,\u001b[0m \u001b[0mobserved\u001b[0m\u001b[0;34m=\u001b[0m\u001b[0mobserved\u001b[0m\u001b[0;34m)\u001b[0m\u001b[0;34m\u001b[0m\u001b[0;34m\u001b[0m\u001b[0m\n\u001b[0m\u001b[1;32m    112\u001b[0m     \u001b[0magged\u001b[0m \u001b[0;34m=\u001b[0m \u001b[0mgrouped\u001b[0m\u001b[0;34m.\u001b[0m\u001b[0magg\u001b[0m\u001b[0;34m(\u001b[0m\u001b[0maggfunc\u001b[0m\u001b[0;34m)\u001b[0m\u001b[0;34m\u001b[0m\u001b[0;34m\u001b[0m\u001b[0m\n\u001b[1;32m    113\u001b[0m     \u001b[0;32mif\u001b[0m \u001b[0mdropna\u001b[0m \u001b[0;32mand\u001b[0m \u001b[0misinstance\u001b[0m\u001b[0;34m(\u001b[0m\u001b[0magged\u001b[0m\u001b[0;34m,\u001b[0m \u001b[0mABCDataFrame\u001b[0m\u001b[0;34m)\u001b[0m \u001b[0;32mand\u001b[0m \u001b[0mlen\u001b[0m\u001b[0;34m(\u001b[0m\u001b[0magged\u001b[0m\u001b[0;34m.\u001b[0m\u001b[0mcolumns\u001b[0m\u001b[0;34m)\u001b[0m\u001b[0;34m:\u001b[0m\u001b[0;34m\u001b[0m\u001b[0;34m\u001b[0m\u001b[0m\n",
            "\u001b[0;32m/usr/local/lib/python3.7/dist-packages/pandas/core/frame.py\u001b[0m in \u001b[0;36mgroupby\u001b[0;34m(self, by, axis, level, as_index, sort, group_keys, squeeze, observed, dropna)\u001b[0m\n\u001b[1;32m   6523\u001b[0m             \u001b[0msqueeze\u001b[0m\u001b[0;34m=\u001b[0m\u001b[0msqueeze\u001b[0m\u001b[0;34m,\u001b[0m\u001b[0;34m\u001b[0m\u001b[0;34m\u001b[0m\u001b[0m\n\u001b[1;32m   6524\u001b[0m             \u001b[0mobserved\u001b[0m\u001b[0;34m=\u001b[0m\u001b[0mobserved\u001b[0m\u001b[0;34m,\u001b[0m\u001b[0;34m\u001b[0m\u001b[0;34m\u001b[0m\u001b[0m\n\u001b[0;32m-> 6525\u001b[0;31m             \u001b[0mdropna\u001b[0m\u001b[0;34m=\u001b[0m\u001b[0mdropna\u001b[0m\u001b[0;34m,\u001b[0m\u001b[0;34m\u001b[0m\u001b[0;34m\u001b[0m\u001b[0m\n\u001b[0m\u001b[1;32m   6526\u001b[0m         )\n\u001b[1;32m   6527\u001b[0m \u001b[0;34m\u001b[0m\u001b[0m\n",
            "\u001b[0;32m/usr/local/lib/python3.7/dist-packages/pandas/core/groupby/groupby.py\u001b[0m in \u001b[0;36m__init__\u001b[0;34m(self, obj, keys, axis, level, grouper, exclusions, selection, as_index, sort, group_keys, squeeze, observed, mutated, dropna)\u001b[0m\n\u001b[1;32m    531\u001b[0m                 \u001b[0mobserved\u001b[0m\u001b[0;34m=\u001b[0m\u001b[0mobserved\u001b[0m\u001b[0;34m,\u001b[0m\u001b[0;34m\u001b[0m\u001b[0;34m\u001b[0m\u001b[0m\n\u001b[1;32m    532\u001b[0m                 \u001b[0mmutated\u001b[0m\u001b[0;34m=\u001b[0m\u001b[0mself\u001b[0m\u001b[0;34m.\u001b[0m\u001b[0mmutated\u001b[0m\u001b[0;34m,\u001b[0m\u001b[0;34m\u001b[0m\u001b[0;34m\u001b[0m\u001b[0m\n\u001b[0;32m--> 533\u001b[0;31m                 \u001b[0mdropna\u001b[0m\u001b[0;34m=\u001b[0m\u001b[0mself\u001b[0m\u001b[0;34m.\u001b[0m\u001b[0mdropna\u001b[0m\u001b[0;34m,\u001b[0m\u001b[0;34m\u001b[0m\u001b[0;34m\u001b[0m\u001b[0m\n\u001b[0m\u001b[1;32m    534\u001b[0m             )\n\u001b[1;32m    535\u001b[0m \u001b[0;34m\u001b[0m\u001b[0m\n",
            "\u001b[0;32m/usr/local/lib/python3.7/dist-packages/pandas/core/groupby/grouper.py\u001b[0m in \u001b[0;36mget_grouper\u001b[0;34m(obj, key, axis, level, sort, observed, mutated, validate, dropna)\u001b[0m\n\u001b[1;32m    784\u001b[0m                 \u001b[0min_axis\u001b[0m\u001b[0;34m,\u001b[0m \u001b[0mname\u001b[0m\u001b[0;34m,\u001b[0m \u001b[0mlevel\u001b[0m\u001b[0;34m,\u001b[0m \u001b[0mgpr\u001b[0m \u001b[0;34m=\u001b[0m \u001b[0;32mFalse\u001b[0m\u001b[0;34m,\u001b[0m \u001b[0;32mNone\u001b[0m\u001b[0;34m,\u001b[0m \u001b[0mgpr\u001b[0m\u001b[0;34m,\u001b[0m \u001b[0;32mNone\u001b[0m\u001b[0;34m\u001b[0m\u001b[0;34m\u001b[0m\u001b[0m\n\u001b[1;32m    785\u001b[0m             \u001b[0;32melse\u001b[0m\u001b[0;34m:\u001b[0m\u001b[0;34m\u001b[0m\u001b[0;34m\u001b[0m\u001b[0m\n\u001b[0;32m--> 786\u001b[0;31m                 \u001b[0;32mraise\u001b[0m \u001b[0mKeyError\u001b[0m\u001b[0;34m(\u001b[0m\u001b[0mgpr\u001b[0m\u001b[0;34m)\u001b[0m\u001b[0;34m\u001b[0m\u001b[0;34m\u001b[0m\u001b[0m\n\u001b[0m\u001b[1;32m    787\u001b[0m         \u001b[0;32melif\u001b[0m \u001b[0misinstance\u001b[0m\u001b[0;34m(\u001b[0m\u001b[0mgpr\u001b[0m\u001b[0;34m,\u001b[0m \u001b[0mGrouper\u001b[0m\u001b[0;34m)\u001b[0m \u001b[0;32mand\u001b[0m \u001b[0mgpr\u001b[0m\u001b[0;34m.\u001b[0m\u001b[0mkey\u001b[0m \u001b[0;32mis\u001b[0m \u001b[0;32mnot\u001b[0m \u001b[0;32mNone\u001b[0m\u001b[0;34m:\u001b[0m\u001b[0;34m\u001b[0m\u001b[0;34m\u001b[0m\u001b[0m\n\u001b[1;32m    788\u001b[0m             \u001b[0;31m# Add key to exclusions\u001b[0m\u001b[0;34m\u001b[0m\u001b[0;34m\u001b[0m\u001b[0;34m\u001b[0m\u001b[0m\n",
            "\u001b[0;31mKeyError\u001b[0m: 0.1"
          ]
        }
      ]
    },
    {
      "cell_type": "code",
      "metadata": {
        "colab": {
          "base_uri": "https://localhost:8080/"
        },
        "id": "SsRaOx-_qZpj",
        "outputId": "a18c50db-0757-42d8-e935-f9e10c46f268"
      },
      "source": [
        "from sklearn.metrics import confusion_matrix\n",
        "confusion_matrix(y_test, prediction)"
      ],
      "execution_count": 16,
      "outputs": [
        {
          "output_type": "execute_result",
          "data": {
            "text/plain": [
              "array([[5, 5],\n",
              "       [5, 5]])"
            ]
          },
          "metadata": {
            "tags": []
          },
          "execution_count": 16
        }
      ]
    }
  ]
}